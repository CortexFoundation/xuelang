{
 "cells": [
  {
   "cell_type": "code",
   "execution_count": 13,
   "metadata": {
    "ExecuteTime": {
     "end_time": "2018-07-19T14:44:53.321276Z",
     "start_time": "2018-07-19T14:44:50.809814Z"
    }
   },
   "outputs": [],
   "source": [
    "from tqdm import tqdm\n",
    "from glob import glob\n",
    "import shutil\n",
    "import os\n",
    "import cv2\n",
    "import numpy as np\n",
    "import skimage.measure\n",
    "import random\n",
    "import xml.etree.ElementTree as ET\n",
    "\n",
    "from IPython.display import *\n",
    "def show(img):\n",
    "    cv2.imwrite('test.jpg', img, [int(cv2.IMWRITE_JPEG_QUALITY), 50])\n",
    "    display(Image('test.jpg'))"
   ]
  },
  {
   "cell_type": "code",
   "execution_count": 11,
   "metadata": {
    "ExecuteTime": {
     "end_time": "2018-07-19T14:44:01.281407Z",
     "start_time": "2018-07-19T14:44:01.244275Z"
    }
   },
   "outputs": [],
   "source": [
    "fnames = [x for x in glob('/home/ypw/data/xuelang/xuelang_round1_train*/*/*.jpg') if '正常' not in x]"
   ]
  },
  {
   "cell_type": "code",
   "execution_count": null,
   "metadata": {
    "ExecuteTime": {
     "start_time": "2018-07-19T14:45:08.068Z"
    }
   },
   "outputs": [],
   "source": [
    "fname = random.choice(fnames)\n",
    "img = cv2.imread(fname)\n",
    "show(img)"
   ]
  },
  {
   "cell_type": "code",
   "execution_count": null,
   "metadata": {},
   "outputs": [],
   "source": []
  }
 ],
 "metadata": {
  "kernelspec": {
   "display_name": "Python 3",
   "language": "python",
   "name": "python3"
  },
  "language_info": {
   "codemirror_mode": {
    "name": "ipython",
    "version": 3
   },
   "file_extension": ".py",
   "mimetype": "text/x-python",
   "name": "python",
   "nbconvert_exporter": "python",
   "pygments_lexer": "ipython3",
   "version": "3.6.5"
  }
 },
 "nbformat": 4,
 "nbformat_minor": 2
}
