{
 "cells": [
  {
   "cell_type": "code",
   "execution_count": 1,
   "metadata": {
    "ExecuteTime": {
     "end_time": "2018-08-01T10:45:13.540422Z",
     "start_time": "2018-08-01T10:45:11.560509Z"
    }
   },
   "outputs": [
    {
     "name": "stderr",
     "output_type": "stream",
     "text": [
      "Using TensorFlow backend.\n"
     ]
    }
   ],
   "source": [
    "from keras.models import *\n",
    "from keras.layers import *\n",
    "from keras.callbacks import *\n",
    "from keras.optimizers import *\n",
    "from keras.applications import *\n",
    "from keras.applications import imagenet_utils\n",
    "from keras.preprocessing.image import *\n",
    "from keras.utils import multi_gpu_model\n",
    "\n",
    "from IPython.display import SVG\n",
    "from keras.utils.vis_utils import model_to_dot\n",
    "\n",
    "from glob import glob\n",
    "from tqdm import tqdm\n",
    "import numpy as np\n",
    "import cv2\n",
    "import matplotlib.pyplot as plt\n",
    "import matplotlib.image as mpimg\n",
    "\n",
    "from sklearn.metrics import *\n",
    "\n",
    "import multiprocessing\n",
    "from multiprocessing.dummy import Pool\n",
    "from pprint import pprint\n",
    "\n",
    "import os\n",
    "os.environ['CUDA_VISIBLE_DEVICES'] = '4,5,6,7'\n",
    "n_gpus = len(os.environ['CUDA_VISIBLE_DEVICES'].split(','))"
   ]
  },
  {
   "cell_type": "code",
   "execution_count": 2,
   "metadata": {
    "ExecuteTime": {
     "end_time": "2018-08-01T10:45:13.545592Z",
     "start_time": "2018-08-01T10:45:13.542232Z"
    }
   },
   "outputs": [],
   "source": [
    "batch_size = 4\n",
    "model_name = 'xception'\n",
    "preprocess_func = inception_resnet_v2.preprocess_input\n",
    "MODEL = InceptionResNetV2\n",
    "\n",
    "f = 2\n",
    "width = int(2560 / f)\n",
    "height = int(1920 / f)\n",
    "classes = ['正常', '吊经', '擦洞', '跳花', '毛洞', '织稀', '扎洞', '缺经', '毛斑', '其他']\n",
    "n_classes = len(classes)"
   ]
  },
  {
   "cell_type": "code",
   "execution_count": 3,
   "metadata": {
    "ExecuteTime": {
     "end_time": "2018-08-01T10:45:13.669728Z",
     "start_time": "2018-08-01T10:45:13.547396Z"
    }
   },
   "outputs": [
    {
     "name": "stdout",
     "output_type": "stream",
     "text": [
      "Found 662 images belonging to 1 classes.\n"
     ]
    }
   ],
   "source": [
    "idg = ImageDataGenerator()\n",
    "gen_test = idg.flow_from_directory('test', target_size=(height, width), shuffle=False, \n",
    "                                    class_mode=None, batch_size=batch_size)"
   ]
  },
  {
   "cell_type": "code",
   "execution_count": 4,
   "metadata": {
    "ExecuteTime": {
     "end_time": "2018-08-01T10:45:13.803076Z",
     "start_time": "2018-08-01T10:45:13.672787Z"
    }
   },
   "outputs": [
    {
     "name": "stdout",
     "output_type": "stream",
     "text": [
      "models/irv2_0801-0.000100-100-0.934272.h5\r\n",
      "models/irv2_0801-0.000100-51-0.943235.h5\r\n",
      "models/irv2_0801-0.000100-52-0.945849.h5\r\n",
      "models/irv2_0801-0.000100-53-0.947397.h5\r\n",
      "models/irv2_0801-0.000100-54-0.948624.h5\r\n",
      "models/irv2_0801-0.000100-55-0.947023.h5\r\n",
      "models/irv2_0801-0.000100-56-0.951451.h5\r\n",
      "models/irv2_0801-0.000100-57-0.952251.h5\r\n",
      "models/irv2_0801-0.000100-58-0.941155.h5\r\n",
      "models/irv2_0801-0.000100-59-0.944516.h5\r\n",
      "models/irv2_0801-0.000100-60-0.954225.h5\r\n",
      "models/irv2_0801-0.000100-61-0.951131.h5\r\n",
      "models/irv2_0801-0.000100-62-0.950384.h5\r\n",
      "models/irv2_0801-0.000100-63-0.946116.h5\r\n",
      "models/irv2_0801-0.000100-64-0.944942.h5\r\n",
      "models/irv2_0801-0.000100-65-0.951985.h5\r\n",
      "models/irv2_0801-0.000100-66-0.946329.h5\r\n",
      "models/irv2_0801-0.000100-67-0.952732.h5\r\n",
      "models/irv2_0801-0.000100-68-0.950811.h5\r\n",
      "models/irv2_0801-0.000100-69-0.944195.h5\r\n",
      "models/irv2_0801-0.000100-70-0.946116.h5\r\n",
      "models/irv2_0801-0.000100-71-0.949531.h5\r\n",
      "models/irv2_0801-0.000100-72-0.942061.h5\r\n",
      "models/irv2_0801-0.000100-73-0.943982.h5\r\n",
      "models/irv2_0801-0.000100-74-0.940888.h5\r\n",
      "models/irv2_0801-0.000100-75-0.939394.h5\r\n",
      "models/irv2_0801-0.000100-76-0.941528.h5\r\n",
      "models/irv2_0801-0.000100-77-0.937793.h5\r\n",
      "models/irv2_0801-0.000100-78-0.945476.h5\r\n",
      "models/irv2_0801-0.000100-79-0.944516.h5\r\n",
      "models/irv2_0801-0.000100-80-0.941528.h5\r\n",
      "models/irv2_0801-0.000100-81-0.939394.h5\r\n",
      "models/irv2_0801-0.000100-82-0.940781.h5\r\n",
      "models/irv2_0801-0.000100-83-0.939501.h5\r\n",
      "models/irv2_0801-0.000100-84-0.935659.h5\r\n",
      "models/irv2_0801-0.000100-85-0.931071.h5\r\n",
      "models/irv2_0801-0.000100-86-0.942488.h5\r\n",
      "models/irv2_0801-0.000100-87-0.937153.h5\r\n",
      "models/irv2_0801-0.000100-88-0.942915.h5\r\n",
      "models/irv2_0801-0.000100-89-0.942595.h5\r\n",
      "models/irv2_0801-0.000100-90-0.935019.h5\r\n",
      "models/irv2_0801-0.000100-91-0.942275.h5\r\n",
      "models/irv2_0801-0.000100-92-0.942595.h5\r\n",
      "models/irv2_0801-0.000100-93-0.945689.h5\r\n",
      "models/irv2_0801-0.000100-94-0.938967.h5\r\n",
      "models/irv2_0801-0.000100-95-0.945156.h5\r\n",
      "models/irv2_0801-0.000100-96-0.942382.h5\r\n",
      "models/irv2_0801-0.000100-97-0.931285.h5\r\n",
      "models/irv2_0801-0.000100-98-0.945262.h5\r\n",
      "models/irv2_0801-0.000100-99-0.938967.h5\r\n",
      "models/irv2_0801-0.000400-1-0.656637.h5\r\n",
      "models/irv2_0801-0.000550-2-0.732821.h5\r\n",
      "models/irv2_0801-0.000700-3-0.813807.h5\r\n",
      "models/irv2_0801-0.000850-4-0.848858.h5\r\n",
      "models/irv2_0801-0.001000-10-0.895967.h5\r\n",
      "models/irv2_0801-0.001000-11-0.844644.h5\r\n",
      "models/irv2_0801-0.001000-12-0.886364.h5\r\n",
      "models/irv2_0801-0.001000-13-0.886897.h5\r\n",
      "models/irv2_0801-0.001000-14-0.918054.h5\r\n",
      "models/irv2_0801-0.001000-15-0.895006.h5\r\n",
      "models/irv2_0801-0.001000-16-0.922108.h5\r\n",
      "models/irv2_0801-0.001000-17-0.923762.h5\r\n",
      "models/irv2_0801-0.001000-18-0.927817.h5\r\n",
      "models/irv2_0801-0.001000-19-0.925523.h5\r\n",
      "models/irv2_0801-0.001000-20-0.923069.h5\r\n",
      "models/irv2_0801-0.001000-21-0.910478.h5\r\n",
      "models/irv2_0801-0.001000-22-0.918481.h5\r\n",
      "models/irv2_0801-0.001000-23-0.934486.h5\r\n",
      "models/irv2_0801-0.001000-24-0.930858.h5\r\n",
      "models/irv2_0801-0.001000-25-0.935553.h5\r\n",
      "models/irv2_0801-0.001000-26-0.925523.h5\r\n",
      "models/irv2_0801-0.001000-27-0.924136.h5\r\n",
      "models/irv2_0801-0.001000-28-0.885137.h5\r\n",
      "models/irv2_0801-0.001000-29-0.913732.h5\r\n",
      "models/irv2_0801-0.001000-30-0.896447.h5\r\n",
      "models/irv2_0801-0.001000-31-0.932245.h5\r\n",
      "models/irv2_0801-0.001000-32-0.919601.h5\r\n",
      "models/irv2_0801-0.001000-33-0.922002.h5\r\n",
      "models/irv2_0801-0.001000-34-0.930751.h5\r\n",
      "models/irv2_0801-0.001000-35-0.929364.h5\r\n",
      "models/irv2_0801-0.001000-36-0.948784.h5\r\n",
      "models/irv2_0801-0.001000-37-0.931925.h5\r\n",
      "models/irv2_0801-0.001000-38-0.924989.h5\r\n",
      "models/irv2_0801-0.001000-39-0.934913.h5\r\n",
      "models/irv2_0801-0.001000-40-0.911438.h5\r\n",
      "models/irv2_0801-0.001000-41-0.945156.h5\r\n",
      "models/irv2_0801-0.001000-42-0.943982.h5\r\n",
      "models/irv2_0801-0.001000-43-0.939074.h5\r\n",
      "models/irv2_0801-0.001000-44-0.935126.h5\r\n",
      "models/irv2_0801-0.001000-45-0.933739.h5\r\n",
      "models/irv2_0801-0.001000-46-0.918694.h5\r\n",
      "models/irv2_0801-0.001000-47-0.937580.h5\r\n",
      "models/irv2_0801-0.001000-48-0.946970.h5\r\n",
      "models/irv2_0801-0.001000-49-0.941155.h5\r\n",
      "models/irv2_0801-0.001000-50-0.938754.h5\r\n",
      "models/irv2_0801-0.001000-5-0.858675.h5\r\n",
      "models/irv2_0801-0.001000-6-0.867157.h5\r\n",
      "models/irv2_0801-0.001000-7-0.825971.h5\r\n",
      "models/irv2_0801-0.001000-8-0.875907.h5\r\n",
      "models/irv2_0801-0.001000-9-0.899808.h5\r\n"
     ]
    }
   ],
   "source": [
    "!ls models/irv2_0801*"
   ]
  },
  {
   "cell_type": "code",
   "execution_count": 5,
   "metadata": {
    "ExecuteTime": {
     "end_time": "2018-08-01T10:46:10.745265Z",
     "start_time": "2018-08-01T10:45:13.806817Z"
    }
   },
   "outputs": [],
   "source": [
    "base_model = MODEL(include_top=False, weights='imagenet')\n",
    "input_tensor = Input((height, width, 3))\n",
    "x = Lambda(preprocess_func)(input_tensor)\n",
    "x = base_model(x)\n",
    "x = GlobalAvgPool2D()(x)\n",
    "x = Dense(n_classes, activation='softmax')(x)\n",
    "model = Model(input_tensor, x)"
   ]
  },
  {
   "cell_type": "code",
   "execution_count": 6,
   "metadata": {
    "ExecuteTime": {
     "end_time": "2018-08-01T10:46:18.690987Z",
     "start_time": "2018-08-01T10:46:10.747203Z"
    }
   },
   "outputs": [],
   "source": [
    "fname_model = 'models/irv2_0801-0.000100-60-0.954225.h5'\n",
    "model.load_weights(fname_model)"
   ]
  },
  {
   "cell_type": "code",
   "execution_count": 7,
   "metadata": {
    "ExecuteTime": {
     "end_time": "2018-08-01T10:48:17.894614Z",
     "start_time": "2018-08-01T10:46:18.692820Z"
    }
   },
   "outputs": [],
   "source": [
    "model_parallel = multi_gpu_model(model, n_gpus)"
   ]
  },
  {
   "cell_type": "code",
   "execution_count": 8,
   "metadata": {
    "ExecuteTime": {
     "end_time": "2018-08-01T10:49:53.128475Z",
     "start_time": "2018-08-01T10:48:17.896813Z"
    }
   },
   "outputs": [
    {
     "name": "stdout",
     "output_type": "stream",
     "text": [
      "166/166 [==============================] - 95s 573ms/step\n"
     ]
    }
   ],
   "source": [
    "y_pred = model_parallel.predict_generator(gen_test, verbose=1, workers=multiprocessing.cpu_count())"
   ]
  },
  {
   "cell_type": "code",
   "execution_count": 16,
   "metadata": {
    "ExecuteTime": {
     "end_time": "2018-08-01T11:04:29.945618Z",
     "start_time": "2018-08-01T11:04:29.782228Z"
    }
   },
   "outputs": [
    {
     "data": {
      "text/plain": [
       "(array([421.,  15.,  13.,   6.,   5.,   7.,   8.,   7.,   9., 171.]),\n",
       " array([2.48491764e-04, 1.00223643e-01, 2.00198793e-01, 3.00173944e-01,\n",
       "        4.00149095e-01, 5.00124246e-01, 6.00099397e-01, 7.00074548e-01,\n",
       "        8.00049698e-01, 9.00024849e-01, 1.00000000e+00]),\n",
       " <a list of 10 Patch objects>)"
      ]
     },
     "execution_count": 16,
     "metadata": {},
     "output_type": "execute_result"
    },
    {
     "data": {
      "image/png": "[encoded data removed]",
      "text/plain": [
       "<Figure size 432x288 with 1 Axes>"
      ]
     },
     "metadata": {},
     "output_type": "display_data"
    }
   ],
   "source": [
    "y_pred2 = 1 - y_pred[:,0]\n",
    "plt.hist(y_pred2)"
   ]
  },
  {
   "cell_type": "code",
   "execution_count": 27,
   "metadata": {
    "ExecuteTime": {
     "end_time": "2018-08-01T11:09:34.358451Z",
     "start_time": "2018-08-01T11:09:34.347933Z"
    }
   },
   "outputs": [],
   "source": [
    "fname_model2 = fname_model[fname_model.rfind('/')+1:]\n",
    "with open(f'pred_{fname_model2}.csv', 'w') as f:\n",
    "    f.write('filename,probability\\n')\n",
    "    for fname, value in zip(gen_test.filenames, y_pred2):\n",
    "        fname = fname[fname.rfind('/')+1:]\n",
    "        if value == 1:\n",
    "            value -= 1e-9\n",
    "        f.write(f'{fname},{value:.9f}\\n')"
   ]
  },
  {
   "cell_type": "code",
   "execution_count": null,
   "metadata": {},
   "outputs": [],
   "source": []
  }
 ],
 "metadata": {
  "kernelspec": {
   "display_name": "Python 3",
   "language": "python",
   "name": "python3"
  },
  "language_info": {
   "codemirror_mode": {
    "name": "ipython",
    "version": 3
   },
   "file_extension": ".py",
   "mimetype": "text/x-python",
   "name": "python",
   "nbconvert_exporter": "python",
   "pygments_lexer": "ipython3",
   "version": "3.6.5"
  }
 },
 "nbformat": 4,
 "nbformat_minor": 2
}
