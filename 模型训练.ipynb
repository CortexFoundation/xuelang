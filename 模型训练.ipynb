{
 "cells": [
  {
   "cell_type": "code",
   "execution_count": 1,
   "metadata": {},
   "outputs": [
    {
     "name": "stderr",
     "output_type": "stream",
     "text": [
      "Using TensorFlow backend.\n"
     ]
    }
   ],
   "source": [
    "from keras.models import *\n",
    "from keras.layers import *\n",
    "from keras.callbacks import *\n",
    "from keras.optimizers import *\n",
    "from keras.applications import *\n",
    "from keras.preprocessing.image import *\n",
    "\n",
    "from glob import glob\n",
    "from tqdm import tqdm\n",
    "import numpy as np\n",
    "import cv2\n",
    "import matplotlib.pyplot as plt\n",
    "import matplotlib.image as mpimg\n",
    "\n",
    "from sklearn.metrics import *\n",
    "\n",
    "import multiprocessing\n",
    "from multiprocessing.dummy import Pool\n",
    "\n",
    "%matplotlib inline\n",
    "\n",
    "# 图片展示函数\n",
    "def show(image):\n",
    "    img = mpimg.imread(image)\n",
    "    plt.imshow(img)"
   ]
  },
  {
   "cell_type": "code",
   "execution_count": 2,
   "metadata": {},
   "outputs": [
    {
     "name": "stderr",
     "output_type": "stream",
     "text": [
      "100%|██████████| 2022/2022 [03:02<00:00, 13.69it/s]\n"
     ]
    }
   ],
   "source": [
    "width = 224\n",
    "\n",
    "fnames = glob('data/*/*.jpg')\n",
    "class0 = len(glob('data/normal/*.jpg'))\n",
    "class1 = len(glob('data/abnormal/*.jpg'))\n",
    "\n",
    "n = len(fnames)\n",
    "\n",
    "X = np.zeros((n, width, width, 3), dtype=np.uint8)\n",
    "y = np.zeros((n, 1), dtype=np.uint8)\n",
    "\n",
    "def f(index):\n",
    "    return index, cv2.resize(cv2.imread(fnames[index]), (width, width))\n",
    "\n",
    "with Pool(multiprocessing.cpu_count()) as pool:\n",
    "    with tqdm(pool.imap_unordered(f, range(n)), total=n) as pbar:\n",
    "        for i, img in pbar:\n",
    "            X[i] = img\n",
    "            if 'abnormal' in fnames[i]:\n",
    "                y[i] = 1\n",
    "            else:\n",
    "                y[i] = 0"
   ]
  },
  {
   "cell_type": "code",
   "execution_count": 3,
   "metadata": {
    "collapsed": true
   },
   "outputs": [],
   "source": [
    "from sklearn.model_selection import train_test_split\n",
    "X_train, X_valid, y_train, y_valid = train_test_split(X, y, test_size=0.2)"
   ]
  },
  {
   "cell_type": "code",
   "execution_count": 4,
   "metadata": {
    "collapsed": true
   },
   "outputs": [],
   "source": [
    "class RocAucMetricCallback(Callback):\n",
    "    def __init__(self):\n",
    "        super(RocAucMetricCallback, self).__init__()\n",
    "\n",
    "    def on_epoch_end(self, epoch, logs={}):\n",
    "        logs['roc_auc_val']=float('-inf')\n",
    "        y_pred = model.predict(X_valid)\n",
    "        auc = roc_auc_score(y_valid, y_pred)\n",
    "        acc = accuracy_score(y_valid[:,0], y_pred[:,0] > 0.5)\n",
    "        print(f'ACC: {acc:.4f} AUC: {auc:.4f}')"
   ]
  },
  {
   "cell_type": "code",
   "execution_count": 5,
   "metadata": {
    "collapsed": true
   },
   "outputs": [],
   "source": [
    "input_tensor = Input((width, width, 3))\n",
    "\n",
    "x = Lambda(resnet50.preprocess_input)(input_tensor)\n",
    "base_model = ResNet50(include_top=False, weights='imagenet', input_tensor=x)\n",
    "\n",
    "# for layers in base_model.layers:\n",
    "#     layers.trainable = False\n",
    "\n",
    "x = GlobalAveragePooling2D()(base_model.output)\n",
    "x = Dropout(0.5)(x)\n",
    "x = Dense(1, activation='sigmoid')(x)\n",
    "model = Model(input_tensor, x)"
   ]
  },
  {
   "cell_type": "code",
   "execution_count": null,
   "metadata": {
    "scrolled": false
   },
   "outputs": [
    {
     "name": "stdout",
     "output_type": "stream",
     "text": [
      "Epoch 1/7\n",
      "1616/1617 [============================>.] - ETA: 0s - loss: 0.7981 - acc: 0.6324ACC: 0.6568 AUC: 0.6206\n",
      "1617/1617 [==============================] - 622s 385ms/step - loss: 0.7980 - acc: 0.6327\n",
      "Epoch 2/7\n",
      "1616/1617 [============================>.] - ETA: 0s - loss: 0.6611 - acc: 0.6640ACC: 0.6716 AUC: 0.5723\n",
      "1617/1617 [==============================] - 594s 367ms/step - loss: 0.6616 - acc: 0.6636\n",
      "Epoch 3/7\n",
      "1616/1617 [============================>.] - ETA: 0s - loss: 0.6364 - acc: 0.6739ACC: 0.4074 AUC: 0.5472\n",
      "1617/1617 [==============================] - 602s 372ms/step - loss: 0.6363 - acc: 0.6741\n",
      "Epoch 4/7\n",
      "1488/1617 [==========================>...] - ETA: 45s - loss: 0.6367 - acc: 0.6828"
     ]
    }
   ],
   "source": [
    "model.compile(optimizer=Adam(1e-3), \n",
    "              loss='binary_crossentropy',\n",
    "              metrics=['accuracy'])\n",
    "\n",
    "model.fit(X_train, y_train, batch_size=8, epochs=7, callbacks=[RocAucMetricCallback()])"
   ]
  },
  {
   "cell_type": "code",
   "execution_count": null,
   "metadata": {},
   "outputs": [],
   "source": [
    "y_pred = model.predict(X_valid, verbose=1)\n",
    "roc_auc_score(y_valid, y_pred), accuracy_score(y_valid[:,0], y_pred[:,0] > 0.5)"
   ]
  },
  {
   "cell_type": "code",
   "execution_count": 8,
   "metadata": {},
   "outputs": [
    {
     "data": {
      "text/plain": [
       "array([[177,  80],\n",
       "       [ 69,  79]])"
      ]
     },
     "execution_count": 8,
     "metadata": {},
     "output_type": "execute_result"
    }
   ],
   "source": [
    "confusion_matrix(y_valid > 0.5, y_pred > 0.5)"
   ]
  },
  {
   "cell_type": "code",
   "execution_count": 9,
   "metadata": {
    "collapsed": true
   },
   "outputs": [],
   "source": [
    "fnames = glob('xuelang_round1_test_a_20180709/*.jpg')\n",
    "n = len(fnames)"
   ]
  }
 ],
 "metadata": {
  "kernelspec": {
   "display_name": "Python 3",
   "language": "python",
   "name": "python3"
  },
  "language_info": {
   "codemirror_mode": {
    "name": "ipython",
    "version": 3
   },
   "file_extension": ".py",
   "mimetype": "text/x-python",
   "name": "python",
   "nbconvert_exporter": "python",
   "pygments_lexer": "ipython3",
   "version": "3.6.5"
  }
 },
 "nbformat": 4,
 "nbformat_minor": 2
}
