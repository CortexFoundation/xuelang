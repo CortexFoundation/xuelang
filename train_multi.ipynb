{
 "cells": [
  {
   "cell_type": "code",
   "execution_count": 1,
   "metadata": {
    "ExecuteTime": {
     "end_time": "2018-08-01T05:52:44.458686Z",
     "start_time": "2018-08-01T05:52:42.115196Z"
    }
   },
   "outputs": [
    {
     "name": "stderr",
     "output_type": "stream",
     "text": [
      "Using TensorFlow backend.\n"
     ]
    }
   ],
   "source": [
    "from keras.models import *\n",
    "from keras.layers import *\n",
    "from keras.callbacks import *\n",
    "from keras.optimizers import *\n",
    "from keras.applications import *\n",
    "from keras.regularizers import *\n",
    "from keras.preprocessing.image import *\n",
    "from keras.utils.multi_gpu_utils import multi_gpu_model\n",
    "\n",
    "from IPython.display import SVG\n",
    "from keras.utils.vis_utils import model_to_dot, plot_model\n",
    "\n",
    "from glob import glob\n",
    "from tqdm import tqdm\n",
    "import numpy as np\n",
    "import os\n",
    "import cv2\n",
    "import matplotlib.pyplot as plt\n",
    "import matplotlib.image as mpimg\n",
    "\n",
    "from sklearn.metrics import *\n",
    "\n",
    "import multiprocessing\n",
    "from multiprocessing.dummy import Pool\n",
    "from pprint import pprint"
   ]
  },
  {
   "cell_type": "code",
   "execution_count": 2,
   "metadata": {
    "ExecuteTime": {
     "end_time": "2018-08-01T05:52:44.465217Z",
     "start_time": "2018-08-01T05:52:44.460481Z"
    }
   },
   "outputs": [],
   "source": [
    "os.environ['CUDA_VISIBLE_DEVICES'] = '4,5,6,7'\n",
    "n_gpus = len(os.environ['CUDA_VISIBLE_DEVICES'].split(','))\n",
    "\n",
    "epochs = [40, 10, 5]\n",
    "batch_size = 1 * n_gpus\n",
    "model_name = 'nasnet_0801_f2'\n",
    "preprocess_func = nasnet.preprocess_input\n",
    "MODEL = NASNetLarge\n",
    "\n",
    "f = 2\n",
    "lr = 1e-3\n",
    "width = int(2560 / f)\n",
    "height = int(1920 / f)\n",
    "classes = ['正常', '吊经', '擦洞', '跳花', '毛洞', '织稀', '扎洞', '缺经', '毛斑', '其他']\n",
    "n_classes = len(classes)"
   ]
  },
  {
   "cell_type": "code",
   "execution_count": 3,
   "metadata": {
    "ExecuteTime": {
     "end_time": "2018-08-01T05:52:44.472947Z",
     "start_time": "2018-08-01T05:52:44.468019Z"
    }
   },
   "outputs": [
    {
     "name": "stdout",
     "output_type": "stream",
     "text": [
      "--------------------------------------------------------------------------------\n",
      "开始训练 nasnet_0801_f2 模型。\n",
      "1280 960 10\n",
      "['正常', '吊经', '擦洞', '跳花', '毛洞', '织稀', '扎洞', '缺经', '毛斑', '其他']\n",
      "--------------------------------------------------------------------------------\n"
     ]
    }
   ],
   "source": [
    "print('-'*80)\n",
    "print('开始训练 %s 模型。' % model_name)\n",
    "print(width, height, n_classes)\n",
    "print(classes)\n",
    "print('-'*80)"
   ]
  },
  {
   "cell_type": "code",
   "execution_count": 4,
   "metadata": {
    "ExecuteTime": {
     "end_time": "2018-08-01T05:52:47.244025Z",
     "start_time": "2018-08-01T05:52:44.475787Z"
    }
   },
   "outputs": [],
   "source": [
    "from keras import backend as K\n",
    "\n",
    "config = tf.ConfigProto()\n",
    "config.gpu_options.allow_growth = True\n",
    "K.set_session(tf.Session(config=config))"
   ]
  },
  {
   "cell_type": "code",
   "execution_count": 5,
   "metadata": {
    "ExecuteTime": {
     "end_time": "2018-08-01T05:52:47.598761Z",
     "start_time": "2018-08-01T05:52:47.247296Z"
    }
   },
   "outputs": [
    {
     "name": "stdout",
     "output_type": "stream",
     "text": [
      "Found 1816 images belonging to 10 classes.\n",
      "Found 203 images belonging to 10 classes.\n"
     ]
    }
   ],
   "source": [
    "idg = ImageDataGenerator(horizontal_flip=True,\n",
    "                         rotation_range=15,\n",
    "                         zoom_range=0.2)\n",
    "idg2 = ImageDataGenerator()\n",
    "\n",
    "gen_train = idg.flow_from_directory('train', target_size=(height, width), \n",
    "                                    interpolation='lanczos', classes=classes, batch_size=batch_size)\n",
    "gen_valid = idg2.flow_from_directory('valid', target_size=(height, width), shuffle=False, \n",
    "                                     interpolation='lanczos', classes=classes, batch_size=4)\n",
    "y_valid = (gen_valid.classes != 0).astype(int)"
   ]
  },
  {
   "cell_type": "code",
   "execution_count": 6,
   "metadata": {
    "ExecuteTime": {
     "end_time": "2018-08-01T05:52:47.609089Z",
     "start_time": "2018-08-01T05:52:47.601725Z"
    }
   },
   "outputs": [],
   "source": [
    "class RocAucMetricCallback(Callback):\n",
    "    def __init__(self):\n",
    "        super(RocAucMetricCallback, self).__init__()\n",
    "\n",
    "    def on_epoch_end(self, epoch, logs={}):\n",
    "        y_pred = model_parallel.predict_generator(gen_valid, verbose=1, workers=multiprocessing.cpu_count())\n",
    "        y_pred2 = 1 - y_pred[:,0]\n",
    "        y_pred3 = 1 - (np.argmax(y_pred, axis=-1) == 0)\n",
    "        \n",
    "        auc = roc_auc_score(y_valid, y_pred2)\n",
    "        acc = accuracy_score(y_valid, y_pred3)\n",
    "        logs['val_auc'] = auc\n",
    "        logs['val_acc'] = acc\n",
    "        logs['lr'] = float(K.get_value(model_parallel.optimizer.lr))\n",
    "        print(f'ACC: {acc:.4f} AUC: {auc:.4f}')"
   ]
  },
  {
   "cell_type": "code",
   "execution_count": 7,
   "metadata": {
    "ExecuteTime": {
     "end_time": "2018-08-01T05:53:46.456026Z",
     "start_time": "2018-08-01T05:52:47.611752Z"
    }
   },
   "outputs": [],
   "source": [
    "base_model = MODEL(input_shape=(height, width, 3), include_top=False, weights='imagenet')"
   ]
  },
  {
   "cell_type": "code",
   "execution_count": 8,
   "metadata": {
    "ExecuteTime": {
     "end_time": "2018-08-01T05:54:22.626448Z",
     "start_time": "2018-08-01T05:53:46.459747Z"
    }
   },
   "outputs": [],
   "source": [
    "input_tensor = Input((height, width, 3))\n",
    "x = Lambda(preprocess_func)(input_tensor)\n",
    "x = base_model(x)\n",
    "x = GlobalAvgPool2D()(x)\n",
    "x = Dropout(0.5)(x)\n",
    "x = Dense(n_classes, activation='softmax')(x)\n",
    "model = Model(input_tensor, x)"
   ]
  },
  {
   "cell_type": "code",
   "execution_count": 9,
   "metadata": {
    "ExecuteTime": {
     "end_time": "2018-08-01T05:54:22.640332Z",
     "start_time": "2018-08-01T05:54:22.628133Z"
    }
   },
   "outputs": [
    {
     "name": "stdout",
     "output_type": "stream",
     "text": [
      "<keras.layers.convolutional.Conv2D object at 0x7f74871e5f60>\n",
      "<keras.layers.convolutional.Conv2D object at 0x7f7487199390>\n",
      "<keras.layers.convolutional.SeparableConv2D object at 0x7f74845e09b0>\n",
      "<keras.layers.convolutional.SeparableConv2D object at 0x7f74841847b8>\n",
      "<keras.layers.convolutional.SeparableConv2D object at 0x7f748456f4e0>\n",
      "<keras.layers.convolutional.SeparableConv2D object at 0x7f7484050828>\n",
      "<keras.layers.convolutional.SeparableConv2D object at 0x7f7464777a20>\n",
      "<keras.layers.convolutional.SeparableConv2D object at 0x7f74644c2828>\n",
      "<keras.layers.convolutional.SeparableConv2D object at 0x7f7464181c18>\n",
      "<keras.layers.convolutional.SeparableConv2D object at 0x7f746461d160>\n",
      "<keras.layers.convolutional.SeparableConv2D object at 0x7f74643f6320>\n",
      "<keras.layers.convolutional.SeparableConv2D object at 0x7f74641567f0>\n",
      "<keras.layers.convolutional.Conv2D object at 0x7f74486bf3c8>\n",
      "<keras.layers.convolutional.Conv2D object at 0x7f74486d1eb8>\n",
      "<keras.layers.convolutional.Conv2D object at 0x7f74640394e0>\n",
      "<keras.layers.convolutional.SeparableConv2D object at 0x7f7448567470>\n",
      "<keras.layers.convolutional.SeparableConv2D object at 0x7f744834eb00>\n",
      "<keras.layers.convolutional.SeparableConv2D object at 0x7f74484b66d8>\n",
      "<keras.layers.convolutional.SeparableConv2D object at 0x7f7448224400>\n",
      "<keras.layers.convolutional.SeparableConv2D object at 0x7f744805ee80>\n",
      "<keras.layers.convolutional.SeparableConv2D object at 0x7f742c623518>\n",
      "<keras.layers.convolutional.SeparableConv2D object at 0x7f742c325f28>\n",
      "<keras.layers.convolutional.SeparableConv2D object at 0x7f742c7f1d30>\n",
      "<keras.layers.convolutional.SeparableConv2D object at 0x7f742c54aeb8>\n",
      "<keras.layers.convolutional.SeparableConv2D object at 0x7f742c2f8b00>\n",
      "<keras.layers.convolutional.Conv2D object at 0x7f742c0a56d8>\n",
      "<keras.layers.convolutional.Conv2D object at 0x7f742c0b0ba8>\n",
      "<keras.layers.convolutional.Conv2D object at 0x7f742c187828>\n",
      "<keras.layers.convolutional.SeparableConv2D object at 0x7f7424684710>\n",
      "<keras.layers.convolutional.SeparableConv2D object at 0x7f74244b9e80>\n",
      "<keras.layers.convolutional.SeparableConv2D object at 0x7f74242b5cc0>\n",
      "<keras.layers.convolutional.SeparableConv2D object at 0x7f741c7f8668>\n",
      "<keras.layers.convolutional.SeparableConv2D object at 0x7f741c488588>\n",
      "<keras.layers.convolutional.SeparableConv2D object at 0x7f74245d7eb8>\n",
      "<keras.layers.convolutional.SeparableConv2D object at 0x7f742438b940>\n",
      "<keras.layers.convolutional.SeparableConv2D object at 0x7f74241658d0>\n",
      "<keras.layers.convolutional.SeparableConv2D object at 0x7f741c723940>\n",
      "<keras.layers.convolutional.SeparableConv2D object at 0x7f741c402b00>\n",
      "<keras.layers.convolutional.Conv2D object at 0x7f741c5178d0>\n",
      "<keras.layers.convolutional.Conv2D object at 0x7f741c3aa780>\n",
      "<keras.layers.convolutional.SeparableConv2D object at 0x7f741c0a1390>\n",
      "<keras.layers.convolutional.SeparableConv2D object at 0x7f73e4643908>\n",
      "<keras.layers.convolutional.SeparableConv2D object at 0x7f73e43fa0f0>\n",
      "<keras.layers.convolutional.SeparableConv2D object at 0x7f73e41e38d0>\n",
      "<keras.layers.convolutional.SeparableConv2D object at 0x7f739c66b3c8>\n",
      "<keras.layers.convolutional.SeparableConv2D object at 0x7f73e47b7f28>\n",
      "<keras.layers.convolutional.SeparableConv2D object at 0x7f73e453ce80>\n",
      "<keras.layers.convolutional.SeparableConv2D object at 0x7f73e4321cc0>\n",
      "<keras.layers.convolutional.SeparableConv2D object at 0x7f73e4043128>\n",
      "<keras.layers.convolutional.SeparableConv2D object at 0x7f739c5e8780>\n",
      "<keras.layers.convolutional.Conv2D object at 0x7f739c6f35f8>\n",
      "<keras.layers.convolutional.Conv2D object at 0x7f739c468240>\n",
      "<keras.layers.convolutional.SeparableConv2D object at 0x7f739c1ff048>\n",
      "<keras.layers.convolutional.SeparableConv2D object at 0x7f738c7b9f28>\n",
      "<keras.layers.convolutional.SeparableConv2D object at 0x7f738c5f1eb8>\n",
      "<keras.layers.convolutional.SeparableConv2D object at 0x7f738c394e10>\n",
      "<keras.layers.convolutional.SeparableConv2D object at 0x7f736c7cf048>\n",
      "<keras.layers.convolutional.SeparableConv2D object at 0x7f739c155860>\n",
      "<keras.layers.convolutional.SeparableConv2D object at 0x7f738c6c7908>\n",
      "<keras.layers.convolutional.SeparableConv2D object at 0x7f738c49a898>\n",
      "<keras.layers.convolutional.SeparableConv2D object at 0x7f738c270710>\n",
      "<keras.layers.convolutional.SeparableConv2D object at 0x7f736c73c400>\n",
      "<keras.layers.convolutional.Conv2D object at 0x7f736c660ac8>\n",
      "<keras.layers.convolutional.Conv2D object at 0x7f736c679438>\n",
      "<keras.layers.convolutional.SeparableConv2D object at 0x7f736c3d7240>\n",
      "<keras.layers.convolutional.SeparableConv2D object at 0x7f736c1d4860>\n",
      "<keras.layers.convolutional.SeparableConv2D object at 0x7f735c748908>\n",
      "<keras.layers.convolutional.SeparableConv2D object at 0x7f735c51e898>\n",
      "<keras.layers.convolutional.SeparableConv2D object at 0x7f735c22f9e8>\n",
      "<keras.layers.convolutional.SeparableConv2D object at 0x7f736c300780>\n",
      "<keras.layers.convolutional.SeparableConv2D object at 0x7f736c07df28>\n",
      "<keras.layers.convolutional.SeparableConv2D object at 0x7f735c610ef0>\n",
      "<keras.layers.convolutional.SeparableConv2D object at 0x7f735c3e66a0>\n",
      "<keras.layers.convolutional.SeparableConv2D object at 0x7f735c15a080>\n",
      "<keras.layers.convolutional.Conv2D object at 0x7f735c0e3f60>\n",
      "<keras.layers.convolutional.Conv2D object at 0x7f735c22fc88>\n",
      "<keras.layers.convolutional.SeparableConv2D object at 0x7f7334366f60>\n",
      "<keras.layers.convolutional.SeparableConv2D object at 0x7f73346d4828>\n",
      "<keras.layers.convolutional.SeparableConv2D object at 0x7f7310724b38>\n",
      "<keras.layers.convolutional.SeparableConv2D object at 0x7f7310494ef0>\n",
      "<keras.layers.convolutional.SeparableConv2D object at 0x7f7310191668>\n",
      "<keras.layers.convolutional.SeparableConv2D object at 0x7f7334252160>\n",
      "<keras.layers.convolutional.SeparableConv2D object at 0x7f733401d860>\n",
      "<keras.layers.convolutional.SeparableConv2D object at 0x7f73105c1a90>\n",
      "<keras.layers.convolutional.SeparableConv2D object at 0x7f73103bbb00>\n",
      "<keras.layers.convolutional.SeparableConv2D object at 0x7f731016ed30>\n",
      "<keras.layers.convolutional.Conv2D object at 0x7f731022eef0>\n",
      "<keras.layers.convolutional.Conv2D object at 0x7f7310041940>\n",
      "<keras.layers.convolutional.SeparableConv2D object at 0x7f72f04fd550>\n",
      "<keras.layers.convolutional.SeparableConv2D object at 0x7f72f0351b00>\n",
      "<keras.layers.convolutional.SeparableConv2D object at 0x7f72f01011d0>\n",
      "<keras.layers.convolutional.SeparableConv2D object at 0x7f72d46aa9b0>\n",
      "<keras.layers.convolutional.SeparableConv2D object at 0x7f72d43694a8>\n",
      "<keras.layers.convolutional.SeparableConv2D object at 0x7f72f046c128>\n",
      "<keras.layers.convolutional.SeparableConv2D object at 0x7f72f021a400>\n",
      "<keras.layers.convolutional.SeparableConv2D object at 0x7f72d47e0da0>\n",
      "<keras.layers.convolutional.SeparableConv2D object at 0x7f72d4507208>\n",
      "<keras.layers.convolutional.SeparableConv2D object at 0x7f72d42dc860>\n",
      "<keras.layers.convolutional.Conv2D object at 0x7f72d42174a8>\n",
      "<keras.layers.convolutional.Conv2D object at 0x7f72d43f2a20>\n",
      "<keras.layers.convolutional.SeparableConv2D object at 0x7f72b06bc0f0>\n",
      "<keras.layers.convolutional.SeparableConv2D object at 0x7f72b04c16d8>\n",
      "<keras.layers.convolutional.SeparableConv2D object at 0x7f72b0616940>\n",
      "<keras.layers.convolutional.SeparableConv2D object at 0x7f72b03ccb00>\n",
      "<keras.layers.convolutional.SeparableConv2D object at 0x7f72b0244b38>\n",
      "<keras.layers.convolutional.SeparableConv2D object at 0x7f72b0078860>\n",
      "<keras.layers.convolutional.SeparableConv2D object at 0x7f7290480ba8>\n",
      "<keras.layers.convolutional.SeparableConv2D object at 0x7f72b0152198>\n",
      "<keras.layers.convolutional.SeparableConv2D object at 0x7f72906ed2b0>\n",
      "<keras.layers.convolutional.SeparableConv2D object at 0x7f7290455780>\n",
      "<keras.layers.convolutional.Conv2D object at 0x7f72901fa358>\n",
      "<keras.layers.convolutional.Conv2D object at 0x7f729020ce10>\n",
      "<keras.layers.convolutional.Conv2D object at 0x7f729059b978>\n",
      "<keras.layers.convolutional.SeparableConv2D object at 0x7f729009e390>\n",
      "<keras.layers.convolutional.SeparableConv2D object at 0x7f728be48908>\n",
      "<keras.layers.convolutional.SeparableConv2D object at 0x7f728bc7c0f0>\n",
      "<keras.layers.convolutional.SeparableConv2D object at 0x7f728b9eb8d0>\n",
      "<keras.layers.convolutional.SeparableConv2D object at 0x7f728aea83c8>\n",
      "<keras.layers.convolutional.SeparableConv2D object at 0x7f728bfbef28>\n",
      "<keras.layers.convolutional.SeparableConv2D object at 0x7f728bd40e80>\n",
      "<keras.layers.convolutional.SeparableConv2D object at 0x7f728bb23cc0>\n",
      "<keras.layers.convolutional.SeparableConv2D object at 0x7f728b84f128>\n",
      "<keras.layers.convolutional.SeparableConv2D object at 0x7f728ae25780>\n",
      "<keras.layers.convolutional.Conv2D object at 0x7f728af345f8>\n",
      "<keras.layers.convolutional.Conv2D object at 0x7f728ad5d400>\n",
      "<keras.layers.convolutional.SeparableConv2D object at 0x7f728aa42048>\n",
      "<keras.layers.convolutional.SeparableConv2D object at 0x7f728a8bdf28>\n",
      "<keras.layers.convolutional.SeparableConv2D object at 0x7f728a674eb8>\n",
      "<keras.layers.convolutional.SeparableConv2D object at 0x7f728a41de10>\n",
      "<keras.layers.convolutional.SeparableConv2D object at 0x7f728a099048>\n",
      "<keras.layers.convolutional.SeparableConv2D object at 0x7f728a996860>\n",
      "<keras.layers.convolutional.SeparableConv2D object at 0x7f728a74b908>\n",
      "<keras.layers.convolutional.SeparableConv2D object at 0x7f728a523898>\n",
      "<keras.layers.convolutional.SeparableConv2D object at 0x7f728a2f7710>\n",
      "<keras.layers.convolutional.SeparableConv2D object at 0x7f728a003400>\n",
      "<keras.layers.convolutional.Conv2D object at 0x7f7289f2cac8>\n",
      "<keras.layers.convolutional.Conv2D object at 0x7f7289f40438>\n",
      "<keras.layers.convolutional.SeparableConv2D object at 0x7f7289c9c240>\n",
      "<keras.layers.convolutional.SeparableConv2D object at 0x7f7289a9d860>\n",
      "<keras.layers.convolutional.SeparableConv2D object at 0x7f7289852908>\n",
      "<keras.layers.convolutional.SeparableConv2D object at 0x7f7289627898>\n",
      "<keras.layers.convolutional.SeparableConv2D object at 0x7f728933bac8>\n",
      "<keras.layers.convolutional.SeparableConv2D object at 0x7f7289bca780>\n",
      "<keras.layers.convolutional.SeparableConv2D object at 0x7f7289944f28>\n",
      "<keras.layers.convolutional.SeparableConv2D object at 0x7f728971bef0>\n",
      "<keras.layers.convolutional.SeparableConv2D object at 0x7f72894dd6a0>\n",
      "<keras.layers.convolutional.SeparableConv2D object at 0x7f7289264080>\n",
      "<keras.layers.convolutional.Conv2D object at 0x7f7289107748>\n",
      "<keras.layers.convolutional.Conv2D object at 0x7f7289d397f0>\n",
      "<keras.layers.convolutional.SeparableConv2D object at 0x7f7288eeaf98>\n",
      "<keras.layers.convolutional.SeparableConv2D object at 0x7f7288ccd7b8>\n",
      "<keras.layers.convolutional.SeparableConv2D object at 0x7f7288aa9b70>\n",
      "<keras.layers.convolutional.SeparableConv2D object at 0x7f7288820f28>\n",
      "<keras.layers.convolutional.SeparableConv2D object at 0x7f728851e6a0>\n",
      "<keras.layers.convolutional.SeparableConv2D object at 0x7f7288dd5198>\n",
      "<keras.layers.convolutional.SeparableConv2D object at 0x7f7288ba1898>\n",
      "<keras.layers.convolutional.SeparableConv2D object at 0x7f728894eac8>\n",
      "<keras.layers.convolutional.SeparableConv2D object at 0x7f72886d26a0>\n",
      "<keras.layers.convolutional.SeparableConv2D object at 0x7f72884ad710>\n",
      "<keras.layers.convolutional.Conv2D object at 0x7f728832d748>\n",
      "<keras.layers.convolutional.Conv2D object at 0x7f72883d2978>\n",
      "<keras.layers.convolutional.SeparableConv2D object at 0x7f72880ce588>\n",
      "<keras.layers.convolutional.SeparableConv2D object at 0x7f7283ef5f28>\n",
      "<keras.layers.convolutional.SeparableConv2D object at 0x7f7283c46da0>\n",
      "<keras.layers.convolutional.SeparableConv2D object at 0x7f7283a1aac8>\n",
      "<keras.layers.convolutional.SeparableConv2D object at 0x7f72834d98d0>\n",
      "<keras.layers.convolutional.SeparableConv2D object at 0x7f7283fe6a90>\n",
      "<keras.layers.convolutional.SeparableConv2D object at 0x7f7283d9a7b8>\n",
      "<keras.layers.convolutional.SeparableConv2D object at 0x7f7283b73748>\n",
      "<keras.layers.convolutional.SeparableConv2D object at 0x7f72838f5320>\n",
      "<keras.layers.convolutional.SeparableConv2D object at 0x7f7283452588>\n",
      "<keras.layers.convolutional.Conv2D object at 0x7f7283563b38>\n",
      "<keras.layers.convolutional.Conv2D object at 0x7f72833fc5c0>\n",
      "<keras.layers.convolutional.SeparableConv2D object at 0x7f72830f7208>\n",
      "<keras.layers.convolutional.SeparableConv2D object at 0x7f72826cf780>\n",
      "<keras.layers.convolutional.SeparableConv2D object at 0x7f7282491e80>\n",
      "<keras.layers.convolutional.SeparableConv2D object at 0x7f728227b748>\n",
      "<keras.layers.convolutional.SeparableConv2D object at 0x7f7281f0ee10>\n",
      "<keras.layers.convolutional.SeparableConv2D object at 0x7f72827c5da0>\n",
      "<keras.layers.convolutional.SeparableConv2D object at 0x7f72825fcf28>\n",
      "<keras.layers.convolutional.SeparableConv2D object at 0x7f7282355ef0>\n",
      "<keras.layers.convolutional.SeparableConv2D object at 0x7f72820c2eb8>\n",
      "<keras.layers.convolutional.SeparableConv2D object at 0x7f7281ee0e80>\n",
      "<keras.layers.convolutional.Conv2D object at 0x7f72831da550>\n",
      "<keras.layers.convolutional.Conv2D object at 0x7f7281f44b70>\n",
      "<keras.layers.convolutional.SeparableConv2D object at 0x7f7281ad30b8>\n",
      "<keras.layers.convolutional.SeparableConv2D object at 0x7f72818d66d8>\n",
      "<keras.layers.convolutional.SeparableConv2D object at 0x7f7281a01940>\n",
      "<keras.layers.convolutional.SeparableConv2D object at 0x7f72817e6748>\n",
      "<keras.layers.convolutional.SeparableConv2D object at 0x7f7281669da0>\n",
      "<keras.layers.convolutional.SeparableConv2D object at 0x7f72813c8f28>\n",
      "<keras.layers.convolutional.SeparableConv2D object at 0x7f72810e7908>\n",
      "<keras.layers.convolutional.SeparableConv2D object at 0x7f7281561e10>\n",
      "<keras.layers.convolutional.SeparableConv2D object at 0x7f72812bff28>\n",
      "<keras.layers.convolutional.SeparableConv2D object at 0x7f72810f4cf8>\n",
      "<keras.layers.convolutional.Conv2D object at 0x7f728065a128>\n",
      "<keras.layers.convolutional.Conv2D object at 0x7f7280670ba8>\n",
      "<keras.layers.convolutional.Conv2D object at 0x7f7281b709b0>\n",
      "<keras.layers.convolutional.SeparableConv2D object at 0x7f7280487128>\n",
      "<keras.layers.convolutional.SeparableConv2D object at 0x7f7280282710>\n",
      "<keras.layers.convolutional.SeparableConv2D object at 0x7f7280089048>\n",
      "<keras.layers.convolutional.SeparableConv2D object at 0x7f722fd843c8>\n",
      "<keras.layers.convolutional.SeparableConv2D object at 0x7f722fae8e10>\n",
      "<keras.layers.convolutional.SeparableConv2D object at 0x7f72803dd978>\n",
      "<keras.layers.convolutional.SeparableConv2D object at 0x7f7280191b38>\n",
      "<keras.layers.convolutional.SeparableConv2D object at 0x7f722ff2e9b0>\n",
      "<keras.layers.convolutional.SeparableConv2D object at 0x7f722fc96dd8>\n",
      "<keras.layers.convolutional.SeparableConv2D object at 0x7f722fabfd30>\n",
      "<keras.layers.convolutional.Conv2D object at 0x7f722f933be0>\n",
      "<keras.layers.convolutional.Conv2D object at 0x7f722f949550>\n",
      "<keras.layers.convolutional.SeparableConv2D object at 0x7f722f6b0358>\n",
      "<keras.layers.convolutional.SeparableConv2D object at 0x7f722f4aa978>\n",
      "<keras.layers.convolutional.SeparableConv2D object at 0x7f722f2b0ac8>\n",
      "<keras.layers.convolutional.SeparableConv2D object at 0x7f722f0399b0>\n",
      "<keras.layers.convolutional.SeparableConv2D object at 0x7f722eccb0b8>\n",
      "<keras.layers.convolutional.SeparableConv2D object at 0x7f722f5d5898>\n",
      "<keras.layers.convolutional.SeparableConv2D object at 0x7f722f34e710>\n",
      "<keras.layers.convolutional.SeparableConv2D object at 0x7f722f155f60>\n",
      "<keras.layers.convolutional.SeparableConv2D object at 0x7f722ee81b00>\n",
      "<keras.layers.convolutional.SeparableConv2D object at 0x7f722ec72198>\n",
      "<keras.layers.convolutional.Conv2D object at 0x7f722ebba0b8>\n",
      "<keras.layers.convolutional.Conv2D object at 0x7f722eccb7f0>\n",
      "<keras.layers.convolutional.SeparableConv2D object at 0x7f722e8965f8>\n",
      "<keras.layers.convolutional.SeparableConv2D object at 0x7f722deda898>\n",
      "<keras.layers.convolutional.SeparableConv2D object at 0x7f722dcbac50>\n",
      "<keras.layers.convolutional.SeparableConv2D object at 0x7f722da256a0>\n",
      "<keras.layers.convolutional.SeparableConv2D object at 0x7f722d72e780>\n",
      "<keras.layers.convolutional.SeparableConv2D object at 0x7f722dfe5278>\n",
      "<keras.layers.convolutional.SeparableConv2D object at 0x7f722ddaa978>\n",
      "<keras.layers.convolutional.SeparableConv2D object at 0x7f722db04908>\n",
      "<keras.layers.convolutional.SeparableConv2D object at 0x7f722d8e4780>\n",
      "<keras.layers.convolutional.SeparableConv2D object at 0x7f722d6bba90>\n",
      "<keras.layers.convolutional.Conv2D object at 0x7f722d597cf8>\n",
      "<keras.layers.convolutional.Conv2D object at 0x7f722d72ea20>\n",
      "<keras.layers.convolutional.SeparableConv2D object at 0x7f722d2da668>\n",
      "<keras.layers.convolutional.SeparableConv2D object at 0x7f722d10bdd8>\n",
      "<keras.layers.convolutional.SeparableConv2D object at 0x7f722ce8de80>\n",
      "<keras.layers.convolutional.SeparableConv2D object at 0x7f722cc0f908>\n",
      "<keras.layers.convolutional.SeparableConv2D object at 0x7f722c9204e0>\n",
      "<keras.layers.convolutional.SeparableConv2D object at 0x7f722d22de10>\n",
      "<keras.layers.convolutional.SeparableConv2D object at 0x7f722cfe0898>\n",
      "<keras.layers.convolutional.SeparableConv2D object at 0x7f722cdb8828>\n",
      "<keras.layers.convolutional.SeparableConv2D object at 0x7f722cb49828>\n",
      "<keras.layers.convolutional.SeparableConv2D object at 0x7f722c89fda0>\n",
      "<keras.layers.convolutional.Conv2D object at 0x7f722c9aa4a8>\n",
      "<keras.layers.convolutional.Conv2D object at 0x7f722c7c46d8>\n",
      "<keras.layers.convolutional.SeparableConv2D object at 0x7f722c53a2e8>\n",
      "<keras.layers.convolutional.SeparableConv2D object at 0x7f722c31f860>\n",
      "<keras.layers.convolutional.SeparableConv2D object at 0x7f722c0de048>\n",
      "<keras.layers.convolutional.SeparableConv2D object at 0x7f720fe09828>\n",
      "<keras.layers.convolutional.SeparableConv2D object at 0x7f720facf320>\n",
      "<keras.layers.convolutional.SeparableConv2D object at 0x7f722c414e80>\n",
      "<keras.layers.convolutional.SeparableConv2D object at 0x7f722c21cdd8>\n",
      "<keras.layers.convolutional.SeparableConv2D object at 0x7f720ff44ef0>\n",
      "<keras.layers.convolutional.SeparableConv2D object at 0x7f720fce7080>\n",
      "<keras.layers.convolutional.SeparableConv2D object at 0x7f720fa466d8>\n",
      "<keras.layers.convolutional.Conv2D object at 0x7f720f9689b0>\n",
      "<keras.layers.convolutional.Conv2D object at 0x7f720f9bacf8>\n",
      "<keras.layers.convolutional.SeparableConv2D object at 0x7f720f6e31d0>\n",
      "<keras.layers.convolutional.SeparableConv2D object at 0x7f720f4deb38>\n",
      "<keras.layers.convolutional.SeparableConv2D object at 0x7f720f091e10>\n",
      "<keras.layers.convolutional.SeparableConv2D object at 0x7f720eebdd68>\n",
      "<keras.layers.convolutional.SeparableConv2D object at 0x7f720eb009b0>\n",
      "<keras.layers.convolutional.SeparableConv2D object at 0x7f720f63a7b8>\n",
      "<keras.layers.convolutional.SeparableConv2D object at 0x7f720f1ee860>\n",
      "<keras.layers.convolutional.SeparableConv2D object at 0x7f720ef457f0>\n",
      "<keras.layers.convolutional.SeparableConv2D object at 0x7f720ed336d8>\n",
      "<keras.layers.convolutional.SeparableConv2D object at 0x7f720eaa8358>\n",
      "<keras.layers.core.Dense object at 0x7f71cfcc3860>\n"
     ]
    }
   ],
   "source": [
    "for layer in base_model.layers + model.layers:\n",
    "    if hasattr(layer, 'kernel_regularizer'):\n",
    "        print(layer)\n",
    "        layer.kernel_regularizer= l2(1e-5)"
   ]
  },
  {
   "cell_type": "code",
   "execution_count": 10,
   "metadata": {
    "ExecuteTime": {
     "end_time": "2018-08-01T05:58:23.798690Z",
     "start_time": "2018-08-01T05:54:22.643756Z"
    }
   },
   "outputs": [],
   "source": [
    "model_parallel = multi_gpu_model(model, n_gpus)\n",
    "model_parallel.__setattr__('callback_model', model)"
   ]
  },
  {
   "cell_type": "code",
   "execution_count": 11,
   "metadata": {
    "ExecuteTime": {
     "end_time": "2018-08-01T05:58:24.242196Z",
     "start_time": "2018-08-01T05:58:23.800839Z"
    },
    "scrolled": false
   },
   "outputs": [],
   "source": [
    "plot_model(model, show_shapes=True, to_file=f'logs/plot_{model_name}.png')\n",
    "# SVG(model_to_dot(model, show_shapes=True).create(prog='dot', format='svg'))"
   ]
  },
  {
   "cell_type": "code",
   "execution_count": 12,
   "metadata": {
    "ExecuteTime": {
     "end_time": "2018-08-01T05:58:24.255293Z",
     "start_time": "2018-08-01T05:58:24.246079Z"
    }
   },
   "outputs": [],
   "source": [
    "def train(start, end, lr, warmup=False):\n",
    "    opt = SGD(lr, momentum=0.9, nesterov=True)\n",
    "\n",
    "    callbacks = [\n",
    "        RocAucMetricCallback(), \n",
    "        ModelCheckpoint('models/%s-{lr:.6f}-{epoch}-{val_auc:.6f}.h5' % model_name, \n",
    "                        save_weights_only=True), \n",
    "        CSVLogger('logs/%s.csv' % model_name, append=True), \n",
    "    ]\n",
    "    \n",
    "    model_parallel.compile(optimizer=opt, \n",
    "              loss='categorical_crossentropy',\n",
    "              metrics=['accuracy'])\n",
    "\n",
    "    model_parallel.fit_generator(gen_train, steps_per_epoch=len(gen_train),  \n",
    "                                 workers=multiprocessing.cpu_count(), \n",
    "                                 initial_epoch=start, epochs=end, callbacks=callbacks)"
   ]
  },
  {
   "cell_type": "code",
   "execution_count": 13,
   "metadata": {
    "ExecuteTime": {
     "end_time": "2018-08-01T11:40:23.155416Z",
     "start_time": "2018-08-01T05:58:24.259184Z"
    },
    "scrolled": false
   },
   "outputs": [
    {
     "name": "stdout",
     "output_type": "stream",
     "text": [
      "Epoch 1/40\n",
      "454/454 [==============================] - 1398s 3s/step - loss: 1.4174 - acc: 0.6459\n",
      "51/51 [==============================] - 73s 1s/step\n",
      "ACC: 0.6502 AUC: 0.5423\n",
      "Epoch 2/40\n",
      "454/454 [==============================] - 1010s 2s/step - loss: 1.2925 - acc: 0.6503\n",
      "51/51 [==============================] - 31s 608ms/step\n",
      "ACC: 0.6650 AUC: 0.6641\n",
      "Epoch 3/40\n",
      "454/454 [==============================] - 1023s 2s/step - loss: 1.0932 - acc: 0.6757\n",
      "51/51 [==============================] - 31s 613ms/step\n",
      "ACC: 0.7882 AUC: 0.8327\n",
      "Epoch 4/40\n",
      "454/454 [==============================] - 1025s 2s/step - loss: 0.9754 - acc: 0.7181\n",
      "51/51 [==============================] - 31s 614ms/step\n",
      "ACC: 0.7833 AUC: 0.8658\n",
      "Epoch 5/40\n",
      "454/454 [==============================] - 1019s 2s/step - loss: 0.9212 - acc: 0.7252\n",
      "51/51 [==============================] - 31s 607ms/step\n",
      "ACC: 0.7586 AUC: 0.8606\n",
      "Epoch 6/40\n",
      "454/454 [==============================] - 1018s 2s/step - loss: 0.8820 - acc: 0.7439\n",
      "51/51 [==============================] - 31s 611ms/step\n",
      "ACC: 0.7143 AUC: 0.8622\n",
      "Epoch 7/40\n",
      "454/454 [==============================] - 1019s 2s/step - loss: 0.8377 - acc: 0.7489\n",
      "51/51 [==============================] - 31s 605ms/step\n",
      "ACC: 0.7635 AUC: 0.8918\n",
      "Epoch 8/40\n",
      "454/454 [==============================] - 1011s 2s/step - loss: 0.8053 - acc: 0.7500\n",
      "51/51 [==============================] - 30s 598ms/step\n",
      "ACC: 0.7044 AUC: 0.8859\n",
      "Epoch 9/40\n",
      "454/454 [==============================] - 1010s 2s/step - loss: 0.7659 - acc: 0.7676\n",
      "51/51 [==============================] - 30s 591ms/step\n",
      "ACC: 0.7635 AUC: 0.8922\n",
      "Epoch 10/40\n",
      "454/454 [==============================] - 1005s 2s/step - loss: 0.7256 - acc: 0.7748\n",
      "51/51 [==============================] - 30s 597ms/step\n",
      "ACC: 0.7783 AUC: 0.8992\n",
      "Epoch 11/40\n",
      "454/454 [==============================] - 1007s 2s/step - loss: 0.6957 - acc: 0.7847\n",
      "51/51 [==============================] - 30s 597ms/step\n",
      "ACC: 0.7882 AUC: 0.8820\n",
      "Epoch 12/40\n",
      "454/454 [==============================] - 1010s 2s/step - loss: 0.6838 - acc: 0.7847\n",
      "51/51 [==============================] - 31s 600ms/step\n",
      "ACC: 0.6700 AUC: 0.8650\n",
      "Epoch 13/40\n",
      "454/454 [==============================] - 1082s 2s/step - loss: 0.6189 - acc: 0.8084\n",
      "51/51 [==============================] - 33s 648ms/step\n",
      "ACC: 0.7586 AUC: 0.8617\n",
      "Epoch 14/40\n",
      "454/454 [==============================] - 1086s 2s/step - loss: 0.5782 - acc: 0.8161\n",
      "51/51 [==============================] - 33s 654ms/step\n",
      "ACC: 0.5862 AUC: 0.8685\n",
      "Epoch 15/40\n",
      "454/454 [==============================] - 1091s 2s/step - loss: 0.5421 - acc: 0.8238\n",
      "51/51 [==============================] - 33s 640ms/step\n",
      "ACC: 0.8276 AUC: 0.8691\n",
      "Epoch 16/40\n",
      "454/454 [==============================] - 1089s 2s/step - loss: 0.5266 - acc: 0.8276\n",
      "51/51 [==============================] - 34s 658ms/step\n",
      "ACC: 0.7291 AUC: 0.8634\n",
      "Epoch 17/40\n",
      "454/454 [==============================] - 1100s 2s/step - loss: 0.4982 - acc: 0.8502\n",
      "51/51 [==============================] - 33s 641ms/step\n",
      "ACC: 0.6601 AUC: 0.8372\n",
      "Epoch 18/40\n",
      "454/454 [==============================] - 1090s 2s/step - loss: 0.4326 - acc: 0.8711\n",
      "51/51 [==============================] - 33s 642ms/step\n",
      "ACC: 0.6847 AUC: 0.8133\n",
      "Epoch 19/40\n",
      "287/454 [=================>............] - ETA: 6:36 - loss: 0.4286 - acc: 0.8711"
     ]
    },
    {
     "ename": "InternalError",
     "evalue": "Dst tensor is not initialized.\n\t [[Node: training/SGD/gradients/replica_3/model_1/NASNet/adjust_bn_15/FusedBatchNorm_grad/FusedBatchNormGrad/_43501 = _Recv[client_terminated=false, recv_device=\"/job:localhost/replica:0/task:0/device:GPU:0\", send_device=\"/job:localhost/replica:0/task:0/device:GPU:3\", send_device_incarnation=1, tensor_name=\"edge_18706...chNormGrad\", tensor_type=DT_FLOAT, _device=\"/job:localhost/replica:0/task:0/device:GPU:0\"]()]]",
     "output_type": "error",
     "traceback": [
      "\u001b[0;31m---------------------------------------------------------------------------\u001b[0m",
      "\u001b[0;31mInternalError\u001b[0m                             Traceback (most recent call last)",
      "\u001b[0;32m<ipython-input-13-42bf726cf0b8>\u001b[0m in \u001b[0;36m<module>\u001b[0;34m()\u001b[0m\n\u001b[1;32m      1\u001b[0m \u001b[0mstart\u001b[0m \u001b[0;34m=\u001b[0m \u001b[0;36m0\u001b[0m\u001b[0;34m\u001b[0m\u001b[0m\n\u001b[1;32m      2\u001b[0m \u001b[0;32mfor\u001b[0m \u001b[0mi\u001b[0m\u001b[0;34m,\u001b[0m \u001b[0mepochs\u001b[0m \u001b[0;32min\u001b[0m \u001b[0menumerate\u001b[0m\u001b[0;34m(\u001b[0m\u001b[0mepochs\u001b[0m\u001b[0;34m)\u001b[0m\u001b[0;34m:\u001b[0m\u001b[0;34m\u001b[0m\u001b[0m\n\u001b[0;32m----> 3\u001b[0;31m     \u001b[0mtrain\u001b[0m\u001b[0;34m(\u001b[0m\u001b[0mstart\u001b[0m\u001b[0;34m,\u001b[0m \u001b[0mstart\u001b[0m \u001b[0;34m+\u001b[0m \u001b[0mepochs\u001b[0m\u001b[0;34m,\u001b[0m \u001b[0mlr\u001b[0m\u001b[0;34m*\u001b[0m\u001b[0;36m0.1\u001b[0m\u001b[0;34m**\u001b[0m\u001b[0mi\u001b[0m\u001b[0;34m,\u001b[0m \u001b[0mwarmup\u001b[0m\u001b[0;34m=\u001b[0m\u001b[0mi\u001b[0m \u001b[0;34m==\u001b[0m \u001b[0;36m0\u001b[0m\u001b[0;34m)\u001b[0m\u001b[0;34m\u001b[0m\u001b[0m\n\u001b[0m\u001b[1;32m      4\u001b[0m     \u001b[0mstart\u001b[0m \u001b[0;34m+=\u001b[0m \u001b[0mepochs\u001b[0m\u001b[0;34m\u001b[0m\u001b[0m\n",
      "\u001b[0;32m<ipython-input-12-a1de23e22f37>\u001b[0m in \u001b[0;36mtrain\u001b[0;34m(start, end, lr, warmup)\u001b[0m\n\u001b[1;32m     15\u001b[0m     model_parallel.fit_generator(gen_train, steps_per_epoch=len(gen_train),  \n\u001b[1;32m     16\u001b[0m                                  \u001b[0mworkers\u001b[0m\u001b[0;34m=\u001b[0m\u001b[0mmultiprocessing\u001b[0m\u001b[0;34m.\u001b[0m\u001b[0mcpu_count\u001b[0m\u001b[0;34m(\u001b[0m\u001b[0;34m)\u001b[0m\u001b[0;34m,\u001b[0m\u001b[0;34m\u001b[0m\u001b[0m\n\u001b[0;32m---> 17\u001b[0;31m                                  initial_epoch=start, epochs=end, callbacks=callbacks)\n\u001b[0m",
      "\u001b[0;32m~/miniconda3/lib/python3.6/site-packages/keras/legacy/interfaces.py\u001b[0m in \u001b[0;36mwrapper\u001b[0;34m(*args, **kwargs)\u001b[0m\n\u001b[1;32m     89\u001b[0m                 warnings.warn('Update your `' + object_name +\n\u001b[1;32m     90\u001b[0m                               '` call to the Keras 2 API: ' + signature, stacklevel=2)\n\u001b[0;32m---> 91\u001b[0;31m             \u001b[0;32mreturn\u001b[0m \u001b[0mfunc\u001b[0m\u001b[0;34m(\u001b[0m\u001b[0;34m*\u001b[0m\u001b[0margs\u001b[0m\u001b[0;34m,\u001b[0m \u001b[0;34m**\u001b[0m\u001b[0mkwargs\u001b[0m\u001b[0;34m)\u001b[0m\u001b[0;34m\u001b[0m\u001b[0m\n\u001b[0m\u001b[1;32m     92\u001b[0m         \u001b[0mwrapper\u001b[0m\u001b[0;34m.\u001b[0m\u001b[0m_original_function\u001b[0m \u001b[0;34m=\u001b[0m \u001b[0mfunc\u001b[0m\u001b[0;34m\u001b[0m\u001b[0m\n\u001b[1;32m     93\u001b[0m         \u001b[0;32mreturn\u001b[0m \u001b[0mwrapper\u001b[0m\u001b[0;34m\u001b[0m\u001b[0m\n",
      "\u001b[0;32m~/miniconda3/lib/python3.6/site-packages/keras/engine/training.py\u001b[0m in \u001b[0;36mfit_generator\u001b[0;34m(self, generator, steps_per_epoch, epochs, verbose, callbacks, validation_data, validation_steps, class_weight, max_queue_size, workers, use_multiprocessing, shuffle, initial_epoch)\u001b[0m\n\u001b[1;32m   1424\u001b[0m             \u001b[0muse_multiprocessing\u001b[0m\u001b[0;34m=\u001b[0m\u001b[0muse_multiprocessing\u001b[0m\u001b[0;34m,\u001b[0m\u001b[0;34m\u001b[0m\u001b[0m\n\u001b[1;32m   1425\u001b[0m             \u001b[0mshuffle\u001b[0m\u001b[0;34m=\u001b[0m\u001b[0mshuffle\u001b[0m\u001b[0;34m,\u001b[0m\u001b[0;34m\u001b[0m\u001b[0m\n\u001b[0;32m-> 1426\u001b[0;31m             initial_epoch=initial_epoch)\n\u001b[0m\u001b[1;32m   1427\u001b[0m \u001b[0;34m\u001b[0m\u001b[0m\n\u001b[1;32m   1428\u001b[0m     \u001b[0;34m@\u001b[0m\u001b[0minterfaces\u001b[0m\u001b[0;34m.\u001b[0m\u001b[0mlegacy_generator_methods_support\u001b[0m\u001b[0;34m\u001b[0m\u001b[0m\n",
      "\u001b[0;32m~/miniconda3/lib/python3.6/site-packages/keras/engine/training_generator.py\u001b[0m in \u001b[0;36mfit_generator\u001b[0;34m(model, generator, steps_per_epoch, epochs, verbose, callbacks, validation_data, validation_steps, class_weight, max_queue_size, workers, use_multiprocessing, shuffle, initial_epoch)\u001b[0m\n\u001b[1;32m    189\u001b[0m                 outs = model.train_on_batch(x, y,\n\u001b[1;32m    190\u001b[0m                                             \u001b[0msample_weight\u001b[0m\u001b[0;34m=\u001b[0m\u001b[0msample_weight\u001b[0m\u001b[0;34m,\u001b[0m\u001b[0;34m\u001b[0m\u001b[0m\n\u001b[0;32m--> 191\u001b[0;31m                                             class_weight=class_weight)\n\u001b[0m\u001b[1;32m    192\u001b[0m \u001b[0;34m\u001b[0m\u001b[0m\n\u001b[1;32m    193\u001b[0m                 \u001b[0;32mif\u001b[0m \u001b[0;32mnot\u001b[0m \u001b[0misinstance\u001b[0m\u001b[0;34m(\u001b[0m\u001b[0mouts\u001b[0m\u001b[0;34m,\u001b[0m \u001b[0mlist\u001b[0m\u001b[0;34m)\u001b[0m\u001b[0;34m:\u001b[0m\u001b[0;34m\u001b[0m\u001b[0m\n",
      "\u001b[0;32m~/miniconda3/lib/python3.6/site-packages/keras/engine/training.py\u001b[0m in \u001b[0;36mtrain_on_batch\u001b[0;34m(self, x, y, sample_weight, class_weight)\u001b[0m\n\u001b[1;32m   1218\u001b[0m             \u001b[0mins\u001b[0m \u001b[0;34m=\u001b[0m \u001b[0mx\u001b[0m \u001b[0;34m+\u001b[0m \u001b[0my\u001b[0m \u001b[0;34m+\u001b[0m \u001b[0msample_weights\u001b[0m\u001b[0;34m\u001b[0m\u001b[0m\n\u001b[1;32m   1219\u001b[0m         \u001b[0mself\u001b[0m\u001b[0;34m.\u001b[0m\u001b[0m_make_train_function\u001b[0m\u001b[0;34m(\u001b[0m\u001b[0;34m)\u001b[0m\u001b[0;34m\u001b[0m\u001b[0m\n\u001b[0;32m-> 1220\u001b[0;31m         \u001b[0moutputs\u001b[0m \u001b[0;34m=\u001b[0m \u001b[0mself\u001b[0m\u001b[0;34m.\u001b[0m\u001b[0mtrain_function\u001b[0m\u001b[0;34m(\u001b[0m\u001b[0mins\u001b[0m\u001b[0;34m)\u001b[0m\u001b[0;34m\u001b[0m\u001b[0m\n\u001b[0m\u001b[1;32m   1221\u001b[0m         \u001b[0;32mif\u001b[0m \u001b[0mlen\u001b[0m\u001b[0;34m(\u001b[0m\u001b[0moutputs\u001b[0m\u001b[0;34m)\u001b[0m \u001b[0;34m==\u001b[0m \u001b[0;36m1\u001b[0m\u001b[0;34m:\u001b[0m\u001b[0;34m\u001b[0m\u001b[0m\n\u001b[1;32m   1222\u001b[0m             \u001b[0;32mreturn\u001b[0m \u001b[0moutputs\u001b[0m\u001b[0;34m[\u001b[0m\u001b[0;36m0\u001b[0m\u001b[0;34m]\u001b[0m\u001b[0;34m\u001b[0m\u001b[0m\n",
      "\u001b[0;32m~/miniconda3/lib/python3.6/site-packages/keras/backend/tensorflow_backend.py\u001b[0m in \u001b[0;36m__call__\u001b[0;34m(self, inputs)\u001b[0m\n\u001b[1;32m   2659\u001b[0m                 \u001b[0;32mreturn\u001b[0m \u001b[0mself\u001b[0m\u001b[0;34m.\u001b[0m\u001b[0m_legacy_call\u001b[0m\u001b[0;34m(\u001b[0m\u001b[0minputs\u001b[0m\u001b[0;34m)\u001b[0m\u001b[0;34m\u001b[0m\u001b[0m\n\u001b[1;32m   2660\u001b[0m \u001b[0;34m\u001b[0m\u001b[0m\n\u001b[0;32m-> 2661\u001b[0;31m             \u001b[0;32mreturn\u001b[0m \u001b[0mself\u001b[0m\u001b[0;34m.\u001b[0m\u001b[0m_call\u001b[0m\u001b[0;34m(\u001b[0m\u001b[0minputs\u001b[0m\u001b[0;34m)\u001b[0m\u001b[0;34m\u001b[0m\u001b[0m\n\u001b[0m\u001b[1;32m   2662\u001b[0m         \u001b[0;32melse\u001b[0m\u001b[0;34m:\u001b[0m\u001b[0;34m\u001b[0m\u001b[0m\n\u001b[1;32m   2663\u001b[0m             \u001b[0;32mif\u001b[0m \u001b[0mpy_any\u001b[0m\u001b[0;34m(\u001b[0m\u001b[0mis_tensor\u001b[0m\u001b[0;34m(\u001b[0m\u001b[0mx\u001b[0m\u001b[0;34m)\u001b[0m \u001b[0;32mfor\u001b[0m \u001b[0mx\u001b[0m \u001b[0;32min\u001b[0m \u001b[0minputs\u001b[0m\u001b[0;34m)\u001b[0m\u001b[0;34m:\u001b[0m\u001b[0;34m\u001b[0m\u001b[0m\n",
      "\u001b[0;32m~/miniconda3/lib/python3.6/site-packages/keras/backend/tensorflow_backend.py\u001b[0m in \u001b[0;36m_call\u001b[0;34m(self, inputs)\u001b[0m\n\u001b[1;32m   2629\u001b[0m                                 \u001b[0msymbol_vals\u001b[0m\u001b[0;34m,\u001b[0m\u001b[0;34m\u001b[0m\u001b[0m\n\u001b[1;32m   2630\u001b[0m                                 session)\n\u001b[0;32m-> 2631\u001b[0;31m         \u001b[0mfetched\u001b[0m \u001b[0;34m=\u001b[0m \u001b[0mself\u001b[0m\u001b[0;34m.\u001b[0m\u001b[0m_callable_fn\u001b[0m\u001b[0;34m(\u001b[0m\u001b[0;34m*\u001b[0m\u001b[0marray_vals\u001b[0m\u001b[0;34m)\u001b[0m\u001b[0;34m\u001b[0m\u001b[0m\n\u001b[0m\u001b[1;32m   2632\u001b[0m         \u001b[0;32mreturn\u001b[0m \u001b[0mfetched\u001b[0m\u001b[0;34m[\u001b[0m\u001b[0;34m:\u001b[0m\u001b[0mlen\u001b[0m\u001b[0;34m(\u001b[0m\u001b[0mself\u001b[0m\u001b[0;34m.\u001b[0m\u001b[0moutputs\u001b[0m\u001b[0;34m)\u001b[0m\u001b[0;34m]\u001b[0m\u001b[0;34m\u001b[0m\u001b[0m\n\u001b[1;32m   2633\u001b[0m \u001b[0;34m\u001b[0m\u001b[0m\n",
      "\u001b[0;32m~/miniconda3/lib/python3.6/site-packages/tensorflow/python/client/session.py\u001b[0m in \u001b[0;36m__call__\u001b[0;34m(self, *args)\u001b[0m\n\u001b[1;32m   1452\u001b[0m         \u001b[0;32melse\u001b[0m\u001b[0;34m:\u001b[0m\u001b[0;34m\u001b[0m\u001b[0m\n\u001b[1;32m   1453\u001b[0m           return tf_session.TF_DeprecatedSessionRunCallable(\n\u001b[0;32m-> 1454\u001b[0;31m               self._session._session, self._handle, args, status, None)\n\u001b[0m\u001b[1;32m   1455\u001b[0m \u001b[0;34m\u001b[0m\u001b[0m\n\u001b[1;32m   1456\u001b[0m     \u001b[0;32mdef\u001b[0m \u001b[0m__del__\u001b[0m\u001b[0;34m(\u001b[0m\u001b[0mself\u001b[0m\u001b[0;34m)\u001b[0m\u001b[0;34m:\u001b[0m\u001b[0;34m\u001b[0m\u001b[0m\n",
      "\u001b[0;32m~/miniconda3/lib/python3.6/site-packages/tensorflow/python/framework/errors_impl.py\u001b[0m in \u001b[0;36m__exit__\u001b[0;34m(self, type_arg, value_arg, traceback_arg)\u001b[0m\n\u001b[1;32m    517\u001b[0m             \u001b[0;32mNone\u001b[0m\u001b[0;34m,\u001b[0m \u001b[0;32mNone\u001b[0m\u001b[0;34m,\u001b[0m\u001b[0;34m\u001b[0m\u001b[0m\n\u001b[1;32m    518\u001b[0m             \u001b[0mcompat\u001b[0m\u001b[0;34m.\u001b[0m\u001b[0mas_text\u001b[0m\u001b[0;34m(\u001b[0m\u001b[0mc_api\u001b[0m\u001b[0;34m.\u001b[0m\u001b[0mTF_Message\u001b[0m\u001b[0;34m(\u001b[0m\u001b[0mself\u001b[0m\u001b[0;34m.\u001b[0m\u001b[0mstatus\u001b[0m\u001b[0;34m.\u001b[0m\u001b[0mstatus\u001b[0m\u001b[0;34m)\u001b[0m\u001b[0;34m)\u001b[0m\u001b[0;34m,\u001b[0m\u001b[0;34m\u001b[0m\u001b[0m\n\u001b[0;32m--> 519\u001b[0;31m             c_api.TF_GetCode(self.status.status))\n\u001b[0m\u001b[1;32m    520\u001b[0m     \u001b[0;31m# Delete the underlying status object from memory otherwise it stays alive\u001b[0m\u001b[0;34m\u001b[0m\u001b[0;34m\u001b[0m\u001b[0m\n\u001b[1;32m    521\u001b[0m     \u001b[0;31m# as there is a reference to status from this from the traceback due to\u001b[0m\u001b[0;34m\u001b[0m\u001b[0;34m\u001b[0m\u001b[0m\n",
      "\u001b[0;31mInternalError\u001b[0m: Dst tensor is not initialized.\n\t [[Node: training/SGD/gradients/replica_3/model_1/NASNet/adjust_bn_15/FusedBatchNorm_grad/FusedBatchNormGrad/_43501 = _Recv[client_terminated=false, recv_device=\"/job:localhost/replica:0/task:0/device:GPU:0\", send_device=\"/job:localhost/replica:0/task:0/device:GPU:3\", send_device_incarnation=1, tensor_name=\"edge_18706...chNormGrad\", tensor_type=DT_FLOAT, _device=\"/job:localhost/replica:0/task:0/device:GPU:0\"]()]]"
     ]
    }
   ],
   "source": [
    "start = 0\n",
    "for i, epochs in enumerate(epochs):\n",
    "    train(start, start + epochs, lr*0.1**i, warmup=i == 0)\n",
    "    start += epochs"
   ]
  },
  {
   "cell_type": "code",
   "execution_count": null,
   "metadata": {
    "ExecuteTime": {
     "end_time": "2018-08-01T11:40:23.156601Z",
     "start_time": "2018-08-01T05:52:42.207Z"
    },
    "scrolled": false
   },
   "outputs": [],
   "source": [
    "y_pred = model.predict_generator(gen_valid, verbose=1, workers=multiprocessing.cpu_count())\n",
    "y_pred2 = 1 - y_pred[:,0]\n",
    "y_pred3 = 1 - (np.argmax(y_pred, axis=-1) == 0)\n",
    "pprint(roc_auc_score(y_valid, y_pred2))\n",
    "pprint(accuracy_score(y_valid, y_pred3))\n",
    "pprint(confusion_matrix(y_valid > 0.5, y_pred3))"
   ]
  },
  {
   "cell_type": "code",
   "execution_count": null,
   "metadata": {},
   "outputs": [],
   "source": []
  }
 ],
 "metadata": {
  "kernelspec": {
   "display_name": "Python 3",
   "language": "python",
   "name": "python3"
  },
  "language_info": {
   "codemirror_mode": {
    "name": "ipython",
    "version": 3
   },
   "file_extension": ".py",
   "mimetype": "text/x-python",
   "name": "python",
   "nbconvert_exporter": "python",
   "pygments_lexer": "ipython3",
   "version": "3.6.5"
  }
 },
 "nbformat": 4,
 "nbformat_minor": 2
}
