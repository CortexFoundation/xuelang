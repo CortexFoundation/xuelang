{
 "cells": [
  {
   "cell_type": "markdown",
   "metadata": {},
   "source": [
    "# 统计类别分布"
   ]
  },
  {
   "cell_type": "code",
   "execution_count": 1,
   "metadata": {
    "ExecuteTime": {
     "end_time": "2018-08-02T04:31:23.046654Z",
     "start_time": "2018-08-02T04:31:22.688571Z"
    }
   },
   "outputs": [],
   "source": [
    "from tqdm import tqdm\n",
    "from glob import glob\n",
    "import numpy as np\n",
    "from sklearn.model_selection import train_test_split\n",
    "import shutil\n",
    "import os\n",
    "from collections import Counter, defaultdict\n",
    "from pprint import pprint"
   ]
  },
  {
   "cell_type": "code",
   "execution_count": 2,
   "metadata": {
    "ExecuteTime": {
     "end_time": "2018-08-02T04:31:23.067134Z",
     "start_time": "2018-08-02T04:31:23.048555Z"
    }
   },
   "outputs": [],
   "source": [
    "labels = [x.split('/')[-2] for x in glob('/home/ypw/data/xuelang/xuelang_round1_train*/*/*.jpg')]"
   ]
  },
  {
   "cell_type": "code",
   "execution_count": 3,
   "metadata": {
    "ExecuteTime": {
     "end_time": "2018-08-02T04:31:23.073222Z",
     "start_time": "2018-08-02T04:31:23.068948Z"
    }
   },
   "outputs": [
    {
     "name": "stdout",
     "output_type": "stream",
     "text": [
      "['正常', '吊经', '擦洞', '跳花', '毛洞', '织稀', '扎洞', '缺经', '毛斑', '其他']\n"
     ]
    }
   ],
   "source": [
    "counter = Counter(labels)\n",
    "counter = counter.most_common()\n",
    "# pprint(counter)\n",
    "\n",
    "classes = [x[0] for x in counter if x[1] > 30]\n",
    "classes.append('其他')\n",
    "pprint(classes)"
   ]
  },
  {
   "cell_type": "markdown",
   "metadata": {
    "ExecuteTime": {
     "end_time": "2018-07-20T06:31:22.825798Z",
     "start_time": "2018-07-20T06:31:22.818434Z"
    }
   },
   "source": [
    "# 创建符号链接"
   ]
  },
  {
   "cell_type": "code",
   "execution_count": 4,
   "metadata": {
    "ExecuteTime": {
     "end_time": "2018-08-02T04:31:23.078472Z",
     "start_time": "2018-08-02T04:31:23.075019Z"
    }
   },
   "outputs": [],
   "source": [
    "def make_symlinks(fnames, path):\n",
    "    with tqdm(fnames) as pbar:\n",
    "        for fname in pbar:\n",
    "            img_fname = fname.split('/')[-1]\n",
    "            label = fname.split('/')[-2]\n",
    "            if label not in classes:\n",
    "                label = '其他'\n",
    "            os.symlink(fname, f'{path}/{label}/{img_fname}')"
   ]
  },
  {
   "cell_type": "code",
   "execution_count": 5,
   "metadata": {
    "ExecuteTime": {
     "end_time": "2018-08-02T04:31:23.083495Z",
     "start_time": "2018-08-02T04:31:23.080075Z"
    },
    "code_folding": [
     0
    ]
   },
   "outputs": [],
   "source": [
    "def get_class_fname_dict(fnames):\n",
    "    class_fname_dict = defaultdict(list)\n",
    "    for fname in fnames:\n",
    "        label = fname.split('/')[-2]\n",
    "        if label not in classes:\n",
    "            label = '其他'\n",
    "        class_fname_dict[label].append(fname)\n",
    "    return class_fname_dict"
   ]
  },
  {
   "cell_type": "code",
   "execution_count": 6,
   "metadata": {
    "ExecuteTime": {
     "end_time": "2018-08-02T04:31:23.089190Z",
     "start_time": "2018-08-02T04:31:23.085530Z"
    },
    "code_folding": [
     0
    ]
   },
   "outputs": [],
   "source": [
    "def balance_make_symlinks(fnames, path):\n",
    "    class_fname_dict = get_class_fname_dict(fnames)\n",
    "    target_num = max([len(class_fname_dict[x]) for x in class_fname_dict])\n",
    "    for label, fnames in class_fname_dict.items():\n",
    "        n = len(fnames)\n",
    "        for i in range(target_num):\n",
    "            fname = fnames[i % n]\n",
    "            img_fname = fname.split('/')[-1]\n",
    "            os.symlink(fname, f'{path}/{label}/{i}_{img_fname}')"
   ]
  },
  {
   "cell_type": "code",
   "execution_count": 7,
   "metadata": {
    "ExecuteTime": {
     "end_time": "2018-08-02T04:31:23.241126Z",
     "start_time": "2018-08-02T04:31:23.091042Z"
    }
   },
   "outputs": [],
   "source": [
    "!rm -rf train valid\n",
    "\n",
    "for c in classes:\n",
    "    os.makedirs(f'train/{c}')\n",
    "    os.makedirs(f'valid/{c}')"
   ]
  },
  {
   "cell_type": "code",
   "execution_count": 8,
   "metadata": {
    "ExecuteTime": {
     "end_time": "2018-08-02T04:31:23.351323Z",
     "start_time": "2018-08-02T04:31:23.245379Z"
    }
   },
   "outputs": [
    {
     "name": "stderr",
     "output_type": "stream",
     "text": [
      "100%|██████████| 1617/1617 [00:00<00:00, 28040.99it/s]\n",
      "100%|██████████| 405/405 [00:00<00:00, 23916.83it/s]\n"
     ]
    }
   ],
   "source": [
    "fnames = glob('/home/ypw/data/xuelang/xuelang_round1_train*/*/*.jpg')\n",
    "train, valid = train_test_split(fnames, test_size=0.2, random_state=42)\n",
    "make_symlinks(train, 'train')\n",
    "make_symlinks(valid, 'valid')"
   ]
  },
  {
   "cell_type": "markdown",
   "metadata": {},
   "source": [
    "# 查看生成的文件"
   ]
  },
  {
   "cell_type": "code",
   "execution_count": 9,
   "metadata": {
    "ExecuteTime": {
     "end_time": "2018-08-02T04:31:23.386901Z",
     "start_time": "2018-08-02T04:31:23.354670Z"
    }
   },
   "outputs": [
    {
     "data": {
      "text/plain": [
       "[('正常', 1051),\n",
       " ('其他', 131),\n",
       " ('擦洞', 97),\n",
       " ('吊经', 97),\n",
       " ('跳花', 49),\n",
       " ('毛洞', 45),\n",
       " ('织稀', 40),\n",
       " ('扎洞', 39),\n",
       " ('缺经', 37),\n",
       " ('毛斑', 31)]"
      ]
     },
     "execution_count": 9,
     "metadata": {},
     "output_type": "execute_result"
    }
   ],
   "source": [
    "labels = [x.split('/')[-2] for x in glob('train/*/*.jpg')]\n",
    "counter = Counter(labels)\n",
    "counter = counter.most_common()\n",
    "counter"
   ]
  },
  {
   "cell_type": "code",
   "execution_count": 10,
   "metadata": {
    "ExecuteTime": {
     "end_time": "2018-08-02T04:31:23.399813Z",
     "start_time": "2018-08-02T04:31:23.389708Z"
    }
   },
   "outputs": [
    {
     "data": {
      "text/plain": [
       "[('正常', 265),\n",
       " ('吊经', 38),\n",
       " ('其他', 27),\n",
       " ('擦洞', 26),\n",
       " ('织稀', 13),\n",
       " ('跳花', 9),\n",
       " ('扎洞', 9),\n",
       " ('毛洞', 8),\n",
       " ('缺经', 6),\n",
       " ('毛斑', 4)]"
      ]
     },
     "execution_count": 10,
     "metadata": {},
     "output_type": "execute_result"
    }
   ],
   "source": [
    "labels = [x.split('/')[-2] for x in glob('valid/*/*.jpg')]\n",
    "counter = Counter(labels)\n",
    "counter = counter.most_common()\n",
    "counter"
   ]
  },
  {
   "cell_type": "code",
   "execution_count": null,
   "metadata": {},
   "outputs": [],
   "source": []
  }
 ],
 "metadata": {
  "kernelspec": {
   "display_name": "Python 3",
   "language": "python",
   "name": "python3"
  },
  "language_info": {
   "codemirror_mode": {
    "name": "ipython",
    "version": 3
   },
   "file_extension": ".py",
   "mimetype": "text/x-python",
   "name": "python",
   "nbconvert_exporter": "python",
   "pygments_lexer": "ipython3",
   "version": "3.6.5"
  }
 },
 "nbformat": 4,
 "nbformat_minor": 2
}
