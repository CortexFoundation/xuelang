{
 "cells": [
  {
   "cell_type": "code",
   "execution_count": 1,
   "metadata": {
    "ExecuteTime": {
     "end_time": "2018-07-20T06:34:52.744215Z",
     "start_time": "2018-07-20T06:34:50.153681Z"
    }
   },
   "outputs": [
    {
     "name": "stderr",
     "output_type": "stream",
     "text": [
      "Using TensorFlow backend.\n"
     ]
    }
   ],
   "source": [
    "from keras.models import *\n",
    "from keras.layers import *\n",
    "from keras.callbacks import *\n",
    "from keras.optimizers import *\n",
    "from keras.applications import *\n",
    "from keras.preprocessing.image import *\n",
    "\n",
    "from IPython.display import SVG\n",
    "from keras.utils.vis_utils import model_to_dot\n",
    "\n",
    "from glob import glob\n",
    "from tqdm import tqdm\n",
    "import numpy as np\n",
    "import cv2\n",
    "import matplotlib.pyplot as plt\n",
    "import matplotlib.image as mpimg\n",
    "\n",
    "from sklearn.metrics import *\n",
    "\n",
    "import multiprocessing\n",
    "from multiprocessing.dummy import Pool\n",
    "import pprint"
   ]
  },
  {
   "cell_type": "code",
   "execution_count": 2,
   "metadata": {
    "ExecuteTime": {
     "end_time": "2018-07-20T06:35:01.765323Z",
     "start_time": "2018-07-20T06:35:00.171632Z"
    }
   },
   "outputs": [],
   "source": [
    "import horovod.keras as hvd\n",
    "from keras import backend as K\n",
    "\n",
    "hvd.init()\n",
    "config = tf.ConfigProto()\n",
    "config.gpu_options.allow_growth = True\n",
    "config.gpu_options.visible_device_list = str(hvd.local_rank())\n",
    "K.set_session(tf.Session(config=config))"
   ]
  },
  {
   "cell_type": "code",
   "execution_count": null,
   "metadata": {
    "ExecuteTime": {
     "end_time": "2018-07-19T09:02:50.603042Z",
     "start_time": "2018-07-19T09:02:40.415267Z"
    }
   },
   "outputs": [],
   "source": [
    "epochs = 10\n",
    "model_name = 'irv2'\n",
    "f = 2\n",
    "width = int(2560 / f)\n",
    "height = int(1920 / f)\n",
    "batch_size = 1\n",
    "random_seed = 20180719\n",
    "\n",
    "fnames = glob('data/*/*.jpg')\n",
    "\n",
    "np.random.seed(random_seed)\n",
    "np.random.shuffle(fnames)\n",
    "\n",
    "np.random.seed()\n",
    "n = len(fnames)\n",
    "n_train = int(n*0.8)\n",
    "fnames_train = fnames[:n_train]\n",
    "np.random.shuffle(fnames_train)\n",
    "fnames[:n_train] = fnames_train\n",
    "\n",
    "print(fnames[:5])\n",
    "\n",
    "class0 = len(glob('data/normal/*.jpg'))\n",
    "class1 = len(glob('data/abnormal/*.jpg'))\n",
    "\n",
    "\n",
    "\n",
    "X = np.zeros((n, height, width, 3), dtype=np.uint8)\n",
    "y = np.zeros((n, 1), dtype=np.uint8)\n",
    "\n",
    "def f(index):\n",
    "    return index, cv2.resize(cv2.imread(fnames[index]), (width, height))\n",
    "\n",
    "# with Pool(multiprocessing.cpu_count()) as pool:\n",
    "#     with tqdm(pool.imap_unordered(f, range(n)), total=n) as pbar:\n",
    "#         for i, img in pbar:\n",
    "#             X[i] = img\n",
    "#             if 'abnormal' in fnames[i]:\n",
    "#                 y[i] = 1\n",
    "#             else:\n",
    "#                 y[i] = 0\n",
    "\n",
    "for i in tqdm(range(n)):\n",
    "    X[i] = f(i)[1]\n",
    "    if 'abnormal' in fnames[i]:\n",
    "        y[i] = 1\n",
    "    else:\n",
    "        y[i] = 0"
   ]
  },
  {
   "cell_type": "code",
   "execution_count": null,
   "metadata": {
    "ExecuteTime": {
     "end_time": "2018-07-19T09:02:50.610135Z",
     "start_time": "2018-07-19T09:02:50.606103Z"
    }
   },
   "outputs": [],
   "source": [
    "# from sklearn.model_selection import train_test_split\n",
    "# X_train, X_valid, y_train, y_valid = train_test_split(X, y, test_size=0.2)\n",
    "\n",
    "X_train = X[:n_train]\n",
    "y_train = y[:n_train]\n",
    "X_valid = X[n_train:]\n",
    "y_valid = y[n_train:]"
   ]
  },
  {
   "cell_type": "code",
   "execution_count": null,
   "metadata": {
    "ExecuteTime": {
     "end_time": "2018-07-19T09:02:50.618003Z",
     "start_time": "2018-07-19T09:02:50.612555Z"
    }
   },
   "outputs": [],
   "source": [
    "class RocAucMetricCallback(Callback):\n",
    "    def __init__(self):\n",
    "        super(RocAucMetricCallback, self).__init__()\n",
    "\n",
    "    def on_epoch_end(self, epoch, logs={}):\n",
    "        logs['roc_auc_val']=float('-inf')\n",
    "        y_pred = model.predict(X_valid, batch_size=4)\n",
    "        auc = roc_auc_score(y_valid, y_pred)\n",
    "        acc = accuracy_score(y_valid[:,0], y_pred[:,0] > 0.5)\n",
    "        print(f'ACC: {acc:.4f} AUC: {auc:.4f}')"
   ]
  },
  {
   "cell_type": "code",
   "execution_count": null,
   "metadata": {
    "ExecuteTime": {
     "end_time": "2018-07-19T09:03:03.505232Z",
     "start_time": "2018-07-19T09:02:50.620161Z"
    }
   },
   "outputs": [],
   "source": [
    "input_tensor = Input((height, width, 3))\n",
    "\n",
    "x = Lambda(inception_resnet_v2.preprocess_input)(input_tensor)\n",
    "base_model = InceptionResNetV2(include_top=False, weights='imagenet', input_tensor=x)\n",
    "\n",
    "x = GlobalAvgPool2D()(base_model.output)\n",
    "x = Dropout(0.5)(x)\n",
    "x = Dense(1, activation='sigmoid')(x)\n",
    "model = Model(input_tensor, x)"
   ]
  },
  {
   "cell_type": "code",
   "execution_count": null,
   "metadata": {
    "ExecuteTime": {
     "end_time": "2018-07-19T09:03:03.511381Z",
     "start_time": "2018-07-19T09:03:03.508376Z"
    },
    "scrolled": false
   },
   "outputs": [],
   "source": [
    "# SVG(model_to_dot(model, show_shapes=True).create(prog='dot', format='svg'))"
   ]
  },
  {
   "cell_type": "code",
   "execution_count": null,
   "metadata": {},
   "outputs": [],
   "source": [
    "opt = Adam(1e-3)\n",
    "opt = hvd.DistributedOptimizer(opt)\n",
    "\n",
    "callbacks = [\n",
    "    # Horovod: broadcast initial variable states from rank 0 to all other processes.\n",
    "    # This is necessary to ensure consistent initialization of all workers when\n",
    "    # training is started with random weights or restored from a checkpoin\n",
    "    hvd.callbacks.BroadcastGlobalVariablesCallback(0),\n",
    "\n",
    "    # Horovod: average metrics among workers at the end of every epoch.\n",
    "    #\n",
    "    # Note: This callback must be in the list before the ReduceLROnPlateau,\n",
    "    # TensorBoard or other metrics-based callbacks.\n",
    "    hvd.callbacks.MetricAverageCallback(),\n",
    "\n",
    "    # Horovod: using `lr = 1.0 * hvd.size()` from the very beginning leads to worse final\n",
    "    # accuracy. Scale the learning rate `lr = 1.0` ---> `lr = 1.0 * hvd.size()` during\n",
    "    # the first five epochs. See https://arxiv.org/abs/1706.02677 for details.\n",
    "    hvd.callbacks.LearningRateWarmupCallback(warmup_epochs=5, verbose=1),\n",
    "]\n",
    "\n",
    "if hvd.rank() == 0:\n",
    "    callbacks.append(ModelCheckpoint('models/%s-{epoch}.h5' % model_name))\n",
    "    callbacks.append(RocAucMetricCallback())"
   ]
  },
  {
   "cell_type": "code",
   "execution_count": null,
   "metadata": {
    "ExecuteTime": {
     "start_time": "2018-07-19T09:02:38.358Z"
    },
    "code_folding": [],
    "scrolled": true
   },
   "outputs": [],
   "source": [
    "model.compile(optimizer=opt, \n",
    "              loss='binary_crossentropy',\n",
    "              metrics=['accuracy'])\n",
    "\n",
    "model.fit(X_train, y_train, batch_size=batch_size, epochs=epochs, callbacks=callbacks, \n",
    "          verbose=int(hvd.rank() == 0))"
   ]
  },
  {
   "cell_type": "code",
   "execution_count": null,
   "metadata": {
    "ExecuteTime": {
     "start_time": "2018-07-19T09:02:38.360Z"
    },
    "scrolled": false
   },
   "outputs": [],
   "source": [
    "y_pred = model.predict(X_valid, verbose=1, batch_size=1)\n",
    "pprint(roc_auc_score(y_valid, y_pred), accuracy_score(y_valid[:,0], y_pred[:,0] > 0.5))"
   ]
  },
  {
   "cell_type": "code",
   "execution_count": null,
   "metadata": {
    "ExecuteTime": {
     "start_time": "2018-07-19T09:02:38.360Z"
    }
   },
   "outputs": [],
   "source": [
    "pprint(confusion_matrix(y_valid > 0.5, y_pred > 0.5))"
   ]
  },
  {
   "cell_type": "code",
   "execution_count": null,
   "metadata": {
    "ExecuteTime": {
     "start_time": "2018-07-19T09:02:38.361Z"
    }
   },
   "outputs": [],
   "source": [
    "pprint(y_pred)"
   ]
  },
  {
   "cell_type": "code",
   "execution_count": null,
   "metadata": {},
   "outputs": [],
   "source": []
  }
 ],
 "metadata": {
  "kernelspec": {
   "display_name": "Python 3",
   "language": "python",
   "name": "python3"
  },
  "language_info": {
   "codemirror_mode": {
    "name": "ipython",
    "version": 3
   },
   "file_extension": ".py",
   "mimetype": "text/x-python",
   "name": "python",
   "nbconvert_exporter": "python",
   "pygments_lexer": "ipython3",
   "version": "3.6.5"
  }
 },
 "nbformat": 4,
 "nbformat_minor": 2
}
