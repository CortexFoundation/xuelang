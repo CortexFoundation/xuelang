{
 "cells": [
  {
   "cell_type": "markdown",
   "metadata": {},
   "source": [
    "## 创建文件夹\n",
    "\n",
    "* data：2022\n",
    "    * normal :1316\n",
    "    * abnormal :706"
   ]
  },
  {
   "cell_type": "code",
   "execution_count": 1,
   "metadata": {
    "ExecuteTime": {
     "end_time": "2018-07-19T08:45:19.362813Z",
     "start_time": "2018-07-19T08:45:19.352774Z"
    }
   },
   "outputs": [],
   "source": [
    "from tqdm import tqdm\n",
    "from glob import glob\n",
    "import shutil\n",
    "import os"
   ]
  },
  {
   "cell_type": "code",
   "execution_count": 2,
   "metadata": {
    "ExecuteTime": {
     "end_time": "2018-07-19T08:45:19.635803Z",
     "start_time": "2018-07-19T08:45:19.364935Z"
    }
   },
   "outputs": [],
   "source": [
    "!rm -rf data\n",
    "!mkdir -p data/normal data/abnormal"
   ]
  },
  {
   "cell_type": "code",
   "execution_count": 3,
   "metadata": {
    "ExecuteTime": {
     "end_time": "2018-07-19T08:45:19.645105Z",
     "start_time": "2018-07-19T08:45:19.639868Z"
    }
   },
   "outputs": [],
   "source": [
    "folder_name = ['xuelang_round1_train_part1_20180628',\n",
    "               'xuelang_round1_train_part2_20180705',\n",
    "               'xuelang_round1_train_part3_20180709']"
   ]
  },
  {
   "cell_type": "code",
   "execution_count": 4,
   "metadata": {
    "ExecuteTime": {
     "end_time": "2018-07-19T08:45:19.745087Z",
     "start_time": "2018-07-19T08:45:19.648763Z"
    }
   },
   "outputs": [
    {
     "name": "stderr",
     "output_type": "stream",
     "text": [
      "100%|██████████| 2022/2022 [00:00<00:00, 29869.31it/s]\n"
     ]
    }
   ],
   "source": [
    "with tqdm(glob('/home/ypw/data/xuelang/xuelang_round1_train*/*/*.jpg')) as pbar:\n",
    "    for fname in pbar:\n",
    "        img_fname = fname.split('/')[-1]\n",
    "        if '正常' in fname:\n",
    "            os.symlink(fname, f'data/normal/{img_fname}')\n",
    "        else:\n",
    "            os.symlink(fname, f'data/abnormal/{img_fname}')"
   ]
  },
  {
   "cell_type": "code",
   "execution_count": 5,
   "metadata": {
    "ExecuteTime": {
     "end_time": "2018-07-19T08:45:19.757576Z",
     "start_time": "2018-07-19T08:45:19.747695Z"
    }
   },
   "outputs": [
    {
     "name": "stdout",
     "output_type": "stream",
     "text": [
      "normal :1316\n"
     ]
    }
   ],
   "source": [
    "print('normal :%d' % len(glob('data/normal/*.jpg')))"
   ]
  },
  {
   "cell_type": "code",
   "execution_count": 6,
   "metadata": {
    "ExecuteTime": {
     "end_time": "2018-07-19T08:45:19.778737Z",
     "start_time": "2018-07-19T08:45:19.759585Z"
    }
   },
   "outputs": [
    {
     "name": "stdout",
     "output_type": "stream",
     "text": [
      "abnormal :706\n"
     ]
    }
   ],
   "source": [
    "print('abnormal :%d' % len(glob('data/abnormal/*.jpg')))"
   ]
  },
  {
   "cell_type": "code",
   "execution_count": 7,
   "metadata": {
    "ExecuteTime": {
     "end_time": "2018-07-19T08:45:19.801998Z",
     "start_time": "2018-07-19T08:45:19.780948Z"
    }
   },
   "outputs": [
    {
     "data": {
      "text/plain": [
       "2022"
      ]
     },
     "execution_count": 7,
     "metadata": {},
     "output_type": "execute_result"
    }
   ],
   "source": [
    "n = len(glob('data/normal/*.jpg')) + len(glob('data/abnormal/*.jpg'))\n",
    "n"
   ]
  },
  {
   "cell_type": "code",
   "execution_count": null,
   "metadata": {},
   "outputs": [],
   "source": []
  }
 ],
 "metadata": {
  "kernelspec": {
   "display_name": "Python 3",
   "language": "python",
   "name": "python3"
  },
  "language_info": {
   "codemirror_mode": {
    "name": "ipython",
    "version": 3
   },
   "file_extension": ".py",
   "mimetype": "text/x-python",
   "name": "python",
   "nbconvert_exporter": "python",
   "pygments_lexer": "ipython3",
   "version": "3.6.5"
  }
 },
 "nbformat": 4,
 "nbformat_minor": 2
}
