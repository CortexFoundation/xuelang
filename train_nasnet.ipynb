{
 "cells": [
  {
   "cell_type": "code",
   "execution_count": 1,
   "metadata": {
    "ExecuteTime": {
     "end_time": "2018-08-02T17:00:56.143536Z",
     "start_time": "2018-08-02T17:00:54.166735Z"
    }
   },
   "outputs": [
    {
     "name": "stderr",
     "output_type": "stream",
     "text": [
      "Using TensorFlow backend.\n"
     ]
    }
   ],
   "source": [
    "from keras.models import *\n",
    "from keras.layers import *\n",
    "from keras.callbacks import *\n",
    "from keras.optimizers import *\n",
    "from keras.applications import *\n",
    "from keras.regularizers import *\n",
    "from keras.preprocessing.image import *\n",
    "from keras.utils.multi_gpu_utils import multi_gpu_model\n",
    "\n",
    "from IPython.display import SVG\n",
    "from keras.utils.vis_utils import model_to_dot, plot_model\n",
    "\n",
    "import time\n",
    "from glob import glob\n",
    "from tqdm import tqdm\n",
    "import numpy as np\n",
    "import os\n",
    "import cv2\n",
    "import matplotlib.pyplot as plt\n",
    "import matplotlib.image as mpimg\n",
    "\n",
    "from sklearn.metrics import *\n",
    "\n",
    "import multiprocessing\n",
    "from multiprocessing.dummy import Pool\n",
    "from pprint import pprint"
   ]
  },
  {
   "cell_type": "code",
   "execution_count": 2,
   "metadata": {
    "ExecuteTime": {
     "end_time": "2018-08-02T17:00:56.161317Z",
     "start_time": "2018-08-02T17:00:56.147131Z"
    }
   },
   "outputs": [
    {
     "data": {
      "text/plain": [
       "'NASNetLarge_0803_f3.75_l21e-05'"
      ]
     },
     "execution_count": 2,
     "metadata": {},
     "output_type": "execute_result"
    }
   ],
   "source": [
    "os.environ['CUDA_VISIBLE_DEVICES'] = '0,1,2,3,4,5,6,7'\n",
    "n_gpus = len(os.environ['CUDA_VISIBLE_DEVICES'].split(','))\n",
    "\n",
    "epochs = [40, 20]\n",
    "batch_size = 1 * n_gpus\n",
    "preprocess_func = nasnet.preprocess_input\n",
    "MODEL = NASNetLarge\n",
    "\n",
    "f = 3.75\n",
    "lr = 1e-3\n",
    "l2_rate = 1e-5\n",
    "width = int(2560 / f)\n",
    "height = int(1920 / f)\n",
    "classes = ['正常', '吊经', '擦洞', '跳花', '毛洞', '织稀', '扎洞', '缺经', '毛斑', '其他']\n",
    "n_classes = len(classes)\n",
    "now = time.strftime('%m%d')\n",
    "model_name = f'{MODEL.__name__}_{now}_f{f}_l2{l2_rate}'\n",
    "model_name"
   ]
  },
  {
   "cell_type": "code",
   "execution_count": 3,
   "metadata": {
    "ExecuteTime": {
     "end_time": "2018-08-02T17:00:56.171460Z",
     "start_time": "2018-08-02T17:00:56.164332Z"
    }
   },
   "outputs": [
    {
     "name": "stdout",
     "output_type": "stream",
     "text": [
      "--------------------------------------------------------------------------------\n",
      "开始训练 NASNetLarge_0803_f3.75_l21e-05 模型。\n",
      "682 512 10\n",
      "['正常', '吊经', '擦洞', '跳花', '毛洞', '织稀', '扎洞', '缺经', '毛斑', '其他']\n",
      "--------------------------------------------------------------------------------\n"
     ]
    }
   ],
   "source": [
    "print('-'*80)\n",
    "print('开始训练 %s 模型。' % model_name)\n",
    "print(width, height, n_classes)\n",
    "print(classes)\n",
    "print('-'*80)"
   ]
  },
  {
   "cell_type": "code",
   "execution_count": 4,
   "metadata": {
    "ExecuteTime": {
     "end_time": "2018-08-02T17:01:01.719303Z",
     "start_time": "2018-08-02T17:00:56.174708Z"
    }
   },
   "outputs": [],
   "source": [
    "from keras import backend as K\n",
    "\n",
    "config = tf.ConfigProto()\n",
    "config.gpu_options.allow_growth = True\n",
    "K.set_session(tf.Session(config=config))"
   ]
  },
  {
   "cell_type": "code",
   "execution_count": 5,
   "metadata": {
    "ExecuteTime": {
     "end_time": "2018-08-02T17:01:02.077846Z",
     "start_time": "2018-08-02T17:01:01.721155Z"
    }
   },
   "outputs": [
    {
     "name": "stdout",
     "output_type": "stream",
     "text": [
      "Found 1617 images belonging to 10 classes.\n",
      "Found 405 images belonging to 10 classes.\n"
     ]
    }
   ],
   "source": [
    "idg = ImageDataGenerator(horizontal_flip=True,\n",
    "                         rotation_range=15,\n",
    "                         zoom_range=0.2)\n",
    "idg2 = ImageDataGenerator()\n",
    "\n",
    "gen_train = idg.flow_from_directory('train', target_size=(height, width), \n",
    "                                    interpolation='lanczos', classes=classes, batch_size=batch_size)\n",
    "gen_valid = idg2.flow_from_directory('valid', target_size=(height, width), shuffle=False, \n",
    "                                     interpolation='lanczos', classes=classes, batch_size=4)\n",
    "y_valid = (gen_valid.classes != 0).astype(int)"
   ]
  },
  {
   "cell_type": "code",
   "execution_count": 6,
   "metadata": {
    "ExecuteTime": {
     "end_time": "2018-08-02T17:01:02.088738Z",
     "start_time": "2018-08-02T17:01:02.081212Z"
    }
   },
   "outputs": [],
   "source": [
    "class RocAucMetricCallback(Callback):\n",
    "    def __init__(self):\n",
    "        super(RocAucMetricCallback, self).__init__()\n",
    "\n",
    "    def on_epoch_end(self, epoch, logs={}):\n",
    "        y_pred = model_parallel.predict_generator(gen_valid, verbose=1, workers=multiprocessing.cpu_count())\n",
    "        y_pred2 = 1 - y_pred[:,0]\n",
    "        y_pred3 = 1 - (np.argmax(y_pred, axis=-1) == 0)\n",
    "        \n",
    "        auc = roc_auc_score(y_valid, y_pred2)\n",
    "        acc = accuracy_score(y_valid, y_pred3)\n",
    "        logs['val_auc'] = auc\n",
    "        logs['val_acc'] = acc\n",
    "        logs['lr'] = float(K.get_value(model_parallel.optimizer.lr))\n",
    "        print(f'ACC: {acc:.4f} AUC: {auc:.4f}')"
   ]
  },
  {
   "cell_type": "code",
   "execution_count": 7,
   "metadata": {
    "ExecuteTime": {
     "end_time": "2018-08-02T17:01:51.940710Z",
     "start_time": "2018-08-02T17:01:02.091746Z"
    }
   },
   "outputs": [],
   "source": [
    "base_model = MODEL(input_shape=(height, width, 3), include_top=False, weights='imagenet')"
   ]
  },
  {
   "cell_type": "code",
   "execution_count": 8,
   "metadata": {
    "ExecuteTime": {
     "end_time": "2018-08-02T17:02:24.411666Z",
     "start_time": "2018-08-02T17:01:51.945593Z"
    }
   },
   "outputs": [],
   "source": [
    "input_tensor = Input((height, width, 3))\n",
    "x = Lambda(preprocess_func)(input_tensor)\n",
    "x = base_model(x)\n",
    "x = GlobalAvgPool2D()(x)\n",
    "x = Dropout(0.5)(x)\n",
    "x = Dense(n_classes, activation='softmax')(x)\n",
    "model = Model(input_tensor, x)"
   ]
  },
  {
   "cell_type": "code",
   "execution_count": 9,
   "metadata": {
    "ExecuteTime": {
     "end_time": "2018-08-02T17:02:24.438421Z",
     "start_time": "2018-08-02T17:02:24.415859Z"
    }
   },
   "outputs": [
    {
     "name": "stdout",
     "output_type": "stream",
     "text": [
      "<keras.layers.convolutional.Conv2D object at 0x7f736892bcf8>\n",
      "<keras.layers.convolutional.Conv2D object at 0x7f736886fc18>\n",
      "<keras.layers.convolutional.SeparableConv2D object at 0x7f73683074e0>\n",
      "<keras.layers.convolutional.SeparableConv2D object at 0x7f73681539e8>\n",
      "<keras.layers.convolutional.SeparableConv2D object at 0x7f7368282f28>\n",
      "<keras.layers.convolutional.SeparableConv2D object at 0x7f7368037160>\n",
      "<keras.layers.convolutional.SeparableConv2D object at 0x7f73606da400>\n",
      "<keras.layers.convolutional.SeparableConv2D object at 0x7f7360407588>\n",
      "<keras.layers.convolutional.SeparableConv2D object at 0x7f736016e4e0>\n",
      "<keras.layers.convolutional.SeparableConv2D object at 0x7f73605e9d68>\n",
      "<keras.layers.convolutional.SeparableConv2D object at 0x7f7360349f28>\n",
      "<keras.layers.convolutional.SeparableConv2D object at 0x7f73600bf0f0>\n",
      "<keras.layers.convolutional.Conv2D object at 0x7f733c688c88>\n",
      "<keras.layers.convolutional.Conv2D object at 0x7f733c6b27b8>\n",
      "<keras.layers.convolutional.Conv2D object at 0x7f733c7c9160>\n",
      "<keras.layers.convolutional.SeparableConv2D object at 0x7f733c4cc320>\n",
      "<keras.layers.convolutional.SeparableConv2D object at 0x7f733c2c9940>\n",
      "<keras.layers.convolutional.SeparableConv2D object at 0x7f733c472860>\n",
      "<keras.layers.convolutional.SeparableConv2D object at 0x7f733c1f26d8>\n",
      "<keras.layers.convolutional.SeparableConv2D object at 0x7f733c055cc0>\n",
      "<keras.layers.convolutional.SeparableConv2D object at 0x7f73185f2cf8>\n",
      "<keras.layers.convolutional.SeparableConv2D object at 0x7f731828e828>\n",
      "<keras.layers.convolutional.SeparableConv2D object at 0x7f733c0748d0>\n",
      "<keras.layers.convolutional.SeparableConv2D object at 0x7f73184ece48>\n",
      "<keras.layers.convolutional.SeparableConv2D object at 0x7f731825e400>\n",
      "<keras.layers.convolutional.Conv2D object at 0x7f7318068e48>\n",
      "<keras.layers.convolutional.Conv2D object at 0x7f72f87d8a90>\n",
      "<keras.layers.convolutional.Conv2D object at 0x7f731837ee48>\n",
      "<keras.layers.convolutional.SeparableConv2D object at 0x7f72f8668048>\n",
      "<keras.layers.convolutional.SeparableConv2D object at 0x7f72f84a5630>\n",
      "<keras.layers.convolutional.SeparableConv2D object at 0x7f72f821ceb8>\n",
      "<keras.layers.convolutional.SeparableConv2D object at 0x7f72f0783e10>\n",
      "<keras.layers.convolutional.SeparableConv2D object at 0x7f72f03ff048>\n",
      "<keras.layers.convolutional.SeparableConv2D object at 0x7f72f853e860>\n",
      "<keras.layers.convolutional.SeparableConv2D object at 0x7f72f8370908>\n",
      "<keras.layers.convolutional.SeparableConv2D object at 0x7f72f80cb898>\n",
      "<keras.layers.convolutional.SeparableConv2D object at 0x7f72f065c710>\n",
      "<keras.layers.convolutional.SeparableConv2D object at 0x7f72f03ea400>\n",
      "<keras.layers.convolutional.Conv2D object at 0x7f72f0290ac8>\n",
      "<keras.layers.convolutional.Conv2D object at 0x7f72f0325438>\n",
      "<keras.layers.convolutional.SeparableConv2D object at 0x7f72d47c6240>\n",
      "<keras.layers.convolutional.SeparableConv2D object at 0x7f72d45c1860>\n",
      "<keras.layers.convolutional.SeparableConv2D object at 0x7f72d43f6908>\n",
      "<keras.layers.convolutional.SeparableConv2D object at 0x7f72d414a898>\n",
      "<keras.layers.convolutional.SeparableConv2D object at 0x7f729861d9e8>\n",
      "<keras.layers.convolutional.SeparableConv2D object at 0x7f72d476c780>\n",
      "<keras.layers.convolutional.SeparableConv2D object at 0x7f72d44bbe48>\n",
      "<keras.layers.convolutional.SeparableConv2D object at 0x7f72d423eeb8>\n",
      "<keras.layers.convolutional.SeparableConv2D object at 0x7f72987d16a0>\n",
      "<keras.layers.convolutional.SeparableConv2D object at 0x7f7298545080>\n",
      "<keras.layers.convolutional.Conv2D object at 0x7f72984d4f60>\n",
      "<keras.layers.convolutional.Conv2D object at 0x7f729861dc88>\n",
      "<keras.layers.convolutional.SeparableConv2D object at 0x7f72981ccf60>\n",
      "<keras.layers.convolutional.SeparableConv2D object at 0x7f72807f3780>\n",
      "<keras.layers.convolutional.SeparableConv2D object at 0x7f7280555b38>\n",
      "<keras.layers.convolutional.SeparableConv2D object at 0x7f72803035c0>\n",
      "<keras.layers.convolutional.SeparableConv2D object at 0x7f7268780668>\n",
      "<keras.layers.convolutional.SeparableConv2D object at 0x7f7298137160>\n",
      "<keras.layers.convolutional.SeparableConv2D object at 0x7f728064a860>\n",
      "<keras.layers.convolutional.SeparableConv2D object at 0x7f7280471a90>\n",
      "<keras.layers.convolutional.SeparableConv2D object at 0x7f728026eb00>\n",
      "<keras.layers.convolutional.SeparableConv2D object at 0x7f726875dd30>\n",
      "<keras.layers.convolutional.Conv2D object at 0x7f728005eef0>\n",
      "<keras.layers.convolutional.Conv2D object at 0x7f72686b2940>\n",
      "<keras.layers.convolutional.SeparableConv2D object at 0x7f72683a7550>\n",
      "<keras.layers.convolutional.SeparableConv2D object at 0x7f726818df28>\n",
      "<keras.layers.convolutional.SeparableConv2D object at 0x7f724c719d68>\n",
      "<keras.layers.convolutional.SeparableConv2D object at 0x7f724c4efa90>\n",
      "<keras.layers.convolutional.SeparableConv2D object at 0x7f724c1ad898>\n",
      "<keras.layers.convolutional.SeparableConv2D object at 0x7f72682f5a58>\n",
      "<keras.layers.convolutional.SeparableConv2D object at 0x7f72680b4780>\n",
      "<keras.layers.convolutional.SeparableConv2D object at 0x7f724c5c9710>\n",
      "<keras.layers.convolutional.SeparableConv2D object at 0x7f724c34b2e8>\n",
      "<keras.layers.convolutional.SeparableConv2D object at 0x7f724c121940>\n",
      "<keras.layers.convolutional.Conv2D object at 0x7f724c22db00>\n",
      "<keras.layers.convolutional.Conv2D object at 0x7f724c0505c0>\n",
      "<keras.layers.convolutional.SeparableConv2D object at 0x7f72282cc1d0>\n",
      "<keras.layers.convolutional.SeparableConv2D object at 0x7f72281270f0>\n",
      "<keras.layers.convolutional.SeparableConv2D object at 0x7f72086e0e48>\n",
      "<keras.layers.convolutional.SeparableConv2D object at 0x7f720844b710>\n",
      "<keras.layers.convolutional.SeparableConv2D object at 0x7f7208113518>\n",
      "<keras.layers.convolutional.SeparableConv2D object at 0x7f722821ed68>\n",
      "<keras.layers.convolutional.SeparableConv2D object at 0x7f72087cdf28>\n",
      "<keras.layers.convolutional.SeparableConv2D object at 0x7f72085a6eb8>\n",
      "<keras.layers.convolutional.SeparableConv2D object at 0x7f7208311e80>\n",
      "<keras.layers.convolutional.SeparableConv2D object at 0x7f7208131e48>\n",
      "<keras.layers.convolutional.Conv2D object at 0x7f71e4768c88>\n",
      "<keras.layers.convolutional.Conv2D object at 0x7f71e477e5f8>\n",
      "<keras.layers.convolutional.SeparableConv2D object at 0x7f71e44e10b8>\n",
      "<keras.layers.convolutional.SeparableConv2D object at 0x7f71e42ce940>\n",
      "<keras.layers.convolutional.SeparableConv2D object at 0x7f71e40c8a90>\n",
      "<keras.layers.convolutional.SeparableConv2D object at 0x7f71cc60f978>\n",
      "<keras.layers.convolutional.SeparableConv2D object at 0x7f71cc31c080>\n",
      "<keras.layers.convolutional.SeparableConv2D object at 0x7f736e8ef390>\n",
      "<keras.layers.convolutional.SeparableConv2D object at 0x7f71e41e56d8>\n",
      "<keras.layers.convolutional.SeparableConv2D object at 0x7f71cc701fd0>\n",
      "<keras.layers.convolutional.SeparableConv2D object at 0x7f71cc505208>\n",
      "<keras.layers.convolutional.SeparableConv2D object at 0x7f71cc246160>\n",
      "<keras.layers.convolutional.Conv2D object at 0x7f71cc31c7b8>\n",
      "<keras.layers.convolutional.Conv2D object at 0x7f71cc18e080>\n",
      "<keras.layers.convolutional.SeparableConv2D object at 0x7f71a86a7320>\n",
      "<keras.layers.convolutional.SeparableConv2D object at 0x7f71a84f7860>\n",
      "<keras.layers.convolutional.SeparableConv2D object at 0x7f71a857f240>\n",
      "<keras.layers.convolutional.SeparableConv2D object at 0x7f71a8345940>\n",
      "<keras.layers.convolutional.SeparableConv2D object at 0x7f71a81da4a8>\n",
      "<keras.layers.convolutional.SeparableConv2D object at 0x7f71a074ea58>\n",
      "<keras.layers.convolutional.SeparableConv2D object at 0x7f71a0468470>\n",
      "<keras.layers.convolutional.SeparableConv2D object at 0x7f71a8122da0>\n",
      "<keras.layers.convolutional.SeparableConv2D object at 0x7f71a0641eb8>\n",
      "<keras.layers.convolutional.SeparableConv2D object at 0x7f71a03b9080>\n",
      "<keras.layers.convolutional.Conv2D object at 0x7f71a01c7c18>\n",
      "<keras.layers.convolutional.Conv2D object at 0x7f71a01f1710>\n",
      "<keras.layers.convolutional.Conv2D object at 0x7f71a0550898>\n",
      "<keras.layers.convolutional.SeparableConv2D object at 0x7f71987c7240>\n",
      "<keras.layers.convolutional.SeparableConv2D object at 0x7f71985bf860>\n",
      "<keras.layers.convolutional.SeparableConv2D object at 0x7f71983f4908>\n",
      "<keras.layers.convolutional.SeparableConv2D object at 0x7f719814c898>\n",
      "<keras.layers.convolutional.SeparableConv2D object at 0x7f716461dac8>\n",
      "<keras.layers.convolutional.SeparableConv2D object at 0x7f719876d780>\n",
      "<keras.layers.convolutional.SeparableConv2D object at 0x7f71984e9f60>\n",
      "<keras.layers.convolutional.SeparableConv2D object at 0x7f719823feb8>\n",
      "<keras.layers.convolutional.SeparableConv2D object at 0x7f71647c26a0>\n",
      "<keras.layers.convolutional.SeparableConv2D object at 0x7f7164548080>\n",
      "<keras.layers.convolutional.Conv2D object at 0x7f71644d4f60>\n",
      "<keras.layers.convolutional.Conv2D object at 0x7f716461dc88>\n",
      "<keras.layers.convolutional.SeparableConv2D object at 0x7f71641cff60>\n",
      "<keras.layers.convolutional.SeparableConv2D object at 0x7f71247f0780>\n",
      "<keras.layers.convolutional.SeparableConv2D object at 0x7f7124553b38>\n",
      "<keras.layers.convolutional.SeparableConv2D object at 0x7f71242c7ef0>\n",
      "<keras.layers.convolutional.SeparableConv2D object at 0x7f711d788668>\n",
      "<keras.layers.convolutional.SeparableConv2D object at 0x7f71640bb160>\n",
      "<keras.layers.convolutional.SeparableConv2D object at 0x7f7124646860>\n",
      "<keras.layers.convolutional.SeparableConv2D object at 0x7f7124471a90>\n",
      "<keras.layers.convolutional.SeparableConv2D object at 0x7f712426ab00>\n",
      "<keras.layers.convolutional.SeparableConv2D object at 0x7f711d75bd30>\n",
      "<keras.layers.convolutional.Conv2D object at 0x7f712405bef0>\n",
      "<keras.layers.convolutional.Conv2D object at 0x7f711d6b6940>\n",
      "<keras.layers.convolutional.SeparableConv2D object at 0x7f711d3a6550>\n",
      "<keras.layers.convolutional.SeparableConv2D object at 0x7f711d190f28>\n",
      "<keras.layers.convolutional.SeparableConv2D object at 0x7f711cf61d68>\n",
      "<keras.layers.convolutional.SeparableConv2D object at 0x7f711cd35a90>\n",
      "<keras.layers.convolutional.SeparableConv2D object at 0x7f711c9f7898>\n",
      "<keras.layers.convolutional.SeparableConv2D object at 0x7f711d282a58>\n",
      "<keras.layers.convolutional.SeparableConv2D object at 0x7f711d0b8780>\n",
      "<keras.layers.convolutional.SeparableConv2D object at 0x7f711ce0d710>\n",
      "<keras.layers.convolutional.SeparableConv2D object at 0x7f711cb932e8>\n",
      "<keras.layers.convolutional.SeparableConv2D object at 0x7f711c96d940>\n",
      "<keras.layers.convolutional.Conv2D object at 0x7f711c9fd390>\n",
      "<keras.layers.convolutional.Conv2D object at 0x7f711c7f4358>\n",
      "<keras.layers.convolutional.SeparableConv2D object at 0x7f711c58c208>\n",
      "<keras.layers.convolutional.SeparableConv2D object at 0x7f711c3ee780>\n",
      "<keras.layers.convolutional.SeparableConv2D object at 0x7f711c1a7e80>\n",
      "<keras.layers.convolutional.SeparableConv2D object at 0x7f70ebedb748>\n",
      "<keras.layers.convolutional.SeparableConv2D object at 0x7f70ebbaa240>\n",
      "<keras.layers.convolutional.SeparableConv2D object at 0x7f711c4e0da0>\n",
      "<keras.layers.convolutional.SeparableConv2D object at 0x7f711c298f28>\n",
      "<keras.layers.convolutional.SeparableConv2D object at 0x7f711c06eef0>\n",
      "<keras.layers.convolutional.SeparableConv2D object at 0x7f70ebda6eb8>\n",
      "<keras.layers.convolutional.SeparableConv2D object at 0x7f70ebb46e80>\n",
      "<keras.layers.convolutional.Conv2D object at 0x7f70eba3bcc0>\n",
      "<keras.layers.convolutional.Conv2D object at 0x7f70eba53630>\n",
      "<keras.layers.convolutional.SeparableConv2D object at 0x7f70eb7b70f0>\n",
      "<keras.layers.convolutional.SeparableConv2D object at 0x7f70eb5b1da0>\n",
      "<keras.layers.convolutional.SeparableConv2D object at 0x7f70eb3b8ba8>\n",
      "<keras.layers.convolutional.SeparableConv2D object at 0x7f70eb13fef0>\n",
      "<keras.layers.convolutional.SeparableConv2D object at 0x7f70eabd14a8>\n",
      "<keras.layers.convolutional.SeparableConv2D object at 0x7f70eb6dc978>\n",
      "<keras.layers.convolutional.SeparableConv2D object at 0x7f70eb4bf780>\n",
      "<keras.layers.convolutional.SeparableConv2D object at 0x7f70eb215710>\n",
      "<keras.layers.convolutional.SeparableConv2D object at 0x7f70ead85f28>\n",
      "<keras.layers.convolutional.SeparableConv2D object at 0x7f70eab7c240>\n",
      "<keras.layers.convolutional.Conv2D object at 0x7f70eaa89f98>\n",
      "<keras.layers.convolutional.Conv2D object at 0x7f70eabd18d0>\n",
      "<keras.layers.convolutional.SeparableConv2D object at 0x7f70ea7966d8>\n",
      "<keras.layers.convolutional.SeparableConv2D object at 0x7f70ea5e9978>\n",
      "<keras.layers.convolutional.SeparableConv2D object at 0x7f70ea34b780>\n",
      "<keras.layers.convolutional.SeparableConv2D object at 0x7f70ea120710>\n",
      "<keras.layers.convolutional.SeparableConv2D object at 0x7f70e9e39860>\n",
      "<keras.layers.convolutional.SeparableConv2D object at 0x7f70ea6f0358>\n",
      "<keras.layers.convolutional.SeparableConv2D object at 0x7f70ea4bcda0>\n",
      "<keras.layers.convolutional.SeparableConv2D object at 0x7f70ea2166a0>\n",
      "<keras.layers.convolutional.SeparableConv2D object at 0x7f70e9fea860>\n",
      "<keras.layers.convolutional.SeparableConv2D object at 0x7f70e9d45e10>\n",
      "<keras.layers.convolutional.Conv2D object at 0x7f70ea8e0ef0>\n",
      "<keras.layers.convolutional.Conv2D object at 0x7f70e9c58e10>\n",
      "<keras.layers.convolutional.SeparableConv2D object at 0x7f70e99ec710>\n",
      "<keras.layers.convolutional.SeparableConv2D object at 0x7f70e9826e80>\n",
      "<keras.layers.convolutional.SeparableConv2D object at 0x7f70e98c5eb8>\n",
      "<keras.layers.convolutional.SeparableConv2D object at 0x7f70e96ff940>\n",
      "<keras.layers.convolutional.SeparableConv2D object at 0x7f70e951f6a0>\n",
      "<keras.layers.convolutional.SeparableConv2D object at 0x7f70e92df7b8>\n",
      "<keras.layers.convolutional.SeparableConv2D object at 0x7f70e90651d0>\n",
      "<keras.layers.convolutional.SeparableConv2D object at 0x7f70e940e7b8>\n",
      "<keras.layers.convolutional.SeparableConv2D object at 0x7f70e91e98d0>\n",
      "<keras.layers.convolutional.SeparableConv2D object at 0x7f70e8f4fa58>\n",
      "<keras.layers.convolutional.Conv2D object at 0x7f70e8d77710>\n",
      "<keras.layers.convolutional.Conv2D object at 0x7f70e8d0d550>\n",
      "<keras.layers.convolutional.Conv2D object at 0x7f70e8e5ff28>\n",
      "<keras.layers.convolutional.SeparableConv2D object at 0x7f70e8bbc5f8>\n",
      "<keras.layers.convolutional.SeparableConv2D object at 0x7f70e8984898>\n",
      "<keras.layers.convolutional.SeparableConv2D object at 0x7f70e8765c50>\n",
      "<keras.layers.convolutional.SeparableConv2D object at 0x7f70e84d66a0>\n",
      "<keras.layers.convolutional.SeparableConv2D object at 0x7f70e81d4780>\n",
      "<keras.layers.convolutional.SeparableConv2D object at 0x7f70e8a8d278>\n",
      "<keras.layers.convolutional.SeparableConv2D object at 0x7f70e8858630>\n",
      "<keras.layers.convolutional.SeparableConv2D object at 0x7f70e862d908>\n",
      "<keras.layers.convolutional.SeparableConv2D object at 0x7f70e8387780>\n",
      "<keras.layers.convolutional.SeparableConv2D object at 0x7f70e8163a90>\n",
      "<keras.layers.convolutional.Conv2D object at 0x7f70e80bfcf8>\n",
      "<keras.layers.convolutional.Conv2D object at 0x7f70e81d4a20>\n",
      "<keras.layers.convolutional.SeparableConv2D object at 0x7f70c7583668>\n",
      "<keras.layers.convolutional.SeparableConv2D object at 0x7f70c7438dd8>\n",
      "<keras.layers.convolutional.SeparableConv2D object at 0x7f70c71b1e80>\n",
      "<keras.layers.convolutional.SeparableConv2D object at 0x7f70c6f37908>\n",
      "<keras.layers.convolutional.SeparableConv2D object at 0x7f70c6bca4e0>\n",
      "<keras.layers.convolutional.SeparableConv2D object at 0x7f70c74d9e10>\n",
      "<keras.layers.convolutional.SeparableConv2D object at 0x7f70c7285898>\n",
      "<keras.layers.convolutional.SeparableConv2D object at 0x7f70c705f828>\n",
      "<keras.layers.convolutional.SeparableConv2D object at 0x7f70c6e6e940>\n",
      "<keras.layers.convolutional.SeparableConv2D object at 0x7f70c6b42da0>\n",
      "<keras.layers.convolutional.Conv2D object at 0x7f70c6c514a8>\n",
      "<keras.layers.convolutional.Conv2D object at 0x7f70c6ae66d8>\n",
      "<keras.layers.convolutional.SeparableConv2D object at 0x7f70c67e12e8>\n",
      "<keras.layers.convolutional.SeparableConv2D object at 0x7f70c65c5860>\n",
      "<keras.layers.convolutional.SeparableConv2D object at 0x7f70c637f048>\n",
      "<keras.layers.convolutional.SeparableConv2D object at 0x7f70c616a828>\n",
      "<keras.layers.convolutional.SeparableConv2D object at 0x7f70c562b320>\n",
      "<keras.layers.convolutional.SeparableConv2D object at 0x7f70c6738e80>\n",
      "<keras.layers.convolutional.SeparableConv2D object at 0x7f70c653edd8>\n",
      "<keras.layers.convolutional.SeparableConv2D object at 0x7f70c62a3ef0>\n",
      "<keras.layers.convolutional.SeparableConv2D object at 0x7f70c57c9080>\n",
      "<keras.layers.convolutional.SeparableConv2D object at 0x7f70c55a36d8>\n",
      "<keras.layers.convolutional.Conv2D object at 0x7f70c544b9b0>\n",
      "<keras.layers.convolutional.Conv2D object at 0x7f70c549bcf8>\n",
      "<keras.layers.convolutional.SeparableConv2D object at 0x7f70c51be1d0>\n",
      "<keras.layers.convolutional.SeparableConv2D object at 0x7f70c4fbcb38>\n",
      "<keras.layers.convolutional.SeparableConv2D object at 0x7f70c4df8e10>\n",
      "<keras.layers.convolutional.SeparableConv2D object at 0x7f70c4b9cd68>\n",
      "<keras.layers.convolutional.SeparableConv2D object at 0x7f70c485e9b0>\n",
      "<keras.layers.convolutional.SeparableConv2D object at 0x7f70c51177b8>\n",
      "<keras.layers.convolutional.SeparableConv2D object at 0x7f70c4ec8860>\n",
      "<keras.layers.convolutional.SeparableConv2D object at 0x7f70c4ca17f0>\n",
      "<keras.layers.convolutional.SeparableConv2D object at 0x7f70c4a116d8>\n",
      "<keras.layers.convolutional.SeparableConv2D object at 0x7f70c4788358>\n",
      "<keras.layers.convolutional.Conv2D object at 0x7f70c46aba20>\n",
      "<keras.layers.convolutional.Conv2D object at 0x7f70c485eb70>\n",
      "<keras.layers.convolutional.SeparableConv2D object at 0x7f70c44244a8>\n",
      "<keras.layers.convolutional.SeparableConv2D object at 0x7f70c4270a58>\n",
      "<keras.layers.convolutional.SeparableConv2D object at 0x7f70a7f9b860>\n",
      "<keras.layers.convolutional.SeparableConv2D object at 0x7f70a7d727f0>\n",
      "<keras.layers.convolutional.SeparableConv2D object at 0x7f70a7a07a20>\n",
      "<keras.layers.convolutional.SeparableConv2D object at 0x7f70c434e6d8>\n",
      "<keras.layers.convolutional.SeparableConv2D object at 0x7f70c40c9b38>\n",
      "<keras.layers.convolutional.SeparableConv2D object at 0x7f70a7e94d30>\n",
      "<keras.layers.convolutional.SeparableConv2D object at 0x7f70a7c3b940>\n",
      "<keras.layers.convolutional.SeparableConv2D object at 0x7f70a7997ef0>\n",
      "<keras.layers.convolutional.Conv2D object at 0x7f70a7938c18>\n",
      "<keras.layers.convolutional.Conv2D object at 0x7f70a7a07be0>\n",
      "<keras.layers.convolutional.SeparableConv2D object at 0x7f70a6e35eb8>\n",
      "<keras.layers.convolutional.SeparableConv2D object at 0x7f70a6c1b6d8>\n",
      "<keras.layers.convolutional.SeparableConv2D object at 0x7f70a67bda90>\n",
      "<keras.layers.convolutional.SeparableConv2D object at 0x7f70a6569518>\n",
      "<keras.layers.convolutional.SeparableConv2D object at 0x7f70a62335c0>\n",
      "<keras.layers.convolutional.SeparableConv2D object at 0x7f70a6d1e0b8>\n",
      "<keras.layers.convolutional.SeparableConv2D object at 0x7f70a6ac2a58>\n",
      "<keras.layers.convolutional.SeparableConv2D object at 0x7f70a665a9e8>\n",
      "<keras.layers.convolutional.SeparableConv2D object at 0x7f70a645aa58>\n",
      "<keras.layers.convolutional.SeparableConv2D object at 0x7f70a618ee80>\n",
      "<keras.layers.core.Dense object at 0x7f70673e9f28>\n"
     ]
    }
   ],
   "source": [
    "for layer in base_model.layers + model.layers:\n",
    "    if hasattr(layer, 'kernel_regularizer'):\n",
    "        print(layer)\n",
    "        layer.kernel_regularizer= l2(l2_rate)"
   ]
  },
  {
   "cell_type": "code",
   "execution_count": 10,
   "metadata": {
    "ExecuteTime": {
     "end_time": "2018-08-02T17:10:17.864069Z",
     "start_time": "2018-08-02T17:02:24.439985Z"
    }
   },
   "outputs": [],
   "source": [
    "model_parallel = multi_gpu_model(model, n_gpus)\n",
    "model_parallel.__setattr__('callback_model', model)"
   ]
  },
  {
   "cell_type": "code",
   "execution_count": 11,
   "metadata": {
    "ExecuteTime": {
     "end_time": "2018-08-02T17:10:18.523551Z",
     "start_time": "2018-08-02T17:10:17.866121Z"
    },
    "scrolled": false
   },
   "outputs": [],
   "source": [
    "plot_model(model, show_shapes=True, to_file=f'logs/plot_{model_name}.png')\n",
    "# SVG(model_to_dot(model, show_shapes=True).create(prog='dot', format='svg'))"
   ]
  },
  {
   "cell_type": "code",
   "execution_count": 12,
   "metadata": {
    "ExecuteTime": {
     "end_time": "2018-08-02T17:10:18.532456Z",
     "start_time": "2018-08-02T17:10:18.527384Z"
    }
   },
   "outputs": [],
   "source": [
    "def train(start, end, lr, warmup=False):\n",
    "    opt = SGD(lr, momentum=0.9, nesterov=True)\n",
    "\n",
    "    callbacks = [\n",
    "        RocAucMetricCallback(), \n",
    "        ModelCheckpoint('models/%s-{lr:.6f}-{epoch}-{val_auc:.6f}.h5' % model_name, \n",
    "                        save_weights_only=True), \n",
    "        CSVLogger('logs/%s.csv' % model_name, append=True), \n",
    "    ]\n",
    "    \n",
    "    model_parallel.compile(optimizer=opt, \n",
    "              loss='categorical_crossentropy',\n",
    "              metrics=['accuracy'])\n",
    "\n",
    "    model_parallel.fit_generator(gen_train, steps_per_epoch=len(gen_train),  \n",
    "                                 workers=multiprocessing.cpu_count(), \n",
    "                                 initial_epoch=start, epochs=end, callbacks=callbacks)"
   ]
  },
  {
   "cell_type": "code",
   "execution_count": null,
   "metadata": {
    "ExecuteTime": {
     "start_time": "2018-08-02T17:52:41.489Z"
    }
   },
   "outputs": [
    {
     "name": "stdout",
     "output_type": "stream",
     "text": [
      "Epoch 1/10\n"
     ]
    }
   ],
   "source": [
    "train(0, 10, 1e-4)"
   ]
  },
  {
   "cell_type": "code",
   "execution_count": 13,
   "metadata": {
    "ExecuteTime": {
     "end_time": "2018-08-02T17:52:07.785539Z",
     "start_time": "2018-08-02T17:10:18.534265Z"
    },
    "scrolled": false
   },
   "outputs": [
    {
     "name": "stdout",
     "output_type": "stream",
     "text": [
      "Epoch 1/40\n",
      "203/203 [==============================] - 1258s 6s/step - loss: 1.5793 - acc: 0.6416\n",
      "102/102 [==============================] - 184s 2s/step\n",
      "ACC: 0.6543 AUC: 0.5000\n",
      "Epoch 2/40\n",
      "203/203 [==============================] - 443s 2s/step - loss: 1.7578 - acc: 0.6515\n",
      "102/102 [==============================] - 96s 943ms/step\n",
      "ACC: 0.6543 AUC: 0.5000\n",
      "Epoch 3/40\n",
      "172/203 [========================>.....] - ETA: 1:06 - loss: 1.6666 - acc: 0.6533"
     ]
    },
    {
     "ename": "KeyboardInterrupt",
     "evalue": "",
     "output_type": "error",
     "traceback": [
      "\u001b[0;31m---------------------------------------------------------------------------\u001b[0m",
      "\u001b[0;31mKeyboardInterrupt\u001b[0m                         Traceback (most recent call last)",
      "\u001b[0;32m<ipython-input-13-42bf726cf0b8>\u001b[0m in \u001b[0;36m<module>\u001b[0;34m()\u001b[0m\n\u001b[1;32m      1\u001b[0m \u001b[0mstart\u001b[0m \u001b[0;34m=\u001b[0m \u001b[0;36m0\u001b[0m\u001b[0;34m\u001b[0m\u001b[0m\n\u001b[1;32m      2\u001b[0m \u001b[0;32mfor\u001b[0m \u001b[0mi\u001b[0m\u001b[0;34m,\u001b[0m \u001b[0mepochs\u001b[0m \u001b[0;32min\u001b[0m \u001b[0menumerate\u001b[0m\u001b[0;34m(\u001b[0m\u001b[0mepochs\u001b[0m\u001b[0;34m)\u001b[0m\u001b[0;34m:\u001b[0m\u001b[0;34m\u001b[0m\u001b[0m\n\u001b[0;32m----> 3\u001b[0;31m     \u001b[0mtrain\u001b[0m\u001b[0;34m(\u001b[0m\u001b[0mstart\u001b[0m\u001b[0;34m,\u001b[0m \u001b[0mstart\u001b[0m \u001b[0;34m+\u001b[0m \u001b[0mepochs\u001b[0m\u001b[0;34m,\u001b[0m \u001b[0mlr\u001b[0m\u001b[0;34m*\u001b[0m\u001b[0;36m0.1\u001b[0m\u001b[0;34m**\u001b[0m\u001b[0mi\u001b[0m\u001b[0;34m,\u001b[0m \u001b[0mwarmup\u001b[0m\u001b[0;34m=\u001b[0m\u001b[0mi\u001b[0m \u001b[0;34m==\u001b[0m \u001b[0;36m0\u001b[0m\u001b[0;34m)\u001b[0m\u001b[0;34m\u001b[0m\u001b[0m\n\u001b[0m\u001b[1;32m      4\u001b[0m     \u001b[0mstart\u001b[0m \u001b[0;34m+=\u001b[0m \u001b[0mepochs\u001b[0m\u001b[0;34m\u001b[0m\u001b[0m\n",
      "\u001b[0;32m<ipython-input-12-a1de23e22f37>\u001b[0m in \u001b[0;36mtrain\u001b[0;34m(start, end, lr, warmup)\u001b[0m\n\u001b[1;32m     15\u001b[0m     model_parallel.fit_generator(gen_train, steps_per_epoch=len(gen_train),  \n\u001b[1;32m     16\u001b[0m                                  \u001b[0mworkers\u001b[0m\u001b[0;34m=\u001b[0m\u001b[0mmultiprocessing\u001b[0m\u001b[0;34m.\u001b[0m\u001b[0mcpu_count\u001b[0m\u001b[0;34m(\u001b[0m\u001b[0;34m)\u001b[0m\u001b[0;34m,\u001b[0m\u001b[0;34m\u001b[0m\u001b[0m\n\u001b[0;32m---> 17\u001b[0;31m                                  initial_epoch=start, epochs=end, callbacks=callbacks)\n\u001b[0m",
      "\u001b[0;32m~/miniconda3/lib/python3.6/site-packages/keras/legacy/interfaces.py\u001b[0m in \u001b[0;36mwrapper\u001b[0;34m(*args, **kwargs)\u001b[0m\n\u001b[1;32m     89\u001b[0m                 warnings.warn('Update your `' + object_name +\n\u001b[1;32m     90\u001b[0m                               '` call to the Keras 2 API: ' + signature, stacklevel=2)\n\u001b[0;32m---> 91\u001b[0;31m             \u001b[0;32mreturn\u001b[0m \u001b[0mfunc\u001b[0m\u001b[0;34m(\u001b[0m\u001b[0;34m*\u001b[0m\u001b[0margs\u001b[0m\u001b[0;34m,\u001b[0m \u001b[0;34m**\u001b[0m\u001b[0mkwargs\u001b[0m\u001b[0;34m)\u001b[0m\u001b[0;34m\u001b[0m\u001b[0m\n\u001b[0m\u001b[1;32m     92\u001b[0m         \u001b[0mwrapper\u001b[0m\u001b[0;34m.\u001b[0m\u001b[0m_original_function\u001b[0m \u001b[0;34m=\u001b[0m \u001b[0mfunc\u001b[0m\u001b[0;34m\u001b[0m\u001b[0m\n\u001b[1;32m     93\u001b[0m         \u001b[0;32mreturn\u001b[0m \u001b[0mwrapper\u001b[0m\u001b[0;34m\u001b[0m\u001b[0m\n",
      "\u001b[0;32m~/miniconda3/lib/python3.6/site-packages/keras/engine/training.py\u001b[0m in \u001b[0;36mfit_generator\u001b[0;34m(self, generator, steps_per_epoch, epochs, verbose, callbacks, validation_data, validation_steps, class_weight, max_queue_size, workers, use_multiprocessing, shuffle, initial_epoch)\u001b[0m\n\u001b[1;32m   1424\u001b[0m             \u001b[0muse_multiprocessing\u001b[0m\u001b[0;34m=\u001b[0m\u001b[0muse_multiprocessing\u001b[0m\u001b[0;34m,\u001b[0m\u001b[0;34m\u001b[0m\u001b[0m\n\u001b[1;32m   1425\u001b[0m             \u001b[0mshuffle\u001b[0m\u001b[0;34m=\u001b[0m\u001b[0mshuffle\u001b[0m\u001b[0;34m,\u001b[0m\u001b[0;34m\u001b[0m\u001b[0m\n\u001b[0;32m-> 1426\u001b[0;31m             initial_epoch=initial_epoch)\n\u001b[0m\u001b[1;32m   1427\u001b[0m \u001b[0;34m\u001b[0m\u001b[0m\n\u001b[1;32m   1428\u001b[0m     \u001b[0;34m@\u001b[0m\u001b[0minterfaces\u001b[0m\u001b[0;34m.\u001b[0m\u001b[0mlegacy_generator_methods_support\u001b[0m\u001b[0;34m\u001b[0m\u001b[0m\n",
      "\u001b[0;32m~/miniconda3/lib/python3.6/site-packages/keras/engine/training_generator.py\u001b[0m in \u001b[0;36mfit_generator\u001b[0;34m(model, generator, steps_per_epoch, epochs, verbose, callbacks, validation_data, validation_steps, class_weight, max_queue_size, workers, use_multiprocessing, shuffle, initial_epoch)\u001b[0m\n\u001b[1;32m    189\u001b[0m                 outs = model.train_on_batch(x, y,\n\u001b[1;32m    190\u001b[0m                                             \u001b[0msample_weight\u001b[0m\u001b[0;34m=\u001b[0m\u001b[0msample_weight\u001b[0m\u001b[0;34m,\u001b[0m\u001b[0;34m\u001b[0m\u001b[0m\n\u001b[0;32m--> 191\u001b[0;31m                                             class_weight=class_weight)\n\u001b[0m\u001b[1;32m    192\u001b[0m \u001b[0;34m\u001b[0m\u001b[0m\n\u001b[1;32m    193\u001b[0m                 \u001b[0;32mif\u001b[0m \u001b[0;32mnot\u001b[0m \u001b[0misinstance\u001b[0m\u001b[0;34m(\u001b[0m\u001b[0mouts\u001b[0m\u001b[0;34m,\u001b[0m \u001b[0mlist\u001b[0m\u001b[0;34m)\u001b[0m\u001b[0;34m:\u001b[0m\u001b[0;34m\u001b[0m\u001b[0m\n",
      "\u001b[0;32m~/miniconda3/lib/python3.6/site-packages/keras/engine/training.py\u001b[0m in \u001b[0;36mtrain_on_batch\u001b[0;34m(self, x, y, sample_weight, class_weight)\u001b[0m\n\u001b[1;32m   1218\u001b[0m             \u001b[0mins\u001b[0m \u001b[0;34m=\u001b[0m \u001b[0mx\u001b[0m \u001b[0;34m+\u001b[0m \u001b[0my\u001b[0m \u001b[0;34m+\u001b[0m \u001b[0msample_weights\u001b[0m\u001b[0;34m\u001b[0m\u001b[0m\n\u001b[1;32m   1219\u001b[0m         \u001b[0mself\u001b[0m\u001b[0;34m.\u001b[0m\u001b[0m_make_train_function\u001b[0m\u001b[0;34m(\u001b[0m\u001b[0;34m)\u001b[0m\u001b[0;34m\u001b[0m\u001b[0m\n\u001b[0;32m-> 1220\u001b[0;31m         \u001b[0moutputs\u001b[0m \u001b[0;34m=\u001b[0m \u001b[0mself\u001b[0m\u001b[0;34m.\u001b[0m\u001b[0mtrain_function\u001b[0m\u001b[0;34m(\u001b[0m\u001b[0mins\u001b[0m\u001b[0;34m)\u001b[0m\u001b[0;34m\u001b[0m\u001b[0m\n\u001b[0m\u001b[1;32m   1221\u001b[0m         \u001b[0;32mif\u001b[0m \u001b[0mlen\u001b[0m\u001b[0;34m(\u001b[0m\u001b[0moutputs\u001b[0m\u001b[0;34m)\u001b[0m \u001b[0;34m==\u001b[0m \u001b[0;36m1\u001b[0m\u001b[0;34m:\u001b[0m\u001b[0;34m\u001b[0m\u001b[0m\n\u001b[1;32m   1222\u001b[0m             \u001b[0;32mreturn\u001b[0m \u001b[0moutputs\u001b[0m\u001b[0;34m[\u001b[0m\u001b[0;36m0\u001b[0m\u001b[0;34m]\u001b[0m\u001b[0;34m\u001b[0m\u001b[0m\n",
      "\u001b[0;32m~/miniconda3/lib/python3.6/site-packages/keras/backend/tensorflow_backend.py\u001b[0m in \u001b[0;36m__call__\u001b[0;34m(self, inputs)\u001b[0m\n\u001b[1;32m   2659\u001b[0m                 \u001b[0;32mreturn\u001b[0m \u001b[0mself\u001b[0m\u001b[0;34m.\u001b[0m\u001b[0m_legacy_call\u001b[0m\u001b[0;34m(\u001b[0m\u001b[0minputs\u001b[0m\u001b[0;34m)\u001b[0m\u001b[0;34m\u001b[0m\u001b[0m\n\u001b[1;32m   2660\u001b[0m \u001b[0;34m\u001b[0m\u001b[0m\n\u001b[0;32m-> 2661\u001b[0;31m             \u001b[0;32mreturn\u001b[0m \u001b[0mself\u001b[0m\u001b[0;34m.\u001b[0m\u001b[0m_call\u001b[0m\u001b[0;34m(\u001b[0m\u001b[0minputs\u001b[0m\u001b[0;34m)\u001b[0m\u001b[0;34m\u001b[0m\u001b[0m\n\u001b[0m\u001b[1;32m   2662\u001b[0m         \u001b[0;32melse\u001b[0m\u001b[0;34m:\u001b[0m\u001b[0;34m\u001b[0m\u001b[0m\n\u001b[1;32m   2663\u001b[0m             \u001b[0;32mif\u001b[0m \u001b[0mpy_any\u001b[0m\u001b[0;34m(\u001b[0m\u001b[0mis_tensor\u001b[0m\u001b[0;34m(\u001b[0m\u001b[0mx\u001b[0m\u001b[0;34m)\u001b[0m \u001b[0;32mfor\u001b[0m \u001b[0mx\u001b[0m \u001b[0;32min\u001b[0m \u001b[0minputs\u001b[0m\u001b[0;34m)\u001b[0m\u001b[0;34m:\u001b[0m\u001b[0;34m\u001b[0m\u001b[0m\n",
      "\u001b[0;32m~/miniconda3/lib/python3.6/site-packages/keras/backend/tensorflow_backend.py\u001b[0m in \u001b[0;36m_call\u001b[0;34m(self, inputs)\u001b[0m\n\u001b[1;32m   2629\u001b[0m                                 \u001b[0msymbol_vals\u001b[0m\u001b[0;34m,\u001b[0m\u001b[0;34m\u001b[0m\u001b[0m\n\u001b[1;32m   2630\u001b[0m                                 session)\n\u001b[0;32m-> 2631\u001b[0;31m         \u001b[0mfetched\u001b[0m \u001b[0;34m=\u001b[0m \u001b[0mself\u001b[0m\u001b[0;34m.\u001b[0m\u001b[0m_callable_fn\u001b[0m\u001b[0;34m(\u001b[0m\u001b[0;34m*\u001b[0m\u001b[0marray_vals\u001b[0m\u001b[0;34m)\u001b[0m\u001b[0;34m\u001b[0m\u001b[0m\n\u001b[0m\u001b[1;32m   2632\u001b[0m         \u001b[0;32mreturn\u001b[0m \u001b[0mfetched\u001b[0m\u001b[0;34m[\u001b[0m\u001b[0;34m:\u001b[0m\u001b[0mlen\u001b[0m\u001b[0;34m(\u001b[0m\u001b[0mself\u001b[0m\u001b[0;34m.\u001b[0m\u001b[0moutputs\u001b[0m\u001b[0;34m)\u001b[0m\u001b[0;34m]\u001b[0m\u001b[0;34m\u001b[0m\u001b[0m\n\u001b[1;32m   2633\u001b[0m \u001b[0;34m\u001b[0m\u001b[0m\n",
      "\u001b[0;32m~/miniconda3/lib/python3.6/site-packages/tensorflow/python/client/session.py\u001b[0m in \u001b[0;36m__call__\u001b[0;34m(self, *args)\u001b[0m\n\u001b[1;32m   1449\u001b[0m         \u001b[0;32mif\u001b[0m \u001b[0mself\u001b[0m\u001b[0;34m.\u001b[0m\u001b[0m_session\u001b[0m\u001b[0;34m.\u001b[0m\u001b[0m_created_with_new_api\u001b[0m\u001b[0;34m:\u001b[0m\u001b[0;34m\u001b[0m\u001b[0m\n\u001b[1;32m   1450\u001b[0m           return tf_session.TF_SessionRunCallable(\n\u001b[0;32m-> 1451\u001b[0;31m               self._session._session, self._handle, args, status, None)\n\u001b[0m\u001b[1;32m   1452\u001b[0m         \u001b[0;32melse\u001b[0m\u001b[0;34m:\u001b[0m\u001b[0;34m\u001b[0m\u001b[0m\n\u001b[1;32m   1453\u001b[0m           return tf_session.TF_DeprecatedSessionRunCallable(\n",
      "\u001b[0;31mKeyboardInterrupt\u001b[0m: "
     ]
    }
   ],
   "source": [
    "start = 0\n",
    "for i, epochs in enumerate(epochs):\n",
    "    train(start, start + epochs, lr*0.1**i, warmup=i == 0)\n",
    "    start += epochs"
   ]
  },
  {
   "cell_type": "code",
   "execution_count": null,
   "metadata": {
    "ExecuteTime": {
     "end_time": "2018-08-02T17:52:07.787098Z",
     "start_time": "2018-08-02T17:00:54.149Z"
    },
    "scrolled": false
   },
   "outputs": [],
   "source": [
    "y_pred = model.predict_generator(gen_valid, verbose=1, workers=multiprocessing.cpu_count())\n",
    "y_pred2 = 1 - y_pred[:,0]\n",
    "y_pred3 = 1 - (np.argmax(y_pred, axis=-1) == 0)\n",
    "pprint(roc_auc_score(y_valid, y_pred2))\n",
    "pprint(accuracy_score(y_valid, y_pred3))\n",
    "pprint(confusion_matrix(y_valid > 0.5, y_pred3))"
   ]
  },
  {
   "cell_type": "code",
   "execution_count": null,
   "metadata": {},
   "outputs": [],
   "source": []
  }
 ],
 "metadata": {
  "kernelspec": {
   "display_name": "Python 3",
   "language": "python",
   "name": "python3"
  },
  "language_info": {
   "codemirror_mode": {
    "name": "ipython",
    "version": 3
   },
   "file_extension": ".py",
   "mimetype": "text/x-python",
   "name": "python",
   "nbconvert_exporter": "python",
   "pygments_lexer": "ipython3",
   "version": "3.6.5"
  }
 },
 "nbformat": 4,
 "nbformat_minor": 2
}
