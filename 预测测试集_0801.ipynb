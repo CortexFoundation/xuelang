{
 "cells": [
  {
   "cell_type": "code",
   "execution_count": 1,
   "metadata": {
    "ExecuteTime": {
     "end_time": "2018-08-01T15:18:42.163226Z",
     "start_time": "2018-08-01T15:18:40.099481Z"
    }
   },
   "outputs": [
    {
     "name": "stderr",
     "output_type": "stream",
     "text": [
      "Using TensorFlow backend.\n"
     ]
    }
   ],
   "source": [
    "from keras.models import *\n",
    "from keras.layers import *\n",
    "from keras.callbacks import *\n",
    "from keras.optimizers import *\n",
    "from keras.applications import *\n",
    "from keras.applications import imagenet_utils\n",
    "from keras.preprocessing.image import *\n",
    "from keras.utils import multi_gpu_model\n",
    "\n",
    "from IPython.display import SVG\n",
    "from keras.utils.vis_utils import model_to_dot\n",
    "\n",
    "from glob import glob\n",
    "from tqdm import tqdm\n",
    "import numpy as np\n",
    "import cv2\n",
    "import matplotlib.pyplot as plt\n",
    "import matplotlib.image as mpimg\n",
    "\n",
    "from sklearn.metrics import *\n",
    "\n",
    "import multiprocessing\n",
    "from multiprocessing.dummy import Pool\n",
    "from pprint import pprint\n",
    "\n",
    "import os\n",
    "os.environ['CUDA_VISIBLE_DEVICES'] = '4,5,6,7'\n",
    "n_gpus = len(os.environ['CUDA_VISIBLE_DEVICES'].split(','))"
   ]
  },
  {
   "cell_type": "code",
   "execution_count": 2,
   "metadata": {
    "ExecuteTime": {
     "end_time": "2018-08-01T15:18:43.950091Z",
     "start_time": "2018-08-01T15:18:43.943804Z"
    }
   },
   "outputs": [],
   "source": [
    "batch_size = 4 * n_gpus\n",
    "model_name = ''\n",
    "preprocess_func = inception_resnet_v2.preprocess_input\n",
    "MODEL = InceptionResNetV2\n",
    "\n",
    "f = 2\n",
    "width = int(2560 / f)\n",
    "height = int(1920 / f)\n",
    "classes = ['正常', '吊经', '擦洞', '跳花', '毛洞', '织稀', '扎洞', '缺经', '毛斑', '其他']\n",
    "n_classes = len(classes)"
   ]
  },
  {
   "cell_type": "code",
   "execution_count": 3,
   "metadata": {
    "ExecuteTime": {
     "end_time": "2018-08-01T15:18:44.488551Z",
     "start_time": "2018-08-01T15:18:44.359549Z"
    }
   },
   "outputs": [
    {
     "name": "stdout",
     "output_type": "stream",
     "text": [
      "Found 662 images belonging to 1 classes.\n"
     ]
    }
   ],
   "source": [
    "idg = ImageDataGenerator()\n",
    "gen_test = idg.flow_from_directory('test', target_size=(height, width), shuffle=False, \n",
    "                                    class_mode=None, batch_size=batch_size)"
   ]
  },
  {
   "cell_type": "markdown",
   "metadata": {},
   "source": [
    "# 按 val_auc 排序"
   ]
  },
  {
   "cell_type": "code",
   "execution_count": 4,
   "metadata": {
    "ExecuteTime": {
     "end_time": "2018-08-01T15:18:45.499533Z",
     "start_time": "2018-08-01T15:18:45.488216Z"
    },
    "scrolled": false
   },
   "outputs": [
    {
     "data": {
      "text/plain": [
       "[('0.962335', 'models/irv2_0731-0.001001-120-0.962335.h5'),\n",
       " ('0.954225', 'models/irv2_0801-0.000100-60-0.954225.h5')]"
      ]
     },
     "execution_count": 4,
     "metadata": {},
     "output_type": "execute_result"
    }
   ],
   "source": [
    "a = [(x[x.rfind('-')+1:x.rfind('.')], x) for x in glob('models/*.h5')]\n",
    "a = sorted(a, key=lambda x:x[0], reverse=True)[:50]\n",
    "a"
   ]
  },
  {
   "cell_type": "markdown",
   "metadata": {},
   "source": [
    "# 构建模型"
   ]
  },
  {
   "cell_type": "code",
   "execution_count": 5,
   "metadata": {
    "ExecuteTime": {
     "end_time": "2018-08-01T15:19:43.772829Z",
     "start_time": "2018-08-01T15:18:46.238899Z"
    }
   },
   "outputs": [],
   "source": [
    "base_model = MODEL(include_top=False, weights='imagenet')\n",
    "input_tensor = Input((height, width, 3))\n",
    "x = Lambda(preprocess_func)(input_tensor)\n",
    "x = base_model(x)\n",
    "x = GlobalAvgPool2D()(x)\n",
    "x = Dense(n_classes, activation='softmax')(x)\n",
    "model = Model(input_tensor, x)"
   ]
  },
  {
   "cell_type": "code",
   "execution_count": 6,
   "metadata": {
    "ExecuteTime": {
     "end_time": "2018-08-01T15:21:47.500287Z",
     "start_time": "2018-08-01T15:19:43.777289Z"
    }
   },
   "outputs": [],
   "source": [
    "model_parallel = multi_gpu_model(model, n_gpus)"
   ]
  },
  {
   "cell_type": "markdown",
   "metadata": {},
   "source": [
    "# 预测结果"
   ]
  },
  {
   "cell_type": "code",
   "execution_count": 7,
   "metadata": {
    "ExecuteTime": {
     "end_time": "2018-08-01T15:21:47.514485Z",
     "start_time": "2018-08-01T15:21:47.504700Z"
    }
   },
   "outputs": [],
   "source": [
    "def predict(fname_model):\n",
    "    model.load_weights(fname_model)\n",
    "    y_pred = model_parallel.predict_generator(gen_test, verbose=1, workers=multiprocessing.cpu_count())\n",
    "    \n",
    "    y_pred2 = 1 - y_pred[:,0]\n",
    "    y_pred2 = np.round(y_pred2, 6).clip(1e-6, 1-1e-6)\n",
    "    \n",
    "    plt.figure()\n",
    "    plt.hist(y_pred2);\n",
    "    \n",
    "    fname_model2 = fname_model[fname_model.rfind('/')+1:]\n",
    "    with open(f'outs/pred_{fname_model2}.csv', 'w') as f:\n",
    "        f.write('filename,probability\\n')\n",
    "        for fname, value in zip(gen_test.filenames, y_pred2):\n",
    "            fname = fname[fname.rfind('/')+1:]\n",
    "            f.write(f'{fname},{value:.6f}\\n')"
   ]
  },
  {
   "cell_type": "code",
   "execution_count": 8,
   "metadata": {
    "ExecuteTime": {
     "end_time": "2018-08-01T15:23:51.910617Z",
     "start_time": "2018-08-01T15:21:47.517646Z"
    }
   },
   "outputs": [
    {
     "name": "stdout",
     "output_type": "stream",
     "text": [
      "models/irv2_0731-0.001001-120-0.962335.h5\n",
      "42/42 [==============================] - 60s 1s/step\n",
      "models/irv2_0801-0.000100-60-0.954225.h5\n",
      "42/42 [==============================] - 38s 904ms/step\n"
     ]
    },
    {
     "data": {
      "image/png": "[encoded data removed]",
      "text/plain": [
       "<Figure size 432x288 with 1 Axes>"
      ]
     },
     "metadata": {},
     "output_type": "display_data"
    }
   ],
   "source": [
    "for _, fname_model in a:\n",
    "    print(fname_model)\n",
    "    predict(fname_model)"
   ]
  },
  {
   "cell_type": "markdown",
   "metadata": {},
   "source": [
    "# 探索"
   ]
  },
  {
   "cell_type": "code",
   "execution_count": 16,
   "metadata": {
    "ExecuteTime": {
     "end_time": "2018-08-01T13:27:48.753234Z",
     "start_time": "2018-08-01T13:27:48.744563Z"
    }
   },
   "outputs": [
    {
     "name": "stdout",
     "output_type": "stream",
     "text": [
      "0 192\n",
      "1 182\n",
      "2 189\n",
      "3 170\n",
      "4 188\n",
      "5 189\n",
      "6 169\n",
      "7 180\n",
      "8 178\n",
      "9 179\n"
     ]
    }
   ],
   "source": [
    "# y_preds = []\n",
    "# fnames_model = sorted(glob(\"models/irv2_0801*\"), key=lambda x:int(x.split('-')[2]))\n",
    "# for i, fname_model in enumerate(fnames_model[-10:]):\n",
    "#     model.load_weights(fname_model)\n",
    "#     y_pred = model_parallel.predict_generator(gen_test, verbose=1, workers=multiprocessing.cpu_count())\n",
    "#     y_preds.append(y_pred)\n",
    "#     print(i, (y_pred[:,0] < 0.5).sum())"
   ]
  },
  {
   "cell_type": "code",
   "execution_count": null,
   "metadata": {},
   "outputs": [],
   "source": []
  }
 ],
 "metadata": {
  "kernelspec": {
   "display_name": "Python 3",
   "language": "python",
   "name": "python3"
  },
  "language_info": {
   "codemirror_mode": {
    "name": "ipython",
    "version": 3
   },
   "file_extension": ".py",
   "mimetype": "text/x-python",
   "name": "python",
   "nbconvert_exporter": "python",
   "pygments_lexer": "ipython3",
   "version": "3.6.5"
  }
 },
 "nbformat": 4,
 "nbformat_minor": 2
}
