{
 "cells": [
  {
   "cell_type": "code",
   "execution_count": 104,
   "metadata": {
    "ExecuteTime": {
     "end_time": "2018-08-01T14:52:34.292281Z",
     "start_time": "2018-08-01T14:52:34.281652Z"
    }
   },
   "outputs": [],
   "source": [
    "from keras.models import *\n",
    "from keras.layers import *\n",
    "from keras.callbacks import *\n",
    "from keras.optimizers import *\n",
    "from keras.applications import *\n",
    "from keras.applications import imagenet_utils\n",
    "from keras.preprocessing.image import *\n",
    "from keras.utils import multi_gpu_model\n",
    "\n",
    "from IPython.display import SVG\n",
    "from keras.utils.vis_utils import model_to_dot\n",
    "\n",
    "from glob import glob\n",
    "from tqdm import tqdm\n",
    "import numpy as np\n",
    "import cv2\n",
    "import matplotlib.pyplot as plt\n",
    "import matplotlib.image as mpimg\n",
    "\n",
    "from sklearn.metrics import *\n",
    "from sklearn.utils import shuffle\n",
    "\n",
    "import multiprocessing\n",
    "from multiprocessing.dummy import Pool\n",
    "from pprint import pprint\n",
    "\n",
    "import os\n",
    "os.environ['CUDA_VISIBLE_DEVICES'] = '0,1,2,3'\n",
    "n_gpus = len(os.environ['CUDA_VISIBLE_DEVICES'].split(','))"
   ]
  },
  {
   "cell_type": "code",
   "execution_count": 2,
   "metadata": {
    "ExecuteTime": {
     "end_time": "2018-08-01T14:22:42.994402Z",
     "start_time": "2018-08-01T14:22:42.988741Z"
    }
   },
   "outputs": [],
   "source": [
    "batch_size = 4 * n_gpus\n",
    "model_name = ''\n",
    "preprocess_func = inception_resnet_v2.preprocess_input\n",
    "MODEL = InceptionResNetV2\n",
    "\n",
    "f = 2\n",
    "width = int(2560 / f)\n",
    "height = int(1920 / f)\n",
    "classes = ['正常', '吊经', '擦洞', '跳花', '毛洞', '织稀', '扎洞', '缺经', '毛斑', '其他']\n",
    "n_classes = len(classes)"
   ]
  },
  {
   "cell_type": "code",
   "execution_count": 3,
   "metadata": {
    "ExecuteTime": {
     "end_time": "2018-08-01T14:22:43.342559Z",
     "start_time": "2018-08-01T14:22:42.997371Z"
    }
   },
   "outputs": [
    {
     "name": "stdout",
     "output_type": "stream",
     "text": [
      "Found 1816 images belonging to 10 classes.\n",
      "Found 203 images belonging to 10 classes.\n"
     ]
    }
   ],
   "source": [
    "idg = ImageDataGenerator(horizontal_flip=True,\n",
    "                         rotation_range=15,\n",
    "                         zoom_range=0.2)\n",
    "idg2 = ImageDataGenerator()\n",
    "\n",
    "gen_train = idg.flow_from_directory('train', target_size=(height, width), \n",
    "                                    interpolation='lanczos', classes=classes, batch_size=batch_size)\n",
    "gen_valid = idg2.flow_from_directory('valid', target_size=(height, width), shuffle=False, \n",
    "                                     interpolation='lanczos', classes=classes, batch_size=batch_size)\n",
    "y_valid = (gen_valid.classes != 0).astype(int)"
   ]
  },
  {
   "cell_type": "code",
   "execution_count": 4,
   "metadata": {
    "ExecuteTime": {
     "end_time": "2018-08-01T14:23:03.598248Z",
     "start_time": "2018-08-01T14:23:03.586479Z"
    }
   },
   "outputs": [
    {
     "data": {
      "text/plain": [
       "[('0.962335', 'models/irv2_0731-0.001001-120-0.962335.h5'),\n",
       " ('0.954225', 'models/irv2_0801-0.000100-60-0.954225.h5')]"
      ]
     },
     "execution_count": 4,
     "metadata": {},
     "output_type": "execute_result"
    }
   ],
   "source": [
    "a = [(x[x.rfind('-')+1:x.rfind('.')], x) for x in glob('models/*.h5')]\n",
    "sorted(a, key=lambda x:x[0], reverse=True)[:50]"
   ]
  },
  {
   "cell_type": "code",
   "execution_count": 5,
   "metadata": {
    "ExecuteTime": {
     "end_time": "2018-08-01T14:24:10.463322Z",
     "start_time": "2018-08-01T14:23:08.972387Z"
    }
   },
   "outputs": [],
   "source": [
    "base_model = MODEL(include_top=False, weights='imagenet')\n",
    "input_tensor = Input((height, width, 3))\n",
    "x = Lambda(preprocess_func)(input_tensor)\n",
    "x = base_model(x)\n",
    "x = GlobalAvgPool2D()(x)\n",
    "x = Dense(n_classes, activation='softmax')(x)\n",
    "model = Model(input_tensor, x)"
   ]
  },
  {
   "cell_type": "code",
   "execution_count": 6,
   "metadata": {
    "ExecuteTime": {
     "end_time": "2018-08-01T14:24:19.108482Z",
     "start_time": "2018-08-01T14:24:10.467810Z"
    }
   },
   "outputs": [],
   "source": [
    "fname_model = 'models/irv2_0731-0.001001-120-0.962335.h5'\n",
    "model.load_weights(fname_model)"
   ]
  },
  {
   "cell_type": "code",
   "execution_count": 8,
   "metadata": {
    "ExecuteTime": {
     "end_time": "2018-08-01T14:30:17.887648Z",
     "start_time": "2018-08-01T14:29:52.554451Z"
    }
   },
   "outputs": [
    {
     "name": "stdout",
     "output_type": "stream",
     "text": [
      "13/13 [==============================] - 25s 2s/step\n",
      "0.9623346137430645\n",
      "0.9211822660098522\n",
      "array([[129,   3],\n",
      "       [ 13,  58]])\n"
     ]
    }
   ],
   "source": [
    "y_pred = model.predict_generator(gen_valid, verbose=1, workers=multiprocessing.cpu_count())"
   ]
  },
  {
   "cell_type": "code",
   "execution_count": 105,
   "metadata": {
    "ExecuteTime": {
     "end_time": "2018-08-01T14:52:37.753966Z",
     "start_time": "2018-08-01T14:52:37.739307Z"
    }
   },
   "outputs": [
    {
     "name": "stdout",
     "output_type": "stream",
     "text": [
      "0.9623346137430645\n",
      "0.9211822660098522\n",
      "array([[129,   3],\n",
      "       [ 13,  58]])\n"
     ]
    }
   ],
   "source": [
    "y_pred, y_valid = shuffle(y_pred, y_valid)\n",
    "\n",
    "y_pred2 = 1 - y_pred[:,0]\n",
    "y_pred3 = 1 - (np.argmax(y_pred, axis=-1) == 0)\n",
    "pprint(roc_auc_score(y_valid, y_pred2))\n",
    "pprint(accuracy_score(y_valid, y_pred3))\n",
    "pprint(confusion_matrix(y_valid > 0.5, y_pred3))"
   ]
  },
  {
   "cell_type": "code",
   "execution_count": 106,
   "metadata": {
    "ExecuteTime": {
     "end_time": "2018-08-01T14:52:41.021160Z",
     "start_time": "2018-08-01T14:52:41.015563Z"
    }
   },
   "outputs": [],
   "source": [
    "y_pred4 = np.round(y_pred2, 6).clip(1e-6, 1-1e-6)"
   ]
  },
  {
   "cell_type": "code",
   "execution_count": 107,
   "metadata": {
    "ExecuteTime": {
     "end_time": "2018-08-01T14:52:41.470925Z",
     "start_time": "2018-08-01T14:52:41.464489Z"
    }
   },
   "outputs": [
    {
     "name": "stdout",
     "output_type": "stream",
     "text": [
      "0.9623346137430645\n"
     ]
    }
   ],
   "source": [
    "pprint(roc_auc_score(y_valid, y_pred4))"
   ]
  },
  {
   "cell_type": "code",
   "execution_count": 108,
   "metadata": {
    "ExecuteTime": {
     "end_time": "2018-08-01T14:52:42.549129Z",
     "start_time": "2018-08-01T14:52:42.176565Z"
    }
   },
   "outputs": [
    {
     "data": {
      "image/png": "[encoded data removed]",
      "text/plain": [
       "<Figure size 432x288 with 1 Axes>"
      ]
     },
     "metadata": {},
     "output_type": "display_data"
    }
   ],
   "source": [
    "plt.hist(y_pred4, bins=100);"
   ]
  },
  {
   "cell_type": "code",
   "execution_count": 109,
   "metadata": {
    "ExecuteTime": {
     "end_time": "2018-08-01T14:52:44.481692Z",
     "start_time": "2018-08-01T14:52:44.289417Z"
    }
   },
   "outputs": [
    {
     "data": {
      "image/png": "[encoded data removed]",
      "text/plain": [
       "<Figure size 432x288 with 1 Axes>"
      ]
     },
     "metadata": {},
     "output_type": "display_data"
    }
   ],
   "source": [
    "y_test = y_valid\n",
    "y_score = y_pred4\n",
    "\n",
    "fpr, tpr, _ = roc_curve(y_test.ravel(), y_score.ravel())\n",
    "roc_auc = auc(fpr, tpr)\n",
    "\n",
    "plt.figure()\n",
    "lw = 2\n",
    "plt.plot(fpr, tpr, color='darkorange',\n",
    "         lw=lw, label='ROC curve (area = %0.4f)' % roc_auc)\n",
    "plt.plot([0, 1], [0, 1], color='navy', lw=lw, linestyle='--')\n",
    "plt.xlim([0.0, 1.0])\n",
    "plt.ylim([0.0, 1.05])\n",
    "plt.xlabel('False Positive Rate')\n",
    "plt.ylabel('True Positive Rate')\n",
    "plt.title('Receiver operating characteristic example')\n",
    "plt.legend(loc=\"lower right\")\n",
    "plt.show()"
   ]
  },
  {
   "cell_type": "code",
   "execution_count": null,
   "metadata": {},
   "outputs": [],
   "source": []
  }
 ],
 "metadata": {
  "kernelspec": {
   "display_name": "Python 3",
   "language": "python",
   "name": "python3"
  },
  "language_info": {
   "codemirror_mode": {
    "name": "ipython",
    "version": 3
   },
   "file_extension": ".py",
   "mimetype": "text/x-python",
   "name": "python",
   "nbconvert_exporter": "python",
   "pygments_lexer": "ipython3",
   "version": "3.6.5"
  }
 },
 "nbformat": 4,
 "nbformat_minor": 2
}
