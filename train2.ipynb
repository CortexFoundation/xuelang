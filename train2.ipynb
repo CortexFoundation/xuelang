{
 "cells": [
  {
   "cell_type": "code",
   "execution_count": 1,
   "metadata": {
    "ExecuteTime": {
     "end_time": "2018-07-21T03:16:09.597782Z",
     "start_time": "2018-07-21T03:16:05.732432Z"
    }
   },
   "outputs": [
    {
     "name": "stderr",
     "output_type": "stream",
     "text": [
      "Using TensorFlow backend.\n"
     ]
    }
   ],
   "source": [
    "from keras.models import *\n",
    "from keras.layers import *\n",
    "from keras.callbacks import *\n",
    "from keras.optimizers import *\n",
    "from keras.applications import *\n",
    "from keras.preprocessing.image import *\n",
    "\n",
    "from IPython.display import SVG\n",
    "from keras.utils.vis_utils import model_to_dot\n",
    "\n",
    "from glob import glob\n",
    "from tqdm import tqdm\n",
    "import numpy as np\n",
    "import cv2\n",
    "import matplotlib.pyplot as plt\n",
    "import matplotlib.image as mpimg\n",
    "\n",
    "from sklearn.metrics import *\n",
    "\n",
    "import multiprocessing\n",
    "from multiprocessing.dummy import Pool\n",
    "from pprint import pprint"
   ]
  },
  {
   "cell_type": "code",
   "execution_count": null,
   "metadata": {
    "ExecuteTime": {
     "end_time": "2018-07-20T07:54:53.507628Z",
     "start_time": "2018-07-20T07:54:52.502497Z"
    }
   },
   "outputs": [],
   "source": [
    "import horovod.keras as hvd\n",
    "from keras import backend as K\n",
    "\n",
    "hvd.init()\n",
    "config = tf.ConfigProto()\n",
    "config.gpu_options.allow_growth = True\n",
    "config.gpu_options.visible_device_list = str(hvd.local_rank())\n",
    "K.set_session(tf.Session(config=config))"
   ]
  },
  {
   "cell_type": "code",
   "execution_count": null,
   "metadata": {},
   "outputs": [],
   "source": [
    "import argparse\n",
    "\n",
    "def str2bool(v):\n",
    "    if v.lower() in ('yes', 'true', 't', 'y', '1'):\n",
    "        return True\n",
    "    elif v.lower() in ('no', 'false', 'f', 'n', '0'):\n",
    "        return False\n",
    "    else:\n",
    "        raise argparse.ArgumentTypeError('Boolean value expected.')\n",
    "\n",
    "parser = argparse.ArgumentParser(description='training.', formatter_class=argparse.ArgumentDefaultsHelpFormatter)"
   ]
  },
  {
   "cell_type": "code",
   "execution_count": null,
   "metadata": {
    "ExecuteTime": {
     "end_time": "2018-07-20T08:05:01.516860Z",
     "start_time": "2018-07-20T08:05:01.510575Z"
    }
   },
   "outputs": [],
   "source": [
    "# epochs = 100\n",
    "# batch_size = 2\n",
    "# model_name = 'irv2'\n",
    "# preprocess_func = inception_resnet_v2.preprocess_input\n",
    "# MODEL = InceptionResNetV2\n",
    "\n",
    "# f = 2\n",
    "# width = int(2560 / f)\n",
    "# height = int(1920 / f)\n",
    "# classes = ['正常', '吊经', '擦洞', '跳花', '毛洞', '织稀', '扎洞', '缺经', '毛斑', '其他']\n",
    "# n_classes = len(classes)"
   ]
  },
  {
   "cell_type": "code",
   "execution_count": null,
   "metadata": {},
   "outputs": [],
   "source": [
    "parser.add_argument('--epochs', default=100, type=int, help='训练代数')\n",
    "parser.add_argument('--batch_size', default=2, type=int, help='batch_size')\n",
    "parser.add_argument('--model_name', type=str, help='保存模型的文件名，不带.h5')\n",
    "parser.add_argument('--preprocess_func', default='inception_resnet_v2.preprocess_input', \n",
    "                    type=str, help='预处理函数')\n",
    "parser.add_argument('--MODEL', default='InceptionResNetV2', \n",
    "                    type=str, help='预训练模型')\n",
    "\n",
    "parser.add_argument('--lr', default=1e-4, type=float, help='学习率')\n",
    "parser.add_argument('--width', default=512, type=int, help='宽度')\n",
    "\n",
    "args = parser.parse_args()\n",
    "if args.model_name == None:\n",
    "    parser.print_help()\n",
    "    exit()\n",
    "\n",
    "epochs = args.epochs\n",
    "batch_size = args.batch_size\n",
    "model_name = args.model_name\n",
    "preprocess_func = eval(args.preprocess_func)\n",
    "MODEL = eval(args.MODEL)\n",
    "\n",
    "lr = args.lr\n",
    "width = args.width\n",
    "height = width\n",
    "classes = ['正常', '吊经', '擦洞', '跳花', '毛洞', '织稀', '扎洞', '缺经', '毛斑', '其他']\n",
    "n_classes = len(classes)\n",
    "\n",
    "if hvd.rank() == 0:\n",
    "    print('-'*80)\n",
    "    print('开始训练 %s 模型。' % model_name)\n",
    "    print(args)\n",
    "    print(width, height, n_classes)\n",
    "    print(classes)\n",
    "    print('-'*80)"
   ]
  },
  {
   "cell_type": "code",
   "execution_count": null,
   "metadata": {
    "ExecuteTime": {
     "end_time": "2018-07-20T08:05:04.559643Z",
     "start_time": "2018-07-20T08:05:03.390818Z"
    }
   },
   "outputs": [],
   "source": [
    "idg = ImageDataGenerator(horizontal_flip=True,\n",
    "                         rotation_range=15,\n",
    "                         zoom_range=0.2)\n",
    "idg2 = ImageDataGenerator()\n",
    "\n",
    "gen_train = idg.flow_from_directory('crop_train', target_size=(height, width), \n",
    "                                    interpolation='lanczos', classes=classes, batch_size=batch_size)\n",
    "gen_valid = idg2.flow_from_directory('crop_valid', target_size=(height, width), shuffle=False, \n",
    "                                     interpolation='lanczos', classes=classes, batch_size=batch_size)\n",
    "y_valid = (gen_valid.classes != 0).astype(int)"
   ]
  },
  {
   "cell_type": "code",
   "execution_count": null,
   "metadata": {
    "ExecuteTime": {
     "end_time": "2018-07-20T08:01:19.091563Z",
     "start_time": "2018-07-20T08:01:19.082022Z"
    }
   },
   "outputs": [],
   "source": [
    "class RocAucMetricCallback(Callback):\n",
    "    def __init__(self):\n",
    "        super(RocAucMetricCallback, self).__init__()\n",
    "\n",
    "    def on_epoch_end(self, epoch, logs={}):\n",
    "        y_pred = model.predict_generator(gen_valid, verbose=1, workers=multiprocessing.cpu_count())\n",
    "        y_pred2 = 1 - y_pred[:,0]\n",
    "        y_pred3 = 1 - (np.argmax(y_pred, axis=-1) == 0)\n",
    "        \n",
    "        auc = roc_auc_score(y_valid, y_pred2)\n",
    "        acc = accuracy_score(y_valid, y_pred3)\n",
    "        logs['val_auc'] = auc\n",
    "        logs['val_acc'] = acc\n",
    "        logs['lr'] = float(K.get_value(self.model.optimizer.lr))\n",
    "        print(f'ACC: {acc:.4f} AUC: {auc:.4f}')"
   ]
  },
  {
   "cell_type": "code",
   "execution_count": null,
   "metadata": {
    "ExecuteTime": {
     "end_time": "2018-07-20T08:01:54.530013Z",
     "start_time": "2018-07-20T08:01:23.036998Z"
    }
   },
   "outputs": [],
   "source": [
    "input_tensor = Input((height, width, 3))\n",
    "\n",
    "x = Lambda(preprocess_func)(input_tensor)\n",
    "base_model = MODEL(include_top=False, weights='imagenet', input_tensor=x)\n",
    "\n",
    "x = GlobalAvgPool2D()(base_model.output)\n",
    "x = Dropout(0.5)(x)\n",
    "x = Dense(n_classes, activation='softmax')(x)\n",
    "model = Model(input_tensor, x)"
   ]
  },
  {
   "cell_type": "code",
   "execution_count": null,
   "metadata": {
    "ExecuteTime": {
     "end_time": "2018-07-20T06:38:19.472215Z",
     "start_time": "2018-07-20T06:38:19.469345Z"
    },
    "scrolled": false
   },
   "outputs": [],
   "source": [
    "# SVG(model_to_dot(model, show_shapes=True).create(prog='dot', format='svg'))"
   ]
  },
  {
   "cell_type": "code",
   "execution_count": null,
   "metadata": {
    "ExecuteTime": {
     "end_time": "2018-07-20T06:38:22.299304Z",
     "start_time": "2018-07-20T06:38:19.474064Z"
    }
   },
   "outputs": [],
   "source": [
    "def train(start, end, lr, warmup=False):\n",
    "    opt = Adam(lr)\n",
    "    opt = hvd.DistributedOptimizer(opt)\n",
    "    \n",
    "    callbacks = [\n",
    "        hvd.callbacks.BroadcastGlobalVariablesCallback(0),\n",
    "        hvd.callbacks.MetricAverageCallback(),\n",
    "    ]\n",
    "    \n",
    "    if warmup:\n",
    "        callbacks.append(hvd.callbacks.LearningRateWarmupCallback(warmup_epochs=5, verbose=1))\n",
    "    \n",
    "    if hvd.rank() == 0:\n",
    "        callbacks.append(RocAucMetricCallback())\n",
    "        callbacks.append(ModelCheckpoint('models/%s-{lr:.6f}-{epoch}-{val_auc:.6f}.h5' % model_name, \n",
    "                                         save_weights_only=True))\n",
    "        callbacks.append(CSVLogger('logs/%s.csv' % model_name, append=True))\n",
    "#         callbacks.append(EarlyStopping(monitor='val_auc', patience=5, mode='max'))\n",
    "    \n",
    "    model.compile(optimizer=opt, \n",
    "              loss='categorical_crossentropy',\n",
    "              metrics=['accuracy'])\n",
    "    \n",
    "    model.fit_generator(gen_train, steps_per_epoch=len(gen_train) // hvd.size() / 5, \n",
    "                        workers=multiprocessing.cpu_count(), \n",
    "                        initial_epoch=start, epochs=end, callbacks=callbacks, verbose=int(hvd.rank() == 0))"
   ]
  },
  {
   "cell_type": "code",
   "execution_count": null,
   "metadata": {},
   "outputs": [],
   "source": [
    "train(0, 20, lr, warmup=True)\n",
    "train(20, 30, lr*0.1)\n",
    "train(30, 35, lr*0.01)"
   ]
  },
  {
   "cell_type": "code",
   "execution_count": null,
   "metadata": {
    "ExecuteTime": {
     "start_time": "2018-07-19T09:02:38.360Z"
    },
    "scrolled": false
   },
   "outputs": [],
   "source": [
    "y_pred = model.predict_generator(gen_valid, verbose=1, workers=multiprocessing.cpu_count())\n",
    "y_pred2 = 1 - y_pred[:,0]\n",
    "y_pred3 = 1 - (np.argmax(y_pred, axis=-1) == 0)\n",
    "pprint(roc_auc_score(y_valid, y_pred2))\n",
    "pprint(accuracy_score(y_valid, y_pred3))\n",
    "pprint(confusion_matrix(y_valid > 0.5, y_pred3))"
   ]
  },
  {
   "cell_type": "code",
   "execution_count": null,
   "metadata": {},
   "outputs": [],
   "source": []
  }
 ],
 "metadata": {
  "kernelspec": {
   "display_name": "Python 3",
   "language": "python",
   "name": "python3"
  },
  "language_info": {
   "codemirror_mode": {
    "name": "ipython",
    "version": 3
   },
   "file_extension": ".py",
   "mimetype": "text/x-python",
   "name": "python",
   "nbconvert_exporter": "python",
   "pygments_lexer": "ipython3",
   "version": "3.6.5"
  }
 },
 "nbformat": 4,
 "nbformat_minor": 2
}
