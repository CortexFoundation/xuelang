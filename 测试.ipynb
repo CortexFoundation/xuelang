{
 "cells": [
  {
   "cell_type": "code",
   "execution_count": 1,
   "metadata": {
    "ExecuteTime": {
     "end_time": "2018-07-22T05:45:15.964423Z",
     "start_time": "2018-07-22T05:45:13.849153Z"
    }
   },
   "outputs": [
    {
     "name": "stderr",
     "output_type": "stream",
     "text": [
      "Using TensorFlow backend.\n"
     ]
    }
   ],
   "source": [
    "from keras.models import *\n",
    "from keras.layers import *\n",
    "from keras.callbacks import *\n",
    "from keras.optimizers import *\n",
    "from keras.applications import *\n",
    "from keras.applications import imagenet_utils\n",
    "from keras.preprocessing.image import *\n",
    "\n",
    "from IPython.display import SVG\n",
    "from keras.utils.vis_utils import model_to_dot\n",
    "\n",
    "from glob import glob\n",
    "from tqdm import tqdm\n",
    "import numpy as np\n",
    "import cv2\n",
    "import matplotlib.pyplot as plt\n",
    "import matplotlib.image as mpimg\n",
    "\n",
    "from sklearn.metrics import *\n",
    "\n",
    "import multiprocessing\n",
    "from multiprocessing.dummy import Pool\n",
    "from pprint import pprint\n",
    "\n",
    "import os\n",
    "os.environ['CUDA_VISIBLE_DEVICES'] = '5'"
   ]
  },
  {
   "cell_type": "code",
   "execution_count": 2,
   "metadata": {
    "ExecuteTime": {
     "end_time": "2018-07-22T05:45:15.972999Z",
     "start_time": "2018-07-22T05:45:15.967634Z"
    }
   },
   "outputs": [],
   "source": [
    "epoch = 87\n",
    "batch_size = 2\n",
    "model_name = 'xception'\n",
    "preprocess_func = xception.preprocess_input\n",
    "MODEL = Xception\n",
    "\n",
    "f = 2\n",
    "width = int(2560 / f)\n",
    "height = int(1920 / f)\n",
    "classes = ['正常', '吊经', '擦洞', '跳花', '毛洞', '织稀', '扎洞', '缺经', '毛斑', '其他']\n",
    "n_classes = len(classes)"
   ]
  },
  {
   "cell_type": "code",
   "execution_count": 3,
   "metadata": {
    "ExecuteTime": {
     "end_time": "2018-07-22T05:45:16.330478Z",
     "start_time": "2018-07-22T05:45:15.976752Z"
    }
   },
   "outputs": [
    {
     "name": "stdout",
     "output_type": "stream",
     "text": [
      "Found 1819 images belonging to 10 classes.\n",
      "Found 203 images belonging to 10 classes.\n"
     ]
    }
   ],
   "source": [
    "idg = ImageDataGenerator(horizontal_flip=True,\n",
    "                         rotation_range=15,\n",
    "                         zoom_range=0.2)\n",
    "idg2 = ImageDataGenerator()\n",
    "\n",
    "gen_train = idg.flow_from_directory('train', target_size=(height, width), \n",
    "                                    classes=classes, batch_size=batch_size)\n",
    "gen_valid = idg2.flow_from_directory('valid', target_size=(height, width), shuffle=False, \n",
    "                                    classes=classes, batch_size=batch_size)\n",
    "y_valid = (gen_valid.classes != 0).astype(int)"
   ]
  },
  {
   "cell_type": "code",
   "execution_count": 4,
   "metadata": {
    "ExecuteTime": {
     "end_time": "2018-07-22T05:45:16.468610Z",
     "start_time": "2018-07-22T05:45:16.334208Z"
    }
   },
   "outputs": [
    {
     "name": "stdout",
     "output_type": "stream",
     "text": [
      "models/xception-10.h5  models/xception-37.h5  models/xception-63.h5\r\n",
      "models/xception-11.h5  models/xception-38.h5  models/xception-64.h5\r\n",
      "models/xception-12.h5  models/xception-39.h5  models/xception-65.h5\r\n",
      "models/xception-13.h5  models/xception-3.h5   models/xception-66.h5\r\n",
      "models/xception-14.h5  models/xception-40.h5  models/xception-67.h5\r\n",
      "models/xception-15.h5  models/xception-41.h5  models/xception-68.h5\r\n",
      "models/xception-16.h5  models/xception-42.h5  models/xception-69.h5\r\n",
      "models/xception-17.h5  models/xception-43.h5  models/xception-6.h5\r\n",
      "models/xception-18.h5  models/xception-44.h5  models/xception-70.h5\r\n",
      "models/xception-19.h5  models/xception-45.h5  models/xception-71.h5\r\n",
      "models/xception-1.h5   models/xception-46.h5  models/xception-72.h5\r\n",
      "models/xception-20.h5  models/xception-47.h5  models/xception-73.h5\r\n",
      "models/xception-21.h5  models/xception-48.h5  models/xception-74.h5\r\n",
      "models/xception-22.h5  models/xception-49.h5  models/xception-75.h5\r\n",
      "models/xception-23.h5  models/xception-4.h5   models/xception-76.h5\r\n",
      "models/xception-24.h5  models/xception-50.h5  models/xception-77.h5\r\n",
      "models/xception-25.h5  models/xception-51.h5  models/xception-78.h5\r\n",
      "models/xception-26.h5  models/xception-52.h5  models/xception-79.h5\r\n",
      "models/xception-27.h5  models/xception-53.h5  models/xception-7.h5\r\n",
      "models/xception-28.h5  models/xception-54.h5  models/xception-80.h5\r\n",
      "models/xception-29.h5  models/xception-55.h5  models/xception-81.h5\r\n",
      "models/xception-2.h5   models/xception-56.h5  models/xception-82.h5\r\n",
      "models/xception-30.h5  models/xception-57.h5  models/xception-83.h5\r\n",
      "models/xception-31.h5  models/xception-58.h5  models/xception-84.h5\r\n",
      "models/xception-32.h5  models/xception-59.h5  models/xception-85.h5\r\n",
      "models/xception-33.h5  models/xception-5.h5   models/xception-86.h5\r\n",
      "models/xception-34.h5  models/xception-60.h5  models/xception-87.h5\r\n",
      "models/xception-35.h5  models/xception-61.h5  models/xception-8.h5\r\n",
      "models/xception-36.h5  models/xception-62.h5  models/xception-9.h5\r\n"
     ]
    }
   ],
   "source": [
    "!ls models/xception*"
   ]
  },
  {
   "cell_type": "code",
   "execution_count": 5,
   "metadata": {
    "ExecuteTime": {
     "end_time": "2018-07-22T05:45:42.994214Z",
     "start_time": "2018-07-22T05:45:16.472575Z"
    }
   },
   "outputs": [],
   "source": [
    "model = load_model('models/%s-%d.h5' % (model_name, epoch), custom_objects={'imagenet_utils': imagenet_utils})"
   ]
  },
  {
   "cell_type": "code",
   "execution_count": 6,
   "metadata": {
    "ExecuteTime": {
     "end_time": "2018-07-22T05:46:06.460174Z",
     "start_time": "2018-07-22T05:45:42.996707Z"
    },
    "scrolled": false
   },
   "outputs": [
    {
     "name": "stdout",
     "output_type": "stream",
     "text": [
      "102/102 [==============================] - 23s 230ms/step\n"
     ]
    }
   ],
   "source": [
    "y_pred = model.predict_generator(gen_valid, verbose=1, workers=multiprocessing.cpu_count())\n",
    "y_pred2 = 1 - y_pred[:,0]\n",
    "y_pred3 = 1 - (np.argmax(y_pred, axis=-1) == 0)\n",
    "print('AUC:', roc_auc_score(y_valid, y_pred2), 'ACC', accuracy_score(y_valid, y_pred3))\n",
    "pprint(confusion_matrix(y_valid > 0.5, y_pred3))"
   ]
  },
  {
   "cell_type": "code",
   "execution_count": null,
   "metadata": {},
   "outputs": [],
   "source": []
  }
 ],
 "metadata": {
  "kernelspec": {
   "display_name": "Python 3",
   "language": "python",
   "name": "python3"
  },
  "language_info": {
   "codemirror_mode": {
    "name": "ipython",
    "version": 3
   },
   "file_extension": ".py",
   "mimetype": "text/x-python",
   "name": "python",
   "nbconvert_exporter": "python",
   "pygments_lexer": "ipython3",
   "version": "3.6.5"
  }
 },
 "nbformat": 4,
 "nbformat_minor": 2
}
