{
 "cells": [
  {
   "cell_type": "code",
   "execution_count": 1,
   "metadata": {
    "ExecuteTime": {
     "end_time": "2018-08-03T13:34:37.648256Z",
     "start_time": "2018-08-03T13:34:35.646778Z"
    }
   },
   "outputs": [
    {
     "name": "stderr",
     "output_type": "stream",
     "text": [
      "Using TensorFlow backend.\n"
     ]
    }
   ],
   "source": [
    "from keras.models import *\n",
    "from keras.layers import *\n",
    "from keras.callbacks import *\n",
    "from keras.optimizers import *\n",
    "from keras.applications import *\n",
    "from keras.applications import imagenet_utils\n",
    "from keras.preprocessing.image import *\n",
    "from keras.utils import multi_gpu_model\n",
    "\n",
    "from IPython.display import SVG\n",
    "from keras.utils.vis_utils import model_to_dot\n",
    "\n",
    "from glob import glob\n",
    "from tqdm import tqdm\n",
    "import numpy as np\n",
    "import cv2\n",
    "import matplotlib.pyplot as plt\n",
    "import matplotlib.image as mpimg\n",
    "\n",
    "from sklearn.metrics import *\n",
    "from sklearn.utils import shuffle\n",
    "\n",
    "import multiprocessing\n",
    "from multiprocessing.dummy import Pool\n",
    "from pprint import pprint\n",
    "\n",
    "import os\n",
    "os.environ['CUDA_VISIBLE_DEVICES'] = '2,3'\n",
    "n_gpus = len(os.environ['CUDA_VISIBLE_DEVICES'].split(','))"
   ]
  },
  {
   "cell_type": "code",
   "execution_count": 2,
   "metadata": {
    "ExecuteTime": {
     "end_time": "2018-08-03T13:34:37.658379Z",
     "start_time": "2018-08-03T13:34:37.652725Z"
    }
   },
   "outputs": [],
   "source": [
    "batch_size = 4 * n_gpus\n",
    "model_name = ''\n",
    "preprocess_func = inception_resnet_v2.preprocess_input\n",
    "MODEL = InceptionResNetV2\n",
    "\n",
    "f = 2.5\n",
    "width = int(2560 / f)\n",
    "height = int(1920 / f)\n",
    "classes = ['正常', '吊经', '擦洞', '跳花', '毛洞', '织稀', '扎洞', '缺经', '毛斑', '其他']\n",
    "n_classes = len(classes)"
   ]
  },
  {
   "cell_type": "code",
   "execution_count": 3,
   "metadata": {
    "ExecuteTime": {
     "end_time": "2018-08-03T13:34:38.034169Z",
     "start_time": "2018-08-03T13:34:37.660823Z"
    }
   },
   "outputs": [
    {
     "name": "stdout",
     "output_type": "stream",
     "text": [
      "Found 1617 images belonging to 10 classes.\n",
      "Found 405 images belonging to 10 classes.\n"
     ]
    }
   ],
   "source": [
    "idg = ImageDataGenerator(horizontal_flip=True,\n",
    "                         rotation_range=15,\n",
    "                         zoom_range=0.2)\n",
    "idg2 = ImageDataGenerator()\n",
    "\n",
    "gen_train = idg.flow_from_directory('train', target_size=(height, width), \n",
    "                                    interpolation='lanczos', classes=classes, batch_size=batch_size)\n",
    "gen_valid = idg2.flow_from_directory('valid', target_size=(height, width), shuffle=False, \n",
    "                                     interpolation='lanczos', classes=classes, batch_size=batch_size)\n",
    "y_valid = (gen_valid.classes != 0).astype(int)"
   ]
  },
  {
   "cell_type": "code",
   "execution_count": 4,
   "metadata": {
    "ExecuteTime": {
     "end_time": "2018-08-03T13:34:38.058282Z",
     "start_time": "2018-08-03T13:34:38.040910Z"
    }
   },
   "outputs": [
    {
     "data": {
      "text/plain": [
       "[('0.962335', 'models/irv2_0731-0.001001-120-0.962335.h5'),\n",
       " ('0.954866', 'models/irv2_0802-0.001000-30-0.954866.h5'),\n",
       " ('0.954225', 'models/irv2_0801-0.000100-60-0.954225.h5'),\n",
       " ('0.937116',\n",
       "  'models/InceptionResNetV2_0803_f3.0_reg4e-05-0.000100-67-0.937116.h5'),\n",
       " ('0.936927',\n",
       "  'models/InceptionResNetV2_0803_f2.5_reg4e-05-0.000100-58-0.936927.h5'),\n",
       " ('0.935714',\n",
       "  'models/InceptionResNetV2_0803_f2.5_reg4e-05-0.000100-67-0.935714.h5'),\n",
       " ('0.935391',\n",
       "  'models/InceptionResNetV2_0803_f2.5_reg4e-05-0.000100-59-0.935391.h5'),\n",
       " ('0.934825',\n",
       "  'models/InceptionResNetV2_0803_f2.5_reg4e-05-0.001000-39-0.934825.h5'),\n",
       " ('0.934690',\n",
       "  'models/InceptionResNetV2_0803_f2.5_reg4e-05-0.000100-68-0.934690.h5'),\n",
       " ('0.934557', 'models/irv2_0802_f3.75-0.000100-56-0.934557.h5'),\n",
       " ('0.934420',\n",
       "  'models/InceptionResNetV2_0803_f2.5_reg4e-05-0.001000-31-0.934420.h5'),\n",
       " ('0.934340',\n",
       "  'models/InceptionResNetV2_0803_f2.5_reg4e-05-0.000100-66-0.934340.h5'),\n",
       " ('0.934219', 'models/irv2_0802-0.001000-29-0.934219.h5'),\n",
       " ('0.933935',\n",
       "  'models/InceptionResNetV2_0803_f2.5_reg4e-05-0.000100-57-0.933935.h5'),\n",
       " ('0.933639',\n",
       "  'models/InceptionResNetV2_0803_f2.5_reg4e-05-0.000100-61-0.933639.h5'),\n",
       " ('0.933477',\n",
       "  'models/InceptionResNetV2_0803_f2.5_reg4e-05-0.000100-60-0.933477.h5'),\n",
       " ('0.933369',\n",
       "  'models/InceptionResNetV2_0803_f2.5_reg4e-05-0.000100-62-0.933369.h5'),\n",
       " ('0.933288',\n",
       "  'models/InceptionResNetV2_0803_f2.5_reg4e-05-0.001000-49-0.933288.h5'),\n",
       " ('0.933127',\n",
       "  'models/InceptionResNetV2_0803_f3.0_reg4e-05-0.000100-68-0.933127.h5'),\n",
       " ('0.932790',\n",
       "  'models/InceptionResNetV2_0803_f3.0_reg4e-05-0.000100-58-0.932790.h5'),\n",
       " ('0.932695', 'models/irv2_0802_f2.5-0.001000-43-0.932695.h5'),\n",
       " ('0.932561',\n",
       "  'models/InceptionResNetV2_0803_f2.5_reg4e-05-0.001000-34-0.932561.h5'),\n",
       " ('0.932458', 'models/irv2_0802-0.001000-32-0.932458.h5'),\n",
       " ('0.932102',\n",
       "  'models/InceptionResNetV2_0803_f3.0_reg4e-05-0.000100-59-0.932102.h5'),\n",
       " ('0.932102',\n",
       "  'models/InceptionResNetV2_0803_f2.5_reg4e-05-0.000100-70-0.932102.h5'),\n",
       " ('0.931860',\n",
       "  'models/InceptionResNetV2_0803_f2.5_reg4e-05-0.000100-69-0.931860.h5'),\n",
       " ('0.931779',\n",
       "  'models/InceptionResNetV2_0803_f2.5_reg4e-05-0.000100-53-0.931779.h5'),\n",
       " ('0.931375',\n",
       "  'models/InceptionResNetV2_0803_f3.0_reg4e-05-0.001000-42-0.931375.h5'),\n",
       " ('0.931240',\n",
       "  'models/InceptionResNetV2_0803_f2.5_reg4e-05-0.000100-65-0.931240.h5'),\n",
       " ('0.931213', 'models/irv2_0802_f2.5-0.001000-35-0.931213.h5'),\n",
       " ('0.931186',\n",
       "  'models/InceptionResNetV2_0803_f3.0_reg4e-05-0.000100-62-0.931186.h5'),\n",
       " ('0.931105',\n",
       "  'models/InceptionResNetV2_0803_f3.0_reg4e-05-0.000100-66-0.931105.h5'),\n",
       " ('0.930512',\n",
       "  'models/InceptionResNetV2_0803_f3.0_reg4e-05-0.001000-44-0.930512.h5'),\n",
       " ('0.930458',\n",
       "  'models/InceptionResNetV2_0803_f2.5_reg4e-05-0.000100-63-0.930458.h5'),\n",
       " ('0.930445',\n",
       "  'models/InceptionResNetV2_0803_f2.5_reg4e-05-0.000100-55-0.930445.h5'),\n",
       " ('0.930431',\n",
       "  'models/InceptionResNetV2_0803_f2.5_reg4e-05-0.001000-50-0.930431.h5'),\n",
       " ('0.930377',\n",
       "  'models/InceptionResNetV2_0803_f2.5_reg4e-05-0.000100-64-0.930377.h5'),\n",
       " ('0.930350',\n",
       "  'models/InceptionResNetV2_0803_f3.0_reg4e-05-0.000100-69-0.930350.h5'),\n",
       " ('0.930296',\n",
       "  'models/InceptionResNetV2_0803_f3.0_reg4e-05-0.001000-40-0.930296.h5'),\n",
       " ('0.930270',\n",
       "  'models/InceptionResNetV2_0803_f3.0_reg4e-05-0.000100-61-0.930270.h5'),\n",
       " ('0.930054',\n",
       "  'models/InceptionResNetV2_0803_f2.5_reg4e-05-0.001000-37-0.930054.h5'),\n",
       " ('0.930027',\n",
       "  'models/InceptionResNetV2_0803_f3.0_reg4e-05-0.000100-60-0.930027.h5'),\n",
       " ('0.929757',\n",
       "  'models/InceptionResNetV2_0803_f3.0_reg4e-05-0.000100-70-0.929757.h5'),\n",
       " ('0.929623',\n",
       "  'models/InceptionResNetV2_0803_f3.0_reg4e-05-0.000100-64-0.929623.h5'),\n",
       " ('0.929434',\n",
       "  'models/InceptionResNetV2_0803_f2.5_reg4e-05-0.000100-56-0.929434.h5'),\n",
       " ('0.929353',\n",
       "  'models/InceptionResNetV2_0803_f3.0_reg4e-05-0.000100-52-0.929353.h5'),\n",
       " ('0.929353',\n",
       "  'models/InceptionResNetV2_0803_f3.0_reg4e-05-0.001000-38-0.929353.h5'),\n",
       " ('0.929257', 'models/irv2_0802-0.000100-59-0.929257.h5'),\n",
       " ('0.929218',\n",
       "  'models/InceptionResNetV2_0803_f3.0_reg4e-05-0.000100-63-0.929218.h5'),\n",
       " ('0.929084',\n",
       "  'models/InceptionResNetV2_0803_f3.0_reg4e-05-0.000100-57-0.929084.h5')]"
      ]
     },
     "execution_count": 4,
     "metadata": {},
     "output_type": "execute_result"
    }
   ],
   "source": [
    "a = [(x[x.rfind('-')+1:x.rfind('.')], x) for x in glob('models/*.h5')]\n",
    "a = sorted(a, key=lambda x:x[0], reverse=True)[:50]\n",
    "a"
   ]
  },
  {
   "cell_type": "markdown",
   "metadata": {},
   "source": [
    "# 构建模型"
   ]
  },
  {
   "cell_type": "code",
   "execution_count": 5,
   "metadata": {
    "ExecuteTime": {
     "end_time": "2018-08-03T13:35:26.349641Z",
     "start_time": "2018-08-03T13:34:42.500915Z"
    }
   },
   "outputs": [],
   "source": [
    "base_model = MODEL(include_top=False, weights=None)\n",
    "input_tensor = Input((None, None, 3))\n",
    "x = Lambda(preprocess_func)(input_tensor)\n",
    "x = base_model(x)\n",
    "x = GlobalAvgPool2D()(x)\n",
    "x = Dense(n_classes, activation='softmax')(x)\n",
    "model = Model(input_tensor, x)"
   ]
  },
  {
   "cell_type": "code",
   "execution_count": 6,
   "metadata": {
    "ExecuteTime": {
     "end_time": "2018-08-03T13:36:27.760382Z",
     "start_time": "2018-08-03T13:35:26.352131Z"
    }
   },
   "outputs": [],
   "source": [
    "model_parallel = multi_gpu_model(model, n_gpus)"
   ]
  },
  {
   "cell_type": "markdown",
   "metadata": {},
   "source": [
    "# 预测"
   ]
  },
  {
   "cell_type": "code",
   "execution_count": 7,
   "metadata": {
    "ExecuteTime": {
     "end_time": "2018-08-03T09:26:18.592759Z",
     "start_time": "2018-08-03T09:26:02.960260Z"
    }
   },
   "outputs": [],
   "source": [
    "fname_model = 'models/irv2_0731-0.001001-120-0.962335.h5'\n",
    "model.load_weights(fname_model)"
   ]
  },
  {
   "cell_type": "code",
   "execution_count": 9,
   "metadata": {
    "ExecuteTime": {
     "end_time": "2018-08-03T09:27:10.668857Z",
     "start_time": "2018-08-03T09:26:26.728123Z"
    }
   },
   "outputs": [
    {
     "name": "stdout",
     "output_type": "stream",
     "text": [
      "51/51 [==============================] - 44s 861ms/step\n"
     ]
    }
   ],
   "source": [
    "y_pred = model_parallel.predict_generator(gen_valid, verbose=1, workers=multiprocessing.cpu_count())"
   ]
  },
  {
   "cell_type": "code",
   "execution_count": 10,
   "metadata": {
    "ExecuteTime": {
     "end_time": "2018-08-03T09:27:22.374350Z",
     "start_time": "2018-08-03T09:27:22.354592Z"
    }
   },
   "outputs": [
    {
     "name": "stdout",
     "output_type": "stream",
     "text": [
      "0.9616981132075473\n",
      "0.908641975308642\n",
      "array([[257,   8],\n",
      "       [ 29, 111]])\n"
     ]
    }
   ],
   "source": [
    "y_pred2 = 1 - y_pred[:,0]\n",
    "y_pred3 = 1 - (np.argmax(y_pred, axis=-1) == 0)\n",
    "pprint(roc_auc_score(y_valid, y_pred2))\n",
    "pprint(accuracy_score(y_valid, y_pred3))\n",
    "pprint(confusion_matrix(y_valid > 0.5, y_pred3))"
   ]
  },
  {
   "cell_type": "code",
   "execution_count": 11,
   "metadata": {
    "ExecuteTime": {
     "end_time": "2018-08-03T09:27:26.806928Z",
     "start_time": "2018-08-03T09:27:26.798418Z"
    }
   },
   "outputs": [],
   "source": [
    "y_pred4 = np.round(y_pred2, 6).clip(1e-6, 1-1e-6)"
   ]
  },
  {
   "cell_type": "code",
   "execution_count": 12,
   "metadata": {
    "ExecuteTime": {
     "end_time": "2018-08-03T09:27:26.979486Z",
     "start_time": "2018-08-03T09:27:26.973433Z"
    }
   },
   "outputs": [
    {
     "name": "stdout",
     "output_type": "stream",
     "text": [
      "0.961711590296496\n"
     ]
    }
   ],
   "source": [
    "pprint(roc_auc_score(y_valid, y_pred4))"
   ]
  },
  {
   "cell_type": "code",
   "execution_count": 13,
   "metadata": {
    "ExecuteTime": {
     "end_time": "2018-08-03T09:27:30.225726Z",
     "start_time": "2018-08-03T09:27:29.790667Z"
    }
   },
   "outputs": [
    {
     "data": {
      "image/png": "[encoded data removed]",
      "text/plain": [
       "<Figure size 432x288 with 1 Axes>"
      ]
     },
     "metadata": {},
     "output_type": "display_data"
    }
   ],
   "source": [
    "plt.hist(y_pred4, bins=100);"
   ]
  },
  {
   "cell_type": "code",
   "execution_count": 14,
   "metadata": {
    "ExecuteTime": {
     "end_time": "2018-08-03T09:27:31.307638Z",
     "start_time": "2018-08-03T09:27:31.094175Z"
    }
   },
   "outputs": [
    {
     "data": {
      "image/png": "[encoded data removed]",
      "text/plain": [
       "<Figure size 432x288 with 1 Axes>"
      ]
     },
     "metadata": {},
     "output_type": "display_data"
    }
   ],
   "source": [
    "y_test = y_valid\n",
    "y_score = y_pred4\n",
    "\n",
    "fpr, tpr, _ = roc_curve(y_test.ravel(), y_score.ravel())\n",
    "roc_auc = auc(fpr, tpr)\n",
    "\n",
    "plt.figure()\n",
    "lw = 2\n",
    "plt.plot(fpr, tpr, color='darkorange',\n",
    "         lw=lw, label='ROC curve (area = %0.4f)' % roc_auc)\n",
    "plt.plot([0, 1], [0, 1], color='navy', lw=lw, linestyle='--')\n",
    "plt.xlim([0.0, 1.0])\n",
    "plt.ylim([0.0, 1.05])\n",
    "plt.xlabel('False Positive Rate')\n",
    "plt.ylabel('True Positive Rate')\n",
    "plt.title('Receiver operating characteristic example')\n",
    "plt.legend(loc=\"lower right\")\n",
    "plt.show()"
   ]
  },
  {
   "cell_type": "markdown",
   "metadata": {},
   "source": [
    "# 多次预测"
   ]
  },
  {
   "cell_type": "code",
   "execution_count": 8,
   "metadata": {
    "ExecuteTime": {
     "end_time": "2018-08-03T10:26:56.043078Z",
     "start_time": "2018-08-03T10:26:34.874935Z"
    }
   },
   "outputs": [
    {
     "name": "stdout",
     "output_type": "stream",
     "text": [
      "51/51 [==============================] - 20s 401ms/step\n",
      "0.9369272237196765\n",
      "0.8740740740740741\n",
      "array([[246,  19],\n",
      "       [ 32, 108]])\n"
     ]
    }
   ],
   "source": [
    "fname_model = 'models/InceptionResNetV2_0803_f2.5_reg4e-05-0.000100-58-0.936927.h5'\n",
    "model.load_weights(fname_model)\n",
    "\n",
    "y_pred = model_parallel.predict_generator(gen_valid, verbose=1, workers=multiprocessing.cpu_count())\n",
    "y_pred2 = 1 - y_pred[:,0]\n",
    "y_pred3 = 1 - (np.argmax(y_pred, axis=-1) == 0)\n",
    "pprint(roc_auc_score(y_valid, y_pred2))\n",
    "pprint(accuracy_score(y_valid, y_pred3))\n",
    "pprint(confusion_matrix(y_valid > 0.5, y_pred3))"
   ]
  },
  {
   "cell_type": "code",
   "execution_count": 22,
   "metadata": {
    "ExecuteTime": {
     "end_time": "2018-08-03T10:52:50.056479Z",
     "start_time": "2018-08-03T10:52:49.918906Z"
    }
   },
   "outputs": [
    {
     "name": "stdout",
     "output_type": "stream",
     "text": [
      "Found 405 images belonging to 10 classes.\n"
     ]
    }
   ],
   "source": [
    "idg = ImageDataGenerator(horizontal_flip=True,\n",
    "                         rotation_range=10,\n",
    "                         zoom_range=0.1)\n",
    "gen_valid = idg.flow_from_directory('valid', target_size=(height, width), shuffle=False, \n",
    "                                    interpolation='lanczos', classes=classes, batch_size=batch_size)"
   ]
  },
  {
   "cell_type": "code",
   "execution_count": 26,
   "metadata": {
    "ExecuteTime": {
     "end_time": "2018-08-03T11:00:42.318427Z",
     "start_time": "2018-08-03T10:56:36.575722Z"
    }
   },
   "outputs": [
    {
     "name": "stdout",
     "output_type": "stream",
     "text": [
      "51/51 [==============================] - 24s 462ms/step\n",
      "51/51 [==============================] - 25s 496ms/step\n",
      "51/51 [==============================] - 25s 491ms/step\n",
      "51/51 [==============================] - 25s 482ms/step\n",
      "51/51 [==============================] - 24s 477ms/step\n",
      "51/51 [==============================] - 25s 485ms/step\n",
      "51/51 [==============================] - 25s 490ms/step\n",
      "51/51 [==============================] - 24s 475ms/step\n",
      "51/51 [==============================] - 24s 474ms/step\n",
      "51/51 [==============================] - 25s 483ms/step\n",
      "0.9412938005390835\n",
      "0.8790123456790123\n",
      "array([[247,  18],\n",
      "       [ 31, 109]])\n"
     ]
    }
   ],
   "source": [
    "y_preds = [model_parallel.predict_generator(gen_valid, verbose=1, \n",
    "                                            workers=multiprocessing.cpu_count()) for i in range(10)]\n",
    "y_pred = np.mean(y_preds, axis=0)\n",
    "y_pred2 = 1 - y_pred[:,0]\n",
    "y_pred3 = 1 - (np.argmax(y_pred, axis=-1) == 0)\n",
    "pprint(roc_auc_score(y_valid, y_pred2))\n",
    "pprint(accuracy_score(y_valid, y_pred3))\n",
    "pprint(confusion_matrix(y_valid > 0.5, y_pred3))"
   ]
  },
  {
   "cell_type": "code",
   "execution_count": 28,
   "metadata": {
    "ExecuteTime": {
     "end_time": "2018-08-03T11:15:10.758736Z",
     "start_time": "2018-08-03T11:15:10.743512Z"
    }
   },
   "outputs": [
    {
     "name": "stdout",
     "output_type": "stream",
     "text": [
      "0.9250943396226415\n",
      "0.9284905660377358\n",
      "0.9369541778975741\n",
      "0.9370350404312668\n",
      "0.9379514824797843\n",
      "0.9406199460916442\n",
      "0.9414824797843665\n",
      "0.9415633423180593\n",
      "0.9420485175202156\n",
      "0.9412938005390835\n"
     ]
    }
   ],
   "source": [
    "for i in range(len(y_preds)):\n",
    "    y_pred = np.mean(y_preds[:i+1], axis=0)\n",
    "    y_pred2 = 1 - y_pred[:,0]\n",
    "    y_pred3 = 1 - (np.argmax(y_pred, axis=-1) == 0)\n",
    "    pprint(roc_auc_score(y_valid, y_pred2))"
   ]
  },
  {
   "cell_type": "code",
   "execution_count": 29,
   "metadata": {
    "ExecuteTime": {
     "end_time": "2018-08-03T11:19:55.121459Z",
     "start_time": "2018-08-03T11:15:52.369667Z"
    }
   },
   "outputs": [
    {
     "name": "stdout",
     "output_type": "stream",
     "text": [
      "Found 405 images belonging to 10 classes.\n",
      "51/51 [==============================] - 23s 455ms/step\n",
      "51/51 [==============================] - 24s 479ms/step\n",
      "51/51 [==============================] - 25s 484ms/step\n",
      "51/51 [==============================] - 24s 469ms/step\n",
      "51/51 [==============================] - 24s 478ms/step\n",
      "51/51 [==============================] - 25s 481ms/step\n",
      "51/51 [==============================] - 24s 479ms/step\n",
      "51/51 [==============================] - 24s 478ms/step\n",
      "51/51 [==============================] - 24s 469ms/step\n",
      "51/51 [==============================] - 25s 481ms/step\n",
      "0.9261051212938005\n",
      "0.928167115902965\n",
      "0.9360512129380054\n",
      "0.938921832884097\n",
      "0.9416981132075471\n",
      "0.9422371967654987\n",
      "0.9430458221024259\n",
      "0.9435849056603773\n",
      "0.9433153638814016\n",
      "0.943288409703504\n"
     ]
    }
   ],
   "source": [
    "idg = ImageDataGenerator(horizontal_flip=True,\n",
    "                         rotation_range=5,\n",
    "                         zoom_range=0.1)\n",
    "gen_valid = idg.flow_from_directory('valid', target_size=(height, width), shuffle=False, \n",
    "                                    interpolation='lanczos', classes=classes, batch_size=batch_size)\n",
    "y_preds = [model_parallel.predict_generator(gen_valid, verbose=1, \n",
    "                                            workers=multiprocessing.cpu_count()) for i in range(10)]\n",
    "for i in range(len(y_preds)):\n",
    "    y_pred = np.mean(y_preds[:i+1], axis=0)\n",
    "    y_pred2 = 1 - y_pred[:,0]\n",
    "    y_pred3 = 1 - (np.argmax(y_pred, axis=-1) == 0)\n",
    "    pprint(roc_auc_score(y_valid, y_pred2))"
   ]
  },
  {
   "cell_type": "code",
   "execution_count": 34,
   "metadata": {
    "ExecuteTime": {
     "end_time": "2018-08-03T11:37:48.848869Z",
     "start_time": "2018-08-03T11:33:52.032719Z"
    }
   },
   "outputs": [
    {
     "name": "stdout",
     "output_type": "stream",
     "text": [
      "Found 405 images belonging to 10 classes.\n",
      "51/51 [==============================] - 24s 473ms/step\n",
      "51/51 [==============================] - 24s 474ms/step\n",
      "51/51 [==============================] - 24s 468ms/step\n",
      "51/51 [==============================] - 24s 468ms/step\n",
      "51/51 [==============================] - 23s 458ms/step\n",
      "51/51 [==============================] - 24s 462ms/step\n",
      "51/51 [==============================] - 23s 460ms/step\n",
      "51/51 [==============================] - 24s 463ms/step\n",
      "51/51 [==============================] - 23s 452ms/step\n",
      "51/51 [==============================] - 23s 460ms/step\n",
      "0.928733153638814\n",
      "0.9385983827493262\n",
      "0.9360916442048517\n",
      "0.9391105121293801\n",
      "0.9390026954177898\n",
      "0.9395687331536389\n",
      "0.9400269541778975\n",
      "0.939811320754717\n",
      "0.9401482479784367\n",
      "0.9407008086253369\n"
     ]
    }
   ],
   "source": [
    "idg = ImageDataGenerator(horizontal_flip=True,\n",
    "                         rotation_range=3,\n",
    "                         zoom_range=0.1)\n",
    "gen_valid = idg.flow_from_directory('valid', target_size=(height, width), shuffle=False, \n",
    "                                    interpolation='lanczos', classes=classes, batch_size=batch_size)\n",
    "y_preds = [model_parallel.predict_generator(gen_valid, verbose=1, \n",
    "                                            workers=multiprocessing.cpu_count()) for i in range(10)]\n",
    "for i in range(len(y_preds)):\n",
    "    y_pred = np.mean(y_preds[:i+1], axis=0)\n",
    "    y_pred2 = 1 - y_pred[:,0]\n",
    "    y_pred3 = 1 - (np.argmax(y_pred, axis=-1) == 0)\n",
    "    pprint(roc_auc_score(y_valid, y_pred2))"
   ]
  },
  {
   "cell_type": "code",
   "execution_count": null,
   "metadata": {},
   "outputs": [],
   "source": []
  },
  {
   "cell_type": "code",
   "execution_count": 33,
   "metadata": {
    "ExecuteTime": {
     "end_time": "2018-08-03T11:33:52.029424Z",
     "start_time": "2018-08-03T11:29:49.034610Z"
    }
   },
   "outputs": [
    {
     "name": "stdout",
     "output_type": "stream",
     "text": [
      "Found 405 images belonging to 10 classes.\n",
      "51/51 [==============================] - 24s 466ms/step\n",
      "51/51 [==============================] - 24s 478ms/step\n",
      "51/51 [==============================] - 25s 481ms/step\n",
      "51/51 [==============================] - 24s 480ms/step\n",
      "51/51 [==============================] - 25s 486ms/step\n",
      "51/51 [==============================] - 24s 469ms/step\n",
      "51/51 [==============================] - 24s 480ms/step\n",
      "51/51 [==============================] - 24s 477ms/step\n",
      "51/51 [==============================] - 25s 481ms/step\n",
      "51/51 [==============================] - 23s 460ms/step\n",
      "0.9323180592991914\n",
      "0.9373045822102426\n",
      "0.9346630727762802\n",
      "0.9360781671159031\n",
      "0.9363611859838276\n",
      "0.9352830188679246\n",
      "0.9353638814016172\n",
      "0.9366307277628032\n",
      "0.9360377358490567\n",
      "0.9366576819407008\n"
     ]
    }
   ],
   "source": [
    "idg = ImageDataGenerator(horizontal_flip=True,\n",
    "                         rotation_range=7,\n",
    "                         zoom_range=0.1)\n",
    "gen_valid = idg.flow_from_directory('valid', target_size=(height, width), shuffle=False, \n",
    "                                    interpolation='lanczos', classes=classes, batch_size=batch_size)\n",
    "y_preds = [model_parallel.predict_generator(gen_valid, verbose=1, \n",
    "                                            workers=multiprocessing.cpu_count()) for i in range(10)]\n",
    "for i in range(len(y_preds)):\n",
    "    y_pred = np.mean(y_preds[:i+1], axis=0)\n",
    "    y_pred2 = 1 - y_pred[:,0]\n",
    "    y_pred3 = 1 - (np.argmax(y_pred, axis=-1) == 0)\n",
    "    pprint(roc_auc_score(y_valid, y_pred2))"
   ]
  },
  {
   "cell_type": "code",
   "execution_count": 31,
   "metadata": {
    "ExecuteTime": {
     "end_time": "2018-08-03T11:24:16.472386Z",
     "start_time": "2018-08-03T11:20:16.242874Z"
    }
   },
   "outputs": [
    {
     "name": "stdout",
     "output_type": "stream",
     "text": [
      "Found 405 images belonging to 10 classes.\n",
      "51/51 [==============================] - 23s 457ms/step\n",
      "51/51 [==============================] - 25s 486ms/step\n",
      "51/51 [==============================] - 24s 465ms/step\n",
      "51/51 [==============================] - 24s 474ms/step\n",
      "51/51 [==============================] - 24s 479ms/step\n",
      "51/51 [==============================] - 24s 462ms/step\n",
      "51/51 [==============================] - 24s 476ms/step\n",
      "51/51 [==============================] - 24s 465ms/step\n",
      "51/51 [==============================] - 24s 475ms/step\n",
      "51/51 [==============================] - 24s 465ms/step\n",
      "0.9197035040431267\n",
      "0.9335309973045821\n",
      "0.9366576819407008\n",
      "0.9332614555256065\n",
      "0.9333423180592991\n",
      "0.9332345013477089\n",
      "0.9353369272237197\n",
      "0.9354716981132075\n",
      "0.9367115902964959\n",
      "0.9385983827493262\n"
     ]
    }
   ],
   "source": [
    "idg = ImageDataGenerator(horizontal_flip=True,\n",
    "                         rotation_range=5,\n",
    "                         zoom_range=0.2)\n",
    "gen_valid = idg.flow_from_directory('valid', target_size=(height, width), shuffle=False, \n",
    "                                    interpolation='lanczos', classes=classes, batch_size=batch_size)\n",
    "y_preds = [model_parallel.predict_generator(gen_valid, verbose=1, \n",
    "                                            workers=multiprocessing.cpu_count()) for i in range(10)]\n",
    "for i in range(len(y_preds)):\n",
    "    y_pred = np.mean(y_preds[:i+1], axis=0)\n",
    "    y_pred2 = 1 - y_pred[:,0]\n",
    "    y_pred3 = 1 - (np.argmax(y_pred, axis=-1) == 0)\n",
    "    pprint(roc_auc_score(y_valid, y_pred2))"
   ]
  },
  {
   "cell_type": "code",
   "execution_count": 32,
   "metadata": {
    "ExecuteTime": {
     "end_time": "2018-08-03T11:28:17.026286Z",
     "start_time": "2018-08-03T11:24:16.474717Z"
    }
   },
   "outputs": [
    {
     "name": "stdout",
     "output_type": "stream",
     "text": [
      "Found 405 images belonging to 10 classes.\n",
      "51/51 [==============================] - 24s 465ms/step\n",
      "51/51 [==============================] - 24s 469ms/step\n",
      "51/51 [==============================] - 25s 484ms/step\n",
      "51/51 [==============================] - 24s 462ms/step\n",
      "51/51 [==============================] - 24s 467ms/step\n",
      "51/51 [==============================] - 24s 470ms/step\n",
      "51/51 [==============================] - 24s 469ms/step\n",
      "51/51 [==============================] - 23s 458ms/step\n",
      "51/51 [==============================] - 25s 487ms/step\n",
      "51/51 [==============================] - 24s 480ms/step\n",
      "0.9372506738544475\n",
      "0.9432614555256065\n",
      "0.9390296495956874\n",
      "0.9423854447439353\n",
      "0.9408086253369272\n",
      "0.9405929919137467\n",
      "0.9412938005390835\n",
      "0.9419407008086254\n",
      "0.9417789757412399\n",
      "0.9427762803234501\n"
     ]
    }
   ],
   "source": [
    "idg = ImageDataGenerator(horizontal_flip=True,\n",
    "                         rotation_range=5,\n",
    "                         zoom_range=0.05)\n",
    "gen_valid = idg.flow_from_directory('valid', target_size=(height, width), shuffle=False, \n",
    "                                    interpolation='lanczos', classes=classes, batch_size=batch_size)\n",
    "y_preds = [model_parallel.predict_generator(gen_valid, verbose=1, \n",
    "                                            workers=multiprocessing.cpu_count()) for i in range(10)]\n",
    "for i in range(len(y_preds)):\n",
    "    y_pred = np.mean(y_preds[:i+1], axis=0)\n",
    "    y_pred2 = 1 - y_pred[:,0]\n",
    "    y_pred3 = 1 - (np.argmax(y_pred, axis=-1) == 0)\n",
    "    pprint(roc_auc_score(y_valid, y_pred2))"
   ]
  },
  {
   "cell_type": "markdown",
   "metadata": {},
   "source": [
    "# 不做数据增强"
   ]
  },
  {
   "cell_type": "code",
   "execution_count": 24,
   "metadata": {
    "ExecuteTime": {
     "end_time": "2018-08-03T14:00:06.199082Z",
     "start_time": "2018-08-03T13:59:44.380066Z"
    }
   },
   "outputs": [
    {
     "name": "stdout",
     "output_type": "stream",
     "text": [
      "Found 405 images belonging to 10 classes.\n",
      "51/51 [==============================] - 21s 410ms/step\n",
      "0.9321024258760108\n"
     ]
    }
   ],
   "source": [
    "f = 2.5\n",
    "width = int(2560 / f)\n",
    "height = int(1920 / f)\n",
    "\n",
    "fname_model = 'models/InceptionResNetV2_0803_f2.5_reg4e-05-0.000100-70-0.932102.h5'\n",
    "model.load_weights(fname_model)\n",
    "\n",
    "idg = ImageDataGenerator()\n",
    "gen_valid = idg.flow_from_directory('valid', target_size=(height, width), shuffle=False, \n",
    "                                    interpolation='lanczos', classes=classes, batch_size=batch_size)\n",
    "y_pred_1 = model_parallel.predict_generator(gen_valid, verbose=1, workers=multiprocessing.cpu_count())\n",
    "\n",
    "y_pred2 = 1 - y_pred_1[:,0]\n",
    "pprint(roc_auc_score(y_valid, y_pred2))"
   ]
  },
  {
   "cell_type": "code",
   "execution_count": 25,
   "metadata": {
    "ExecuteTime": {
     "end_time": "2018-08-03T14:00:23.028500Z",
     "start_time": "2018-08-03T14:00:06.203165Z"
    }
   },
   "outputs": [
    {
     "name": "stdout",
     "output_type": "stream",
     "text": [
      "Found 405 images belonging to 10 classes.\n",
      "51/51 [==============================] - 16s 305ms/step\n",
      "0.9297574123989218\n"
     ]
    }
   ],
   "source": [
    "f = 3\n",
    "width = int(2560 / f)\n",
    "height = int(1920 / f)\n",
    "\n",
    "fname_model = 'models/InceptionResNetV2_0803_f3.0_reg4e-05-0.000100-70-0.929757.h5'\n",
    "model.load_weights(fname_model)\n",
    "\n",
    "idg = ImageDataGenerator()\n",
    "gen_valid = idg.flow_from_directory('valid', target_size=(height, width), shuffle=False, \n",
    "                                    interpolation='lanczos', classes=classes, batch_size=batch_size)\n",
    "y_pred_2 = model_parallel.predict_generator(gen_valid, verbose=1, workers=multiprocessing.cpu_count())\n",
    "\n",
    "y_pred2 = 1 - y_pred_2[:,0]\n",
    "pprint(roc_auc_score(y_valid, y_pred2))"
   ]
  },
  {
   "cell_type": "code",
   "execution_count": 26,
   "metadata": {
    "ExecuteTime": {
     "end_time": "2018-08-03T14:00:23.043603Z",
     "start_time": "2018-08-03T14:00:23.035550Z"
    }
   },
   "outputs": [
    {
     "name": "stdout",
     "output_type": "stream",
     "text": [
      "0.9354177897574123\n"
     ]
    }
   ],
   "source": [
    "y_pred = np.mean([y_pred_1, y_pred_2], axis=0)\n",
    "y_pred2 = 1 - y_pred[:,0]\n",
    "pprint(roc_auc_score(y_valid, y_pred2))"
   ]
  },
  {
   "cell_type": "markdown",
   "metadata": {},
   "source": [
    "# f2.5"
   ]
  },
  {
   "cell_type": "code",
   "execution_count": 16,
   "metadata": {
    "ExecuteTime": {
     "end_time": "2018-08-03T13:51:32.378996Z",
     "start_time": "2018-08-03T13:47:45.191129Z"
    }
   },
   "outputs": [
    {
     "name": "stdout",
     "output_type": "stream",
     "text": [
      "Found 405 images belonging to 10 classes.\n",
      "51/51 [==============================] - 22s 434ms/step\n",
      "51/51 [==============================] - 23s 454ms/step\n",
      "51/51 [==============================] - 23s 445ms/step\n",
      "51/51 [==============================] - 23s 444ms/step\n",
      "51/51 [==============================] - 22s 432ms/step\n",
      "51/51 [==============================] - 22s 438ms/step\n",
      "51/51 [==============================] - 22s 432ms/step\n",
      "51/51 [==============================] - 22s 438ms/step\n",
      "51/51 [==============================] - 23s 457ms/step\n",
      "51/51 [==============================] - 24s 461ms/step\n",
      "0.9253638814016172\n",
      "0.9336927223719677\n",
      "0.9332075471698114\n",
      "0.9356064690026954\n",
      "0.9366037735849057\n",
      "0.9361455525606469\n",
      "0.9350673854447439\n",
      "0.9380862533692722\n",
      "0.9381536388140163\n",
      "0.9396900269541779\n"
     ]
    }
   ],
   "source": [
    "f = 2.5\n",
    "width = int(2560 / f)\n",
    "height = int(1920 / f)\n",
    "\n",
    "fname_model = 'models/InceptionResNetV2_0803_f2.5_reg4e-05-0.000100-70-0.932102.h5'\n",
    "model.load_weights(fname_model)\n",
    "\n",
    "idg = ImageDataGenerator(horizontal_flip=True,\n",
    "                         rotation_range=5,\n",
    "                         zoom_range=0.1)\n",
    "gen_valid = idg.flow_from_directory('valid', target_size=(height, width), shuffle=False, \n",
    "                                    interpolation='lanczos', classes=classes, batch_size=batch_size)\n",
    "y_preds2 = [model_parallel.predict_generator(gen_valid, verbose=1, \n",
    "                                             workers=multiprocessing.cpu_count()) for i in range(10)]\n",
    "for i in range(len(y_preds2)):\n",
    "    y_pred = np.mean(y_preds2[:i+1], axis=0)\n",
    "    y_pred2 = 1 - y_pred[:,0]\n",
    "    y_pred3 = 1 - (np.argmax(y_pred, axis=-1) == 0)\n",
    "    pprint(roc_auc_score(y_valid, y_pred2))"
   ]
  },
  {
   "cell_type": "markdown",
   "metadata": {
    "ExecuteTime": {
     "end_time": "2018-08-03T13:54:38.207609Z",
     "start_time": "2018-08-03T13:54:38.204458Z"
    }
   },
   "source": [
    "# f3"
   ]
  },
  {
   "cell_type": "code",
   "execution_count": 17,
   "metadata": {
    "ExecuteTime": {
     "end_time": "2018-08-03T13:54:38.151322Z",
     "start_time": "2018-08-03T13:51:32.383341Z"
    }
   },
   "outputs": [
    {
     "name": "stdout",
     "output_type": "stream",
     "text": [
      "Found 405 images belonging to 10 classes.\n",
      "51/51 [==============================] - 18s 360ms/step\n",
      "51/51 [==============================] - 18s 361ms/step\n",
      "51/51 [==============================] - 19s 375ms/step\n",
      "51/51 [==============================] - 19s 370ms/step\n",
      "51/51 [==============================] - 18s 355ms/step\n",
      "51/51 [==============================] - 19s 364ms/step\n",
      "51/51 [==============================] - 18s 358ms/step\n",
      "51/51 [==============================] - 18s 360ms/step\n",
      "51/51 [==============================] - 18s 358ms/step\n",
      "51/51 [==============================] - 18s 356ms/step\n",
      "0.9353369272237196\n",
      "0.9411051212938005\n",
      "0.9397035040431266\n",
      "0.9421832884097036\n",
      "0.9416981132075471\n",
      "0.9416172506738545\n",
      "0.9414555256064691\n",
      "0.9429380053908356\n",
      "0.9422371967654986\n",
      "0.9436657681940701\n"
     ]
    }
   ],
   "source": [
    "f = 3\n",
    "width = int(2560 / f)\n",
    "height = int(1920 / f)\n",
    "\n",
    "fname_model = 'models/InceptionResNetV2_0803_f3.0_reg4e-05-0.000100-70-0.929757.h5'\n",
    "model.load_weights(fname_model)\n",
    "\n",
    "idg = ImageDataGenerator(horizontal_flip=True,\n",
    "                         rotation_range=5,\n",
    "                         zoom_range=0.1)\n",
    "gen_valid = idg.flow_from_directory('valid', target_size=(height, width), shuffle=False, \n",
    "                                    interpolation='lanczos', classes=classes, batch_size=batch_size)\n",
    "y_preds = [model_parallel.predict_generator(gen_valid, verbose=1, \n",
    "                                            workers=multiprocessing.cpu_count()) for i in range(10)]\n",
    "for i in range(len(y_preds)):\n",
    "    y_pred = np.mean(y_preds[:i+1], axis=0)\n",
    "    y_pred2 = 1 - y_pred[:,0]\n",
    "    y_pred3 = 1 - (np.argmax(y_pred, axis=-1) == 0)\n",
    "    pprint(roc_auc_score(y_valid, y_pred2))"
   ]
  },
  {
   "cell_type": "code",
   "execution_count": 18,
   "metadata": {
    "ExecuteTime": {
     "end_time": "2018-08-03T13:54:38.194682Z",
     "start_time": "2018-08-03T13:54:38.153840Z"
    }
   },
   "outputs": [
    {
     "name": "stdout",
     "output_type": "stream",
     "text": [
      "0.9426684636118599\n",
      "0.9477628032345015\n",
      "0.9464959568733154\n",
      "0.9469272237196765\n",
      "0.9469272237196765\n",
      "0.9471967654986523\n",
      "0.9463342318059299\n",
      "0.9486792452830188\n",
      "0.9478706199460917\n",
      "0.9480862533692722\n"
     ]
    }
   ],
   "source": [
    "for i in range(len(y_preds)):\n",
    "    y_pred = np.mean(y_preds[:i+1] + y_preds2[:i+1], axis=0)\n",
    "    y_pred2 = 1 - y_pred[:,0]\n",
    "    y_pred3 = 1 - (np.argmax(y_pred, axis=-1) == 0)\n",
    "    pprint(roc_auc_score(y_valid, y_pred2))"
   ]
  },
  {
   "cell_type": "code",
   "execution_count": null,
   "metadata": {},
   "outputs": [],
   "source": []
  }
 ],
 "metadata": {
  "kernelspec": {
   "display_name": "Python 3",
   "language": "python",
   "name": "python3"
  },
  "language_info": {
   "codemirror_mode": {
    "name": "ipython",
    "version": 3
   },
   "file_extension": ".py",
   "mimetype": "text/x-python",
   "name": "python",
   "nbconvert_exporter": "python",
   "pygments_lexer": "ipython3",
   "version": "3.6.5"
  }
 },
 "nbformat": 4,
 "nbformat_minor": 2
}
