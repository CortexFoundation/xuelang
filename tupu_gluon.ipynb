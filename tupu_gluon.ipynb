{
 "cells": [
  {
   "cell_type": "code",
   "execution_count": 1,
   "metadata": {
    "ExecuteTime": {
     "end_time": "2018-07-28T11:03:09.856057Z",
     "start_time": "2018-07-28T11:03:09.370896Z"
    }
   },
   "outputs": [],
   "source": [
    "import os\n",
    "os.environ['CUDA_VISIBLE_DEVICES'] = '0'\n",
    "\n",
    "import torch\n",
    "import torch.nn as nn\n",
    "import torch.optim as optim\n",
    "import torch.nn.functional as F\n",
    "import numpy as np\n",
    "from tqdm import tqdm\n",
    "\n",
    "device = torch.device(\"cuda\" if torch.cuda.is_available() else \"cpu\")"
   ]
  },
  {
   "cell_type": "code",
   "execution_count": 2,
   "metadata": {
    "ExecuteTime": {
     "end_time": "2018-07-28T11:03:09.861429Z",
     "start_time": "2018-07-28T11:03:09.857872Z"
    }
   },
   "outputs": [],
   "source": [
    "class Model(nn.Module):\n",
    "    def __init__(self):\n",
    "        super(Model, self).__init__()\n",
    "        self.fc1 = nn.Linear(128, 256)\n",
    "        self.fc2 = nn.Linear(256, 2**22)\n",
    "    \n",
    "    def forward(self, x):\n",
    "        x = F.relu(self.fc1(x))\n",
    "        return self.fc2(x)"
   ]
  },
  {
   "cell_type": "code",
   "execution_count": 3,
   "metadata": {
    "ExecuteTime": {
     "end_time": "2018-07-28T11:03:09.877133Z",
     "start_time": "2018-07-28T11:03:09.863155Z"
    }
   },
   "outputs": [
    {
     "data": {
      "text/plain": [
       "array([0.3, 0.1, 0.4, 0.1, 0.5, 0.9, 0.2, 0.6, 0.5, 0.3, 0.5, 0.8, 0.9,\n",
       "       0.7, 0.9, 0.3, 0.2, 0.3, 0.8, 0.4, 0.6, 0.2, 0.6, 0.4, 0.3, 0.3,\n",
       "       0.8, 0.3, 0.2, 0.7, 0.9, 0.5, 0. , 0.2, 0.8, 0.8, 0.4, 0.1, 0.9,\n",
       "       0.7, 0.1, 0.6, 0.9, 0.3, 0.9, 0.9, 0.3, 0.7, 0.5, 0.1, 0. , 0.5,\n",
       "       0.8, 0.2, 0. , 0.9, 0.7, 0.4, 0.9, 0.4, 0.4, 0.5, 0.9, 0.2, 0.3,\n",
       "       0. , 0.7, 0.8, 0.1, 0.6, 0.4, 0. , 0.6, 0.2, 0.8, 0.6, 0.2, 0. ,\n",
       "       0.8, 0.9, 0.9, 0.8, 0.6, 0.2, 0.8, 0. , 0.3, 0.4, 0.8, 0.2, 0.5,\n",
       "       0.3, 0.4, 0.2, 0.1, 0.1, 0.7, 0. , 0.6, 0.7, 0.9, 0.8, 0.2, 0.1,\n",
       "       0.4, 0.8, 0. , 0.8, 0.6, 0.5, 0.1, 0.3, 0.2, 0.8, 0.2, 0.3, 0. ,\n",
       "       0.6, 0.6, 0.4, 0.7, 0. , 0.9, 0.3, 0.8, 0.4, 0.4, 0.6, 0. , 0.9,\n",
       "       0.5, 0.5, 0. , 0.5, 0.8, 0.2, 0.2, 0.3, 0.1, 0.7, 0.2, 0.5, 0.3,\n",
       "       0.5, 0.9, 0.4, 0. , 0.8, 0.1, 0.2, 0.8, 0.4, 0.8, 0.1, 0.1, 0.1,\n",
       "       0.7, 0.4, 0.5, 0. , 0.2, 0.8, 0.4, 0.1, 0. , 0.2, 0.7, 0. , 0.1,\n",
       "       0.9, 0.3, 0.8, 0.5, 0.2, 0.1, 0.1, 0. , 0.5, 0.5, 0.5, 0.9, 0.6,\n",
       "       0.4, 0.4, 0.6, 0.2, 0.2, 0.9, 0.4, 0.8, 0.9, 0.5, 0.4, 0.9, 0.3,\n",
       "       0. , 0.3, 0.8, 0.1, 0.9, 0.6, 0.4, 0.4, 0.2, 0.8, 0.8, 0.1, 0. ,\n",
       "       0.9, 0.7, 0.5, 0.6, 0.6, 0.5, 0.9, 0.3, 0.3, 0.4, 0.4, 0.6, 0.1,\n",
       "       0.2, 0.8, 0.4, 0.7, 0.5, 0.6, 0.4, 0.8, 0.2, 0.3, 0.3, 0.7, 0.8,\n",
       "       0.6, 0.7, 0.8, 0.3, 0.1, 0.6, 0.5, 0.2, 0.7, 0.1, 0.2, 0. , 0.1,\n",
       "       0.9, 0. , 0.9, 0.1, 0.4, 0.5, 0.6, 0.4, 0.8])"
      ]
     },
     "execution_count": 3,
     "metadata": {},
     "output_type": "execute_result"
    }
   ],
   "source": [
    "pi_str = \"\"\"3.14159 26535 89793 23846 26433 83279 50288 41971 69399 37510 \n",
    "58209 74944 59230 78164 06286 20899 86280 34825 34211 70679 82148 08651 \n",
    "32823 06647 09384 46095 50582 23172 53594 08128 48111 74502 84102 70193 \n",
    "85211 05559 64462 29489 54930 38196 44288 10975 66593 34461 28475 64823 \n",
    "37867 83165 27120 19091 45648\"\"\"\n",
    "pi_str = pi_str.replace(' ', '').replace('.', '').replace('\\n', '')\n",
    "pi = np.array([int(x) / 10 for x in pi_str])\n",
    "pi"
   ]
  },
  {
   "cell_type": "code",
   "execution_count": 4,
   "metadata": {
    "ExecuteTime": {
     "end_time": "2018-07-28T11:03:09.896408Z",
     "start_time": "2018-07-28T11:03:09.878890Z"
    }
   },
   "outputs": [
    {
     "name": "stdout",
     "output_type": "stream",
     "text": [
      "4157\n"
     ]
    },
    {
     "data": {
      "text/plain": [
       "array([[0.2, 0.7, 0.1, ..., 0.1, 0.3, 0.5],\n",
       "       [0.9, 0.6, 0.6, ..., 0.2, 0.6, 0.4],\n",
       "       [0.8, 0. , 0. , ..., 0.7, 0.2, 0.3],\n",
       "       ...,\n",
       "       [0.8, 0. , 0.7, ..., 0.3, 0.5, 0.4],\n",
       "       [0.1, 0.3, 0. , ..., 0.7, 0. , 0.6],\n",
       "       [0.5, 0.5, 0.3, ..., 0.3, 0.2, 0.8]])"
      ]
     },
     "execution_count": 4,
     "metadata": {},
     "output_type": "execute_result"
    }
   ],
   "source": [
    "e_str = \"\"\"2.7182818284590452353602874713526624977572470936999595749669676277240766303535\n",
    "47594571382178525166427427466391932003059921817413596629043572900334295260595630\n",
    "73813232862794349076323382988075319525101901157383418793070215408914993488416750\n",
    "92447614606680822648001684774118537423454424371075390777449920695517027618386062\n",
    "61331384583000752044933826560297606737113200709328709127443747047230696977209310\n",
    "14169283681902551510865746377211125238978442505695369677078544996996794686445490\n",
    "59879316368892300987931277361782154249992295763514822082698951936680331825288693\n",
    "98496465105820939239829488793320362509443117301238197068416140397019837679320683\n",
    "28237646480429531180232878250981945581530175671736133206981125099618188159304169\n",
    "03515988885193458072738667385894228792284998920868058257492796104841984443634632\n",
    "44968487560233624827041978623209002160990235304369941849146314093431738143640546\n",
    "25315209618369088870701676839642437814059271456354906130310720851038375051011574\n",
    "77041718986106873969655212671546889570350354021234078498193343210681701210056278\n",
    "80235193033224745015853904730419957777093503660416997329725088687696640355570716\n",
    "22684471625607988265178713419512466520103059212366771943252786753985589448969709\n",
    "64097545918569563802363701621120477427228364896134225164450781824423529486363721\n",
    "41740238893441247963574370263755294448337998016125492278509257782562092622648326\n",
    "27793338656648162772516401910590049164499828931505660472580277863186415519565324\n",
    "42586982946959308019152987211725563475463964479101459040905862984967912874068705\n",
    "04895858671747985466775757320568128845920541334053922000113786300945560688166740\n",
    "01698420558040336379537645203040243225661352783695117788386387443966253224985065\n",
    "49958862342818997077332761717839280349465014345588970719425863987727547109629537\n",
    "41521115136835062752602326484728703920764310059584116612054529703023647254929666\n",
    "93811513732275364509888903136020572481765851180630364428123149655070475102544650\n",
    "11727211555194866850800368532281831521960037356252794495158284188294787610852639\n",
    "81395599006737648292244375287184624578036192981971399147564488262603903381441823\n",
    "26251509748279877799643730899703888677822713836057729788241256119071766394650706\n",
    "33045279546618550966661856647097113444740160704626215680717481877844371436988218\n",
    "55967095910259686200235371858874856965220005031173439207321139080329363447972735\n",
    "59552773490717837934216370120500545132638354400018632399149070547977805669785335\n",
    "80489669062951194324730995876552368128590413832411607226029983305353708761389396\n",
    "39177957454016137223618789365260538155841587186925538606164779834025435128439612\n",
    "94603529133259427949043372990857315802909586313826832914771163963370924003168945\n",
    "86360606458459251269946557248391865642097526850823075442545993769170419777800853\n",
    "62730941710163434907696423722294352366125572508814779223151974778060569672538017\n",
    "18077636034624592787784658506560507808442115296975218908740196609066518035165017\n",
    "92504619501366585436632712549639908549144200014574760819302212066024330096412704\n",
    "89439039717719518069908699860663658323227870937650226014929101151717763594460202\n",
    "32493002804018677239102880978666056511832600436885088171572386698422422010249505\n",
    "51881694803221002515426494639812873677658927688163598312477886520141174110913601\n",
    "16499507662907794364600585194199856016264790761532103872755712699251827568798930\n",
    "27617611461625493564959037980458381823233686120162437365698467037858533052758333\n",
    "37939907521660692380533698879565137285593883499894707416181550125397064648171946\n",
    "70834819721448889879067650379590366967249499254527903372963616265897603949857674\n",
    "13973594410237443297093554779826296145914429364514286171585873397467918975712119\n",
    "56187385783644758448423555581050025611492391518893099463428413936080383091662818\n",
    "81150371528496705974162562823609216807515017772538740256425347087908913729172282\n",
    "86115159156837252416307722544063378759310598267609442032619242853170187817729602\n",
    "35413060672136046000389661093647095141417185777014180606443636815464440053316087\n",
    "78314317444081194942297559931401188868331483280270655383300469329011574414756313\n",
    "99972217038046170928945790962716622607407187499753592127560844147378233032703301\n",
    "68237193648002173285734935947564334129943024850235732214597843282641421684878721\n",
    "\"\"\"\n",
    "e_str = e_str.replace('\\n', '').replace('.', '')\n",
    "print(len(e_str))\n",
    "e = np.array([int(x) / 10 for x in e_str[:32*128]]).reshape(32, 128)\n",
    "e"
   ]
  },
  {
   "cell_type": "code",
   "execution_count": 5,
   "metadata": {
    "ExecuteTime": {
     "end_time": "2018-07-28T11:03:26.111902Z",
     "start_time": "2018-07-28T11:03:09.898097Z"
    }
   },
   "outputs": [],
   "source": [
    "model = Model()\n",
    "model = model.to(device)"
   ]
  },
  {
   "cell_type": "code",
   "execution_count": null,
   "metadata": {
    "ExecuteTime": {
     "end_time": "2018-07-28T08:58:09.005047Z",
     "start_time": "2018-07-28T08:58:08.993581Z"
    }
   },
   "outputs": [],
   "source": []
  },
  {
   "cell_type": "code",
   "execution_count": 6,
   "metadata": {
    "ExecuteTime": {
     "end_time": "2018-07-28T11:03:26.118117Z",
     "start_time": "2018-07-28T11:03:26.114259Z"
    }
   },
   "outputs": [],
   "source": [
    "w1 = np.array([int(x) / 10 for x in pi_str[:128]], dtype=np.float32).reshape(1, -1).repeat(256, axis=0)\n",
    "model.fc1.weight = nn.Parameter(torch.tensor(w1).to(device))"
   ]
  },
  {
   "cell_type": "code",
   "execution_count": 7,
   "metadata": {
    "ExecuteTime": {
     "end_time": "2018-07-28T11:03:31.658896Z",
     "start_time": "2018-07-28T11:03:26.119961Z"
    }
   },
   "outputs": [],
   "source": [
    "w2 = np.array([int(x) / 10 for x in pi_str[:256]], dtype=np.float32).reshape(1, -1).repeat(2**22, axis=0)\n",
    "del model.fc2.weight\n",
    "model.fc2.weight = nn.Parameter(torch.tensor(w2).to(device))\n",
    "del w2"
   ]
  },
  {
   "cell_type": "code",
   "execution_count": 8,
   "metadata": {
    "ExecuteTime": {
     "end_time": "2018-07-28T11:03:31.664731Z",
     "start_time": "2018-07-28T11:03:31.661434Z"
    }
   },
   "outputs": [],
   "source": [
    "e_gpu = torch.tensor(e, dtype=torch.float32).to(device)"
   ]
  },
  {
   "cell_type": "code",
   "execution_count": null,
   "metadata": {},
   "outputs": [],
   "source": []
  },
  {
   "cell_type": "code",
   "execution_count": 9,
   "metadata": {
    "ExecuteTime": {
     "end_time": "2018-07-28T11:03:31.673543Z",
     "start_time": "2018-07-28T11:03:31.666766Z"
    }
   },
   "outputs": [
    {
     "data": {
      "text/plain": [
       "Model(\n",
       "  (fc1): Linear(in_features=128, out_features=256, bias=True)\n",
       "  (fc2): Linear(in_features=256, out_features=4194304, bias=True)\n",
       ")"
      ]
     },
     "execution_count": 9,
     "metadata": {},
     "output_type": "execute_result"
    }
   ],
   "source": [
    "optimizer = optim.SGD(model.parameters(), lr=1e-1)\n",
    "model.train()"
   ]
  },
  {
   "cell_type": "code",
   "execution_count": 10,
   "metadata": {
    "ExecuteTime": {
     "end_time": "2018-07-28T11:03:31.677419Z",
     "start_time": "2018-07-28T11:03:31.675378Z"
    }
   },
   "outputs": [],
   "source": [
    "# 模型占显存 4696MB"
   ]
  },
  {
   "cell_type": "code",
   "execution_count": 11,
   "metadata": {
    "ExecuteTime": {
     "end_time": "2018-07-28T11:03:32.154228Z",
     "start_time": "2018-07-28T11:03:31.679345Z"
    }
   },
   "outputs": [],
   "source": [
    "optimizer.zero_grad()\n",
    "\n",
    "i = 0\n",
    "target = torch.range(i*32, (i+1)*32-1, dtype=torch.int64).to(device)\n",
    "output = model(e_gpu)\n",
    "loss += F.cross_entropy(output, target)\n"
   ]
  },
  {
   "cell_type": "code",
   "execution_count": 12,
   "metadata": {
    "ExecuteTime": {
     "end_time": "2018-07-28T11:03:32.158916Z",
     "start_time": "2018-07-28T11:03:32.156513Z"
    }
   },
   "outputs": [],
   "source": [
    "# 运行后占5724MB，运行需要 1028MB"
   ]
  },
  {
   "cell_type": "code",
   "execution_count": 13,
   "metadata": {
    "ExecuteTime": {
     "end_time": "2018-07-28T11:03:32.394076Z",
     "start_time": "2018-07-28T11:03:32.161123Z"
    }
   },
   "outputs": [
    {
     "ename": "RuntimeError",
     "evalue": "cuda runtime error (2) : out of memory at /opt/conda/conda-bld/pytorch_1524586445097/work/aten/src/THC/generic/THCStorage.cu:58",
     "output_type": "error",
     "traceback": [
      "\u001b[0;31m---------------------------------------------------------------------------\u001b[0m",
      "\u001b[0;31mRuntimeError\u001b[0m                              Traceback (most recent call last)",
      "\u001b[0;32m<ipython-input-13-9dedd5219776>\u001b[0m in \u001b[0;36m<module>\u001b[0;34m()\u001b[0m\n\u001b[0;32m----> 1\u001b[0;31m \u001b[0mloss\u001b[0m\u001b[0;34m.\u001b[0m\u001b[0mbackward\u001b[0m\u001b[0;34m(\u001b[0m\u001b[0mretain_graph\u001b[0m\u001b[0;34m=\u001b[0m\u001b[0;32mFalse\u001b[0m\u001b[0;34m)\u001b[0m\u001b[0;34m\u001b[0m\u001b[0m\n\u001b[0m",
      "\u001b[0;32m~/miniconda3/lib/python3.6/site-packages/torch/tensor.py\u001b[0m in \u001b[0;36mbackward\u001b[0;34m(self, gradient, retain_graph, create_graph)\u001b[0m\n\u001b[1;32m     91\u001b[0m                 \u001b[0mproducts\u001b[0m\u001b[0;34m.\u001b[0m \u001b[0mDefaults\u001b[0m \u001b[0mto\u001b[0m\u001b[0;31m \u001b[0m\u001b[0;31m`\u001b[0m\u001b[0;31m`\u001b[0m\u001b[0;32mFalse\u001b[0m\u001b[0;31m`\u001b[0m\u001b[0;31m`\u001b[0m\u001b[0;34m.\u001b[0m\u001b[0;34m\u001b[0m\u001b[0m\n\u001b[1;32m     92\u001b[0m         \"\"\"\n\u001b[0;32m---> 93\u001b[0;31m         \u001b[0mtorch\u001b[0m\u001b[0;34m.\u001b[0m\u001b[0mautograd\u001b[0m\u001b[0;34m.\u001b[0m\u001b[0mbackward\u001b[0m\u001b[0;34m(\u001b[0m\u001b[0mself\u001b[0m\u001b[0;34m,\u001b[0m \u001b[0mgradient\u001b[0m\u001b[0;34m,\u001b[0m \u001b[0mretain_graph\u001b[0m\u001b[0;34m,\u001b[0m \u001b[0mcreate_graph\u001b[0m\u001b[0;34m)\u001b[0m\u001b[0;34m\u001b[0m\u001b[0m\n\u001b[0m\u001b[1;32m     94\u001b[0m \u001b[0;34m\u001b[0m\u001b[0m\n\u001b[1;32m     95\u001b[0m     \u001b[0;32mdef\u001b[0m \u001b[0mregister_hook\u001b[0m\u001b[0;34m(\u001b[0m\u001b[0mself\u001b[0m\u001b[0;34m,\u001b[0m \u001b[0mhook\u001b[0m\u001b[0;34m)\u001b[0m\u001b[0;34m:\u001b[0m\u001b[0;34m\u001b[0m\u001b[0m\n",
      "\u001b[0;32m~/miniconda3/lib/python3.6/site-packages/torch/autograd/__init__.py\u001b[0m in \u001b[0;36mbackward\u001b[0;34m(tensors, grad_tensors, retain_graph, create_graph, grad_variables)\u001b[0m\n\u001b[1;32m     87\u001b[0m     Variable._execution_engine.run_backward(\n\u001b[1;32m     88\u001b[0m         \u001b[0mtensors\u001b[0m\u001b[0;34m,\u001b[0m \u001b[0mgrad_tensors\u001b[0m\u001b[0;34m,\u001b[0m \u001b[0mretain_graph\u001b[0m\u001b[0;34m,\u001b[0m \u001b[0mcreate_graph\u001b[0m\u001b[0;34m,\u001b[0m\u001b[0;34m\u001b[0m\u001b[0m\n\u001b[0;32m---> 89\u001b[0;31m         allow_unreachable=True)  # allow_unreachable flag\n\u001b[0m\u001b[1;32m     90\u001b[0m \u001b[0;34m\u001b[0m\u001b[0m\n\u001b[1;32m     91\u001b[0m \u001b[0;34m\u001b[0m\u001b[0m\n",
      "\u001b[0;31mRuntimeError\u001b[0m: cuda runtime error (2) : out of memory at /opt/conda/conda-bld/pytorch_1524586445097/work/aten/src/THC/generic/THCStorage.cu:58"
     ]
    }
   ],
   "source": [
    "loss.backward()"
   ]
  },
  {
   "cell_type": "code",
   "execution_count": null,
   "metadata": {},
   "outputs": [],
   "source": []
  },
  {
   "cell_type": "code",
   "execution_count": null,
   "metadata": {
    "ExecuteTime": {
     "end_time": "2018-07-28T10:42:49.793846Z",
     "start_time": "2018-07-28T10:42:49.061070Z"
    }
   },
   "outputs": [],
   "source": [
    "optimizer = optim.SGD(model.parameters(), lr=1e-1)\n",
    "\n",
    "model.train()\n",
    "with tqdm(range(2**17)) as pbar:\n",
    "    for i in pbar:\n",
    "        optimizer.zero_grad()\n",
    "        \n",
    "        loss = 0\n",
    "        for j in range(i*32, (i+1)*32):\n",
    "            target = torch.tensor((j,), dtype=torch.int64).to(device)\n",
    "            output = model(e_gpu[j%32:j%32+1])\n",
    "            loss += F.cross_entropy(output, target)\n",
    "        \n",
    "        loss.backward()\n",
    "        optimizer.step()"
   ]
  },
  {
   "cell_type": "code",
   "execution_count": null,
   "metadata": {
    "ExecuteTime": {
     "end_time": "2018-07-28T10:49:10.449702Z",
     "start_time": "2018-07-28T10:49:10.444923Z"
    }
   },
   "outputs": [],
   "source": [
    "j"
   ]
  },
  {
   "cell_type": "code",
   "execution_count": null,
   "metadata": {},
   "outputs": [],
   "source": []
  }
 ],
 "metadata": {
  "kernelspec": {
   "display_name": "Python 3",
   "language": "python",
   "name": "python3"
  },
  "language_info": {
   "codemirror_mode": {
    "name": "ipython",
    "version": 3
   },
   "file_extension": ".py",
   "mimetype": "text/x-python",
   "name": "python",
   "nbconvert_exporter": "python",
   "pygments_lexer": "ipython3",
   "version": "3.6.5"
  },
  "varInspector": {
   "cols": {
    "lenName": 16,
    "lenType": 16,
    "lenVar": 40
   },
   "kernels_config": {
    "python": {
     "delete_cmd_postfix": "",
     "delete_cmd_prefix": "del ",
     "library": "var_list.py",
     "varRefreshCmd": "print(var_dic_list())"
    },
    "r": {
     "delete_cmd_postfix": ") ",
     "delete_cmd_prefix": "rm(",
     "library": "var_list.r",
     "varRefreshCmd": "cat(var_dic_list()) "
    }
   },
   "types_to_exclude": [
    "module",
    "function",
    "builtin_function_or_method",
    "instance",
    "_Feature"
   ],
   "window_display": false
  }
 },
 "nbformat": 4,
 "nbformat_minor": 2
}
