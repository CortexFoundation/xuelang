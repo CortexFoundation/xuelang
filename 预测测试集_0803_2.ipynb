{
 "cells": [
  {
   "cell_type": "code",
   "execution_count": 1,
   "metadata": {
    "ExecuteTime": {
     "end_time": "2018-08-03T08:47:40.139980Z",
     "start_time": "2018-08-03T08:47:38.231269Z"
    }
   },
   "outputs": [
    {
     "name": "stderr",
     "output_type": "stream",
     "text": [
      "Using TensorFlow backend.\n",
      "/home/ypw/miniconda3/lib/python3.6/importlib/_bootstrap.py:219: RuntimeWarning: numpy.dtype size changed, may indicate binary incompatibility. Expected 96, got 88\n",
      "  return f(*args, **kwds)\n",
      "/home/ypw/miniconda3/lib/python3.6/importlib/_bootstrap.py:219: RuntimeWarning: numpy.dtype size changed, may indicate binary incompatibility. Expected 96, got 88\n",
      "  return f(*args, **kwds)\n"
     ]
    }
   ],
   "source": [
    "from keras.models import *\n",
    "from keras.layers import *\n",
    "from keras.callbacks import *\n",
    "from keras.optimizers import *\n",
    "from keras.applications import *\n",
    "from keras.applications import imagenet_utils\n",
    "from keras.preprocessing.image import *\n",
    "from keras.utils import multi_gpu_model\n",
    "\n",
    "from IPython.display import SVG\n",
    "from keras.utils.vis_utils import model_to_dot\n",
    "\n",
    "from glob import glob\n",
    "from tqdm import tqdm\n",
    "import numpy as np\n",
    "import cv2\n",
    "import matplotlib.pyplot as plt\n",
    "import matplotlib.image as mpimg\n",
    "\n",
    "from sklearn.metrics import *\n",
    "from collections import Counter\n",
    "\n",
    "import multiprocessing\n",
    "from multiprocessing.dummy import Pool\n",
    "from pprint import pprint\n",
    "\n",
    "import os\n",
    "os.environ['CUDA_VISIBLE_DEVICES'] = '0,1'\n",
    "n_gpus = len(os.environ['CUDA_VISIBLE_DEVICES'].split(','))"
   ]
  },
  {
   "cell_type": "code",
   "execution_count": 2,
   "metadata": {
    "ExecuteTime": {
     "end_time": "2018-08-03T08:47:40.145582Z",
     "start_time": "2018-08-03T08:47:40.142010Z"
    }
   },
   "outputs": [],
   "source": [
    "batch_size = 4 * n_gpus\n",
    "model_name = ''\n",
    "preprocess_func = inception_resnet_v2.preprocess_input\n",
    "MODEL = InceptionResNetV2\n",
    "\n",
    "f = 2\n",
    "width = int(2560 / f)\n",
    "height = int(1920 / f)\n",
    "classes = ['正常', '吊经', '擦洞', '跳花', '毛洞', '织稀', '扎洞', '缺经', '毛斑', '其他']\n",
    "n_classes = len(classes)"
   ]
  },
  {
   "cell_type": "code",
   "execution_count": 3,
   "metadata": {
    "ExecuteTime": {
     "end_time": "2018-08-03T08:47:40.270557Z",
     "start_time": "2018-08-03T08:47:40.148885Z"
    }
   },
   "outputs": [
    {
     "name": "stdout",
     "output_type": "stream",
     "text": [
      "Found 647 images belonging to 1 classes.\n"
     ]
    }
   ],
   "source": [
    "idg = ImageDataGenerator()\n",
    "gen_test = idg.flow_from_directory('testb', target_size=(height, width), shuffle=False, \n",
    "                                   interpolation='lanczos', class_mode=None, batch_size=batch_size)"
   ]
  },
  {
   "cell_type": "markdown",
   "metadata": {},
   "source": [
    "# 按 val_auc 排序"
   ]
  },
  {
   "cell_type": "code",
   "execution_count": 4,
   "metadata": {
    "ExecuteTime": {
     "end_time": "2018-08-03T08:47:40.290804Z",
     "start_time": "2018-08-03T08:47:40.273620Z"
    },
    "scrolled": false
   },
   "outputs": [
    {
     "data": {
      "text/plain": [
       "[('0.962335', 'models/irv2_0731-0.001001-120-0.962335.h5'),\n",
       " ('0.961481', 'models/irv2_0802_4e-5-0.001000-42-0.961481.h5'),\n",
       " ('0.959774', 'models/irv2_0802_4e-5-0.001000-46-0.959774.h5'),\n",
       " ('0.959667', 'models/irv2_0802_4e-5-0.000100-60-0.959667.h5'),\n",
       " ('0.957960', 'models/irv2_0802_4e-5-0.001000-48-0.957960.h5'),\n",
       " ('0.957960', 'models/irv2_0802_4e-5-0.001000-47-0.957960.h5'),\n",
       " ('0.956146', 'models/irv2_0802_4e-5-0.001000-45-0.956146.h5'),\n",
       " ('0.954866', 'models/irv2_0802-0.001000-30-0.954866.h5'),\n",
       " ('0.954225', 'models/irv2_0801-0.000100-60-0.954225.h5'),\n",
       " ('0.954012', 'models/irv2_0802_4e-5-0.000100-56-0.954012.h5'),\n",
       " ('0.953905', 'models/irv2_0802_4e-5-0.000100-51-0.953905.h5'),\n",
       " ('0.953478', 'models/irv2_0802_4e-5-0.001000-40-0.953478.h5'),\n",
       " ('0.953478', 'models/irv2_0802_4e-5-0.001000-50-0.953478.h5'),\n",
       " ('0.953158', 'models/irv2_0802_4e-5-0.000100-59-0.953158.h5'),\n",
       " ('0.952838', 'models/irv2_0802_4e-5-0.001000-35-0.952838.h5'),\n",
       " ('0.952251', 'models/irv2_0802_4e-5-0.001000-41-0.952251.h5'),\n",
       " ('0.951985', 'models/irv2_0802_4e-5-0.001000-49-0.951985.h5'),\n",
       " ('0.951878', 'models/irv2_0802_4e-5-0.000100-57-0.951878.h5'),\n",
       " ('0.951665', 'models/irv2_0802_4e-5-0.001000-26-0.951665.h5'),\n",
       " ('0.950811', 'models/irv2_0802_4e-5-0.000100-58-0.950811.h5'),\n",
       " ('0.950384', 'models/irv2_0802_4e-5-0.001000-28-0.950384.h5'),\n",
       " ('0.949957', 'models/irv2_0802_4e-5-0.000100-53-0.949957.h5'),\n",
       " ('0.949744', 'models/irv2_0802_4e-5-0.001000-43-0.949744.h5'),\n",
       " ('0.949637', 'models/irv2_0802_4e-5-0.000100-54-0.949637.h5'),\n",
       " ('0.948357', 'models/irv2_0802_4e-5-0.000100-55-0.948357.h5'),\n",
       " ('0.948197', 'models/irv2_0802_4e-5-0.001000-36-0.948197.h5'),\n",
       " ('0.947610', 'models/irv2_0802_4e-5-0.000100-52-0.947610.h5'),\n",
       " ('0.946916', 'models/irv2_0802_4e-5-0.001000-34-0.946916.h5'),\n",
       " ('0.945369', 'models/irv2_0802_4e-5-0.001000-37-0.945369.h5'),\n",
       " ('0.944729', 'models/irv2_0802_4e-5-0.001000-39-0.944729.h5'),\n",
       " ('0.943769', 'models/irv2_0802_4e-5-0.001000-32-0.943769.h5'),\n",
       " ('0.943769', 'models/irv2_0802_4e-5-0.001000-18-0.943769.h5'),\n",
       " ('0.939927', 'models/irv2_0802_4e-5-0.001000-44-0.939927.h5'),\n",
       " ('0.936927',\n",
       "  'models/InceptionResNetV2_0803_f2.5_reg4e-05-0.000100-58-0.936927.h5'),\n",
       " ('0.936673', 'models/irv2_0802_4e-5-0.001000-38-0.936673.h5'),\n",
       " ('0.936513', 'models/irv2_0802_4e-5-0.001000-29-0.936513.h5'),\n",
       " ('0.935714',\n",
       "  'models/InceptionResNetV2_0803_f2.5_reg4e-05-0.000100-67-0.935714.h5'),\n",
       " ('0.935391',\n",
       "  'models/InceptionResNetV2_0803_f2.5_reg4e-05-0.000100-59-0.935391.h5'),\n",
       " ('0.934825',\n",
       "  'models/InceptionResNetV2_0803_f2.5_reg4e-05-0.001000-39-0.934825.h5'),\n",
       " ('0.934690',\n",
       "  'models/InceptionResNetV2_0803_f2.5_reg4e-05-0.000100-68-0.934690.h5'),\n",
       " ('0.934557', 'models/irv2_0802_f3.75-0.000100-56-0.934557.h5'),\n",
       " ('0.934420',\n",
       "  'models/InceptionResNetV2_0803_f2.5_reg4e-05-0.001000-31-0.934420.h5'),\n",
       " ('0.934340',\n",
       "  'models/InceptionResNetV2_0803_f2.5_reg4e-05-0.000100-66-0.934340.h5'),\n",
       " ('0.934219', 'models/irv2_0802-0.001000-29-0.934219.h5'),\n",
       " ('0.933935',\n",
       "  'models/InceptionResNetV2_0803_f2.5_reg4e-05-0.000100-57-0.933935.h5'),\n",
       " ('0.933639',\n",
       "  'models/InceptionResNetV2_0803_f2.5_reg4e-05-0.000100-61-0.933639.h5'),\n",
       " ('0.933477',\n",
       "  'models/InceptionResNetV2_0803_f2.5_reg4e-05-0.000100-60-0.933477.h5'),\n",
       " ('0.933369',\n",
       "  'models/InceptionResNetV2_0803_f2.5_reg4e-05-0.000100-62-0.933369.h5'),\n",
       " ('0.933288',\n",
       "  'models/InceptionResNetV2_0803_f2.5_reg4e-05-0.001000-49-0.933288.h5'),\n",
       " ('0.932695', 'models/irv2_0802_f2.5-0.001000-43-0.932695.h5')]"
      ]
     },
     "execution_count": 4,
     "metadata": {},
     "output_type": "execute_result"
    }
   ],
   "source": [
    "a = [(x[x.rfind('-')+1:x.rfind('.')], x) for x in glob('models/*.h5')]\n",
    "a = sorted(a, key=lambda x:x[0], reverse=True)[:50]\n",
    "a"
   ]
  },
  {
   "cell_type": "markdown",
   "metadata": {},
   "source": [
    "# 构建模型"
   ]
  },
  {
   "cell_type": "code",
   "execution_count": 5,
   "metadata": {
    "ExecuteTime": {
     "end_time": "2018-08-03T08:48:35.658342Z",
     "start_time": "2018-08-03T08:47:40.293425Z"
    }
   },
   "outputs": [],
   "source": [
    "base_model = MODEL(include_top=False, weights='imagenet')\n",
    "input_tensor = Input((height, width, 3))\n",
    "x = Lambda(preprocess_func)(input_tensor)\n",
    "x = base_model(x)\n",
    "x = GlobalAvgPool2D()(x)\n",
    "x = Dense(n_classes, activation='softmax')(x)\n",
    "model = Model(input_tensor, x)"
   ]
  },
  {
   "cell_type": "code",
   "execution_count": 6,
   "metadata": {
    "ExecuteTime": {
     "end_time": "2018-08-03T08:49:31.443491Z",
     "start_time": "2018-08-03T08:48:35.660733Z"
    }
   },
   "outputs": [],
   "source": [
    "model_parallel = multi_gpu_model(model, n_gpus)"
   ]
  },
  {
   "cell_type": "markdown",
   "metadata": {},
   "source": [
    "# 预测结果"
   ]
  },
  {
   "cell_type": "code",
   "execution_count": 7,
   "metadata": {
    "ExecuteTime": {
     "end_time": "2018-08-03T08:49:31.451434Z",
     "start_time": "2018-08-03T08:49:31.445822Z"
    }
   },
   "outputs": [],
   "source": [
    "def predict(fname_model):\n",
    "    model.load_weights(fname_model)\n",
    "    y_pred = model_parallel.predict_generator(gen_test, verbose=1, workers=multiprocessing.cpu_count())\n",
    "    \n",
    "    y_pred2 = 1 - y_pred[:,0]\n",
    "    \n",
    "    plt.figure()\n",
    "    plt.hist(y_pred2);\n",
    "    \n",
    "    # 直接 clip 法\n",
    "    y_pred4 = np.round(y_pred2, 6).clip(1e-6, 1-1e-6)\n",
    "    \n",
    "    # 排序法\n",
    "    table = np.linspace(0.1, 0.9, num=y_pred2.shape[0])\n",
    "    index = np.argsort(y_pred2)\n",
    "    y_pred3 = np.zeros(y_pred2.shape)\n",
    "    y_pred3[index] = table\n",
    "    \n",
    "    fname_model2 = fname_model[fname_model.rfind('/')+1:]\n",
    "    with open(f'outs/pred_{fname_model2}_3.csv', 'w') as f:\n",
    "        f.write('filename,probability\\n')\n",
    "        for fname, value in zip(gen_test.filenames, y_pred3):\n",
    "            fname = fname[fname.rfind('/')+1:]\n",
    "            f.write(f'{fname},{value:.6f}\\n')\n",
    "\n",
    "    with open(f'outs/pred_{fname_model2}_4.csv', 'w') as f:\n",
    "        f.write('filename,probability\\n')\n",
    "        for fname, value in zip(gen_test.filenames, y_pred4):\n",
    "            fname = fname[fname.rfind('/')+1:]\n",
    "            f.write(f'{fname},{value:.6f}\\n')\n",
    "    return y_pred"
   ]
  },
  {
   "cell_type": "code",
   "execution_count": 8,
   "metadata": {
    "ExecuteTime": {
     "end_time": "2018-08-03T08:52:29.103207Z",
     "start_time": "2018-08-03T08:49:31.452953Z"
    }
   },
   "outputs": [
    {
     "name": "stdout",
     "output_type": "stream",
     "text": [
      "81/81 [==============================] - 61s 747ms/step\n",
      "81/81 [==============================] - 48s 588ms/step\n",
      "81/81 [==============================] - 49s 604ms/step\n"
     ]
    },
    {
     "data": {
      "text/plain": [
       "array([[8.9601243e-01, 2.8574364e-02, 2.9244139e-03, ..., 7.4108113e-03,\n",
       "        3.7328920e-03, 3.0454723e-02],\n",
       "       [5.8824583e-07, 3.0124176e-03, 1.2861930e-01, ..., 1.3223969e-03,\n",
       "        5.3248379e-02, 3.8347533e-01],\n",
       "       [8.2202695e-02, 1.4217223e-01, 2.1868411e-02, ..., 1.7597163e-02,\n",
       "        7.8879915e-02, 4.0076387e-01],\n",
       "       ...,\n",
       "       [3.4445858e-07, 1.9955386e-03, 4.8683450e-01, ..., 6.6808966e-04,\n",
       "        5.6304093e-02, 4.7513922e-03],\n",
       "       [9.8057681e-01, 3.3515212e-03, 8.7719579e-04, ..., 6.9539034e-04,\n",
       "        9.9526322e-04, 5.9090848e-03],\n",
       "       [6.3133058e-07, 8.8677643e-04, 6.4077574e-01, ..., 3.8140724e-04,\n",
       "        3.9491050e-02, 3.0756162e-03]], dtype=float32)"
      ]
     },
     "execution_count": 8,
     "metadata": {},
     "output_type": "execute_result"
    },
    {
     "data": {
      "image/png": "[encoded data removed]",
      "text/plain": [
       "<Figure size 432x288 with 1 Axes>"
      ]
     },
     "metadata": {},
     "output_type": "display_data"
    },
    {
     "data": {
      "image/png": "[encoded data removed]",
      "text/plain": [
       "<Figure size 432x288 with 1 Axes>"
      ]
     },
     "metadata": {},
     "output_type": "display_data"
    },
    {
     "data": {
      "image/png": "[encoded data removed]",
      "text/plain": [
       "<Figure size 432x288 with 1 Axes>"
      ]
     },
     "metadata": {},
     "output_type": "display_data"
    }
   ],
   "source": [
    "predict('models/irv2_0731-0.001001-120-0.962335.h5')\n",
    "predict('models/irv2_0802_4e-5-0.000100-60-0.959667.h5')\n",
    "predict('models/irv2_0802-0.001000-30-0.954866.h5')"
   ]
  },
  {
   "cell_type": "code",
   "execution_count": null,
   "metadata": {},
   "outputs": [],
   "source": []
  }
 ],
 "metadata": {
  "kernelspec": {
   "display_name": "Python 3",
   "language": "python",
   "name": "python3"
  },
  "language_info": {
   "codemirror_mode": {
    "name": "ipython",
    "version": 3
   },
   "file_extension": ".py",
   "mimetype": "text/x-python",
   "name": "python",
   "nbconvert_exporter": "python",
   "pygments_lexer": "ipython3",
   "version": "3.6.5"
  }
 },
 "nbformat": 4,
 "nbformat_minor": 2
}
