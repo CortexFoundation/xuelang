{
 "cells": [
  {
   "cell_type": "code",
   "execution_count": 1,
   "metadata": {
    "ExecuteTime": {
     "end_time": "2018-08-02T15:19:36.413022Z",
     "start_time": "2018-08-02T15:19:34.471398Z"
    }
   },
   "outputs": [
    {
     "name": "stderr",
     "output_type": "stream",
     "text": [
      "Using TensorFlow backend.\n"
     ]
    }
   ],
   "source": [
    "from keras.models import *\n",
    "from keras.layers import *\n",
    "from keras.callbacks import *\n",
    "from keras.optimizers import *\n",
    "from keras.applications import *\n",
    "from keras.applications import imagenet_utils\n",
    "from keras.preprocessing.image import *\n",
    "from keras.utils import multi_gpu_model\n",
    "\n",
    "from IPython.display import SVG\n",
    "from keras.utils.vis_utils import model_to_dot\n",
    "\n",
    "from glob import glob\n",
    "from tqdm import tqdm\n",
    "import numpy as np\n",
    "import cv2\n",
    "import matplotlib.pyplot as plt\n",
    "import matplotlib.image as mpimg\n",
    "\n",
    "from sklearn.metrics import *\n",
    "from collections import Counter\n",
    "\n",
    "import multiprocessing\n",
    "from multiprocessing.dummy import Pool\n",
    "from pprint import pprint\n",
    "\n",
    "import os\n",
    "os.environ['CUDA_VISIBLE_DEVICES'] = '0,1'\n",
    "n_gpus = len(os.environ['CUDA_VISIBLE_DEVICES'].split(','))"
   ]
  },
  {
   "cell_type": "code",
   "execution_count": 2,
   "metadata": {
    "ExecuteTime": {
     "end_time": "2018-08-02T15:19:36.418450Z",
     "start_time": "2018-08-02T15:19:36.414996Z"
    }
   },
   "outputs": [],
   "source": [
    "batch_size = 4 * n_gpus\n",
    "model_name = ''\n",
    "preprocess_func = inception_resnet_v2.preprocess_input\n",
    "MODEL = InceptionResNetV2\n",
    "\n",
    "f = 2\n",
    "width = int(2560 / f)\n",
    "height = int(1920 / f)\n",
    "classes = ['正常', '吊经', '擦洞', '跳花', '毛洞', '织稀', '扎洞', '缺经', '毛斑', '其他']\n",
    "n_classes = len(classes)"
   ]
  },
  {
   "cell_type": "code",
   "execution_count": 3,
   "metadata": {
    "ExecuteTime": {
     "end_time": "2018-08-02T15:19:36.544909Z",
     "start_time": "2018-08-02T15:19:36.420253Z"
    }
   },
   "outputs": [
    {
     "name": "stdout",
     "output_type": "stream",
     "text": [
      "Found 662 images belonging to 2 classes.\n"
     ]
    }
   ],
   "source": [
    "idg = ImageDataGenerator()\n",
    "gen_test = idg.flow_from_directory('test', target_size=(height, width), shuffle=False, \n",
    "                                   interpolation='lanczos', class_mode=None, batch_size=batch_size)"
   ]
  },
  {
   "cell_type": "markdown",
   "metadata": {},
   "source": [
    "# 按 val_auc 排序"
   ]
  },
  {
   "cell_type": "code",
   "execution_count": 4,
   "metadata": {
    "ExecuteTime": {
     "end_time": "2018-08-02T15:19:36.565077Z",
     "start_time": "2018-08-02T15:19:36.548318Z"
    },
    "scrolled": false
   },
   "outputs": [
    {
     "data": {
      "text/plain": [
       "[('0.962335', 'models/irv2_0731-0.001001-120-0.962335.h5'),\n",
       " ('0.961481', 'models/irv2_0802_4e-5-0.001000-42-0.961481.h5'),\n",
       " ('0.959774', 'models/irv2_0802_4e-5-0.001000-46-0.959774.h5'),\n",
       " ('0.959667', 'models/irv2_0802_4e-5-0.000100-60-0.959667.h5'),\n",
       " ('0.957960', 'models/irv2_0802_4e-5-0.001000-48-0.957960.h5'),\n",
       " ('0.957960', 'models/irv2_0802_4e-5-0.001000-47-0.957960.h5'),\n",
       " ('0.956146', 'models/irv2_0802_4e-5-0.001000-45-0.956146.h5'),\n",
       " ('0.954866', 'models/irv2_0802-0.001000-30-0.954866.h5'),\n",
       " ('0.954225', 'models/irv2_0801-0.000100-60-0.954225.h5'),\n",
       " ('0.954012', 'models/irv2_0802_4e-5-0.000100-56-0.954012.h5'),\n",
       " ('0.953905', 'models/irv2_0802_4e-5-0.000100-51-0.953905.h5'),\n",
       " ('0.953478', 'models/irv2_0802_4e-5-0.001000-40-0.953478.h5'),\n",
       " ('0.953478', 'models/irv2_0802_4e-5-0.001000-50-0.953478.h5'),\n",
       " ('0.953158', 'models/irv2_0802_4e-5-0.000100-59-0.953158.h5'),\n",
       " ('0.952838', 'models/irv2_0802_4e-5-0.001000-35-0.952838.h5'),\n",
       " ('0.952251', 'models/irv2_0802_4e-5-0.001000-41-0.952251.h5'),\n",
       " ('0.951985', 'models/irv2_0802_4e-5-0.001000-49-0.951985.h5'),\n",
       " ('0.951878', 'models/irv2_0802_4e-5-0.000100-57-0.951878.h5'),\n",
       " ('0.951665', 'models/irv2_0802_4e-5-0.001000-26-0.951665.h5'),\n",
       " ('0.950811', 'models/irv2_0802_4e-5-0.000100-58-0.950811.h5'),\n",
       " ('0.950384', 'models/irv2_0802_4e-5-0.001000-28-0.950384.h5'),\n",
       " ('0.949957', 'models/irv2_0802_4e-5-0.000100-53-0.949957.h5'),\n",
       " ('0.949744', 'models/irv2_0802_4e-5-0.001000-43-0.949744.h5'),\n",
       " ('0.949637', 'models/irv2_0802_4e-5-0.000100-54-0.949637.h5'),\n",
       " ('0.948357', 'models/irv2_0802_4e-5-0.000100-55-0.948357.h5'),\n",
       " ('0.948197', 'models/irv2_0802_4e-5-0.001000-36-0.948197.h5'),\n",
       " ('0.947610', 'models/irv2_0802_4e-5-0.000100-52-0.947610.h5'),\n",
       " ('0.946916', 'models/irv2_0802_4e-5-0.001000-34-0.946916.h5'),\n",
       " ('0.945369', 'models/irv2_0802_4e-5-0.001000-37-0.945369.h5'),\n",
       " ('0.944729', 'models/irv2_0802_4e-5-0.001000-39-0.944729.h5'),\n",
       " ('0.943769', 'models/irv2_0802_4e-5-0.001000-32-0.943769.h5'),\n",
       " ('0.943769', 'models/irv2_0802_4e-5-0.001000-18-0.943769.h5'),\n",
       " ('0.939927', 'models/irv2_0802_4e-5-0.001000-44-0.939927.h5'),\n",
       " ('0.936673', 'models/irv2_0802_4e-5-0.001000-38-0.936673.h5'),\n",
       " ('0.936513', 'models/irv2_0802_4e-5-0.001000-29-0.936513.h5'),\n",
       " ('0.934219', 'models/irv2_0802-0.001000-29-0.934219.h5'),\n",
       " ('0.932695', 'models/irv2_0802_f2.5-0.001000-43-0.932695.h5'),\n",
       " ('0.932458', 'models/irv2_0802-0.001000-32-0.932458.h5'),\n",
       " ('0.931213', 'models/irv2_0802_f2.5-0.001000-35-0.931213.h5'),\n",
       " ('0.931018', 'models/irv2_0802_4e-5-0.001000-17-0.931018.h5'),\n",
       " ('0.929257', 'models/irv2_0802-0.000100-59-0.929257.h5'),\n",
       " ('0.929003', 'models/irv2_0802_f2.5-0.001000-44-0.929003.h5'),\n",
       " ('0.928831', 'models/irv2_0802_4e-5-0.001000-30-0.928831.h5'),\n",
       " ('0.928671', 'models/irv2_0802-0.001000-28-0.928671.h5'),\n",
       " ('0.928030', 'models/irv2_0802-0.001000-39-0.928030.h5'),\n",
       " ('0.927710', 'models/irv2_0802_4e-5-0.001000-19-0.927710.h5'),\n",
       " ('0.927550', 'models/irv2_0802-0.000100-60-0.927550.h5'),\n",
       " ('0.927497', 'models/irv2_0802-0.001000-44-0.927497.h5'),\n",
       " ('0.926803', 'models/irv2_0802_4e-5-0.001000-12-0.926803.h5'),\n",
       " ('0.926750', 'models/irv2_0802-0.000100-55-0.926750.h5')]"
      ]
     },
     "execution_count": 4,
     "metadata": {},
     "output_type": "execute_result"
    }
   ],
   "source": [
    "a = [(x[x.rfind('-')+1:x.rfind('.')], x) for x in glob('models/*.h5')]\n",
    "a = sorted(a, key=lambda x:x[0], reverse=True)[:50]\n",
    "a"
   ]
  },
  {
   "cell_type": "markdown",
   "metadata": {},
   "source": [
    "# 构建模型"
   ]
  },
  {
   "cell_type": "code",
   "execution_count": 5,
   "metadata": {
    "ExecuteTime": {
     "end_time": "2018-08-02T15:20:35.321772Z",
     "start_time": "2018-08-02T15:19:36.567954Z"
    }
   },
   "outputs": [],
   "source": [
    "base_model = MODEL(include_top=False, weights='imagenet')\n",
    "input_tensor = Input((height, width, 3))\n",
    "x = Lambda(preprocess_func)(input_tensor)\n",
    "x = base_model(x)\n",
    "x = GlobalAvgPool2D()(x)\n",
    "x = Dense(n_classes, activation='softmax')(x)\n",
    "model = Model(input_tensor, x)"
   ]
  },
  {
   "cell_type": "code",
   "execution_count": 6,
   "metadata": {
    "ExecuteTime": {
     "end_time": "2018-08-02T15:21:34.864104Z",
     "start_time": "2018-08-02T15:20:35.324028Z"
    }
   },
   "outputs": [],
   "source": [
    "model_parallel = multi_gpu_model(model, n_gpus)"
   ]
  },
  {
   "cell_type": "markdown",
   "metadata": {},
   "source": [
    "# 预测结果"
   ]
  },
  {
   "cell_type": "code",
   "execution_count": 7,
   "metadata": {
    "ExecuteTime": {
     "end_time": "2018-08-02T15:21:34.880241Z",
     "start_time": "2018-08-02T15:21:34.867625Z"
    }
   },
   "outputs": [],
   "source": [
    "def predict(fname_model):\n",
    "    model.load_weights(fname_model)\n",
    "    y_pred = model_parallel.predict_generator(gen_test, verbose=1, workers=multiprocessing.cpu_count())\n",
    "    \n",
    "    y_pred2 = 1 - y_pred[:,0]\n",
    "    \n",
    "    plt.figure()\n",
    "    plt.hist(y_pred2);\n",
    "    \n",
    "    # 直接 clip 法\n",
    "    y_pred4 = np.round(y_pred2, 6).clip(1e-6, 1-1e-6)\n",
    "    \n",
    "    # 排序法\n",
    "    table = np.linspace(0.1, 0.9, num=y_pred2.shape[0])\n",
    "    index = np.argsort(y_pred2)\n",
    "    y_pred3 = np.zeros(y_pred2.shape)\n",
    "    y_pred3[index] = table\n",
    "    \n",
    "    fname_model2 = fname_model[fname_model.rfind('/')+1:]\n",
    "    with open(f'outs/pred_{fname_model2}_3.csv', 'w') as f:\n",
    "        f.write('filename,probability\\n')\n",
    "        for fname, value in zip(gen_test.filenames, y_pred3):\n",
    "            fname = fname[fname.rfind('/')+1:]\n",
    "            f.write(f'{fname},{value:.6f}\\n')\n",
    "\n",
    "    with open(f'outs/pred_{fname_model2}_4.csv', 'w') as f:\n",
    "        f.write('filename,probability\\n')\n",
    "        for fname, value in zip(gen_test.filenames, y_pred4):\n",
    "            fname = fname[fname.rfind('/')+1:]\n",
    "            f.write(f'{fname},{value:.6f}\\n')\n",
    "    return y_pred"
   ]
  },
  {
   "cell_type": "code",
   "execution_count": 8,
   "metadata": {
    "ExecuteTime": {
     "end_time": "2018-08-02T15:24:38.285015Z",
     "start_time": "2018-08-02T15:21:34.882623Z"
    }
   },
   "outputs": [
    {
     "name": "stdout",
     "output_type": "stream",
     "text": [
      "83/83 [==============================] - 61s 738ms/step\n",
      "83/83 [==============================] - 50s 599ms/step\n",
      "83/83 [==============================] - 51s 617ms/step\n"
     ]
    },
    {
     "data": {
      "image/png": "[encoded data removed]",
      "text/plain": [
       "<Figure size 432x288 with 1 Axes>"
      ]
     },
     "metadata": {},
     "output_type": "display_data"
    },
    {
     "data": {
      "image/png": "[encoded data removed]",
      "text/plain": [
       "<Figure size 432x288 with 1 Axes>"
      ]
     },
     "metadata": {},
     "output_type": "display_data"
    },
    {
     "data": {
      "image/png": "[encoded data removed]",
      "text/plain": [
       "<Figure size 432x288 with 1 Axes>"
      ]
     },
     "metadata": {},
     "output_type": "display_data"
    }
   ],
   "source": [
    "# for _, fname_model in a:\n",
    "#     print(fname_model)\n",
    "#     predict(fname_model)\n",
    "y_pred = predict('models/irv2_0731-0.001001-120-0.962335.h5')\n",
    "y_pred = predict('models/irv2_0802-0.001000-30-0.954866.h5')\n",
    "y_pred = predict('models/irv2_0802_4e-5-0.001000-42-0.961481.h5')"
   ]
  },
  {
   "cell_type": "code",
   "execution_count": 9,
   "metadata": {
    "ExecuteTime": {
     "end_time": "2018-08-02T15:39:57.894368Z",
     "start_time": "2018-08-02T15:39:07.336999Z"
    }
   },
   "outputs": [
    {
     "name": "stdout",
     "output_type": "stream",
     "text": [
      "83/83 [==============================] - 49s 587ms/step\n"
     ]
    },
    {
     "data": {
      "text/plain": [
       "array([[7.4933041e-33, 2.3009214e-29, 3.8653522e-26, ..., 1.9093799e-29,\n",
       "        1.2314578e-11, 1.8765956e-15],\n",
       "       [1.0780556e-02, 2.6442364e-02, 1.9071960e-03, ..., 9.7955996e-03,\n",
       "        9.4007319e-03, 8.4002954e-01],\n",
       "       [9.6854055e-01, 4.0805647e-03, 1.4781624e-04, ..., 1.3696626e-03,\n",
       "        5.2025565e-04, 1.5271963e-02],\n",
       "       ...,\n",
       "       [9.7583508e-01, 5.9375614e-03, 7.0625643e-04, ..., 2.1436852e-03,\n",
       "        9.1954198e-04, 5.4956279e-03],\n",
       "       [9.8528522e-01, 2.6580966e-03, 6.7559781e-04, ..., 2.1084684e-03,\n",
       "        5.5145338e-04, 2.9108757e-03],\n",
       "       [9.7906369e-01, 3.6212730e-03, 7.2775735e-04, ..., 1.7340197e-03,\n",
       "        9.2163379e-04, 5.7962309e-03]], dtype=float32)"
      ]
     },
     "execution_count": 9,
     "metadata": {},
     "output_type": "execute_result"
    },
    {
     "data": {
      "image/png": "[encoded data removed]",
      "text/plain": [
       "<Figure size 432x288 with 1 Axes>"
      ]
     },
     "metadata": {},
     "output_type": "display_data"
    }
   ],
   "source": [
    "predict('models/irv2_0802_4e-5-0.000100-60-0.959667.h5')"
   ]
  },
  {
   "cell_type": "code",
   "execution_count": null,
   "metadata": {},
   "outputs": [],
   "source": []
  }
 ],
 "metadata": {
  "kernelspec": {
   "display_name": "Python 3",
   "language": "python",
   "name": "python3"
  },
  "language_info": {
   "codemirror_mode": {
    "name": "ipython",
    "version": 3
   },
   "file_extension": ".py",
   "mimetype": "text/x-python",
   "name": "python",
   "nbconvert_exporter": "python",
   "pygments_lexer": "ipython3",
   "version": "3.6.5"
  }
 },
 "nbformat": 4,
 "nbformat_minor": 2
}
