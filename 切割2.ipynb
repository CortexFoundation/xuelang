{
 "cells": [
  {
   "cell_type": "code",
   "execution_count": 1,
   "metadata": {
    "ExecuteTime": {
     "end_time": "2018-07-25T18:12:45.582222Z",
     "start_time": "2018-07-25T18:12:45.194282Z"
    }
   },
   "outputs": [],
   "source": [
    "from glob import glob\n",
    "import cv2\n",
    "\n",
    "from tqdm import tqdm\n",
    "\n",
    "import math\n",
    "from IPython.display import *\n",
    "import random\n",
    "\n",
    "import os\n",
    "import multiprocessing\n",
    "from multiprocessing.dummy import Pool\n",
    "import xml.etree.ElementTree as ET\n",
    "from sklearn.model_selection import train_test_split\n",
    "from collections import Counter\n",
    "from pprint import pprint"
   ]
  },
  {
   "cell_type": "code",
   "execution_count": 2,
   "metadata": {
    "ExecuteTime": {
     "end_time": "2018-07-25T18:12:45.588687Z",
     "start_time": "2018-07-25T18:12:45.585165Z"
    }
   },
   "outputs": [],
   "source": [
    "def show(img):\n",
    "    cv2.imwrite('test.jpg', img)\n",
    "    display(Image('test.jpg'))"
   ]
  },
  {
   "cell_type": "code",
   "execution_count": 3,
   "metadata": {
    "ExecuteTime": {
     "end_time": "2018-07-25T18:12:45.622001Z",
     "start_time": "2018-07-25T18:12:45.591720Z"
    }
   },
   "outputs": [
    {
     "name": "stdout",
     "output_type": "stream",
     "text": [
      "['正常', '吊经', '擦洞', '跳花', '毛洞', '织稀', '扎洞', '缺经', '毛斑', '其他']\n"
     ]
    }
   ],
   "source": [
    "labels = [x.split('/')[-2] for x in glob('/home/ypw/data/xuelang/xuelang_round1_train*/*/*.jpg')]\n",
    "counter = Counter(labels)\n",
    "counter = counter.most_common()\n",
    "\n",
    "classes = [x[0] for x in counter if x[1] > 30]\n",
    "classes.append('其他')\n",
    "pprint(classes)"
   ]
  },
  {
   "cell_type": "code",
   "execution_count": 4,
   "metadata": {
    "ExecuteTime": {
     "end_time": "2018-07-25T18:12:49.919356Z",
     "start_time": "2018-07-25T18:12:45.624485Z"
    }
   },
   "outputs": [],
   "source": [
    "!rm -rf crop_train crop_valid crop_valid_64"
   ]
  },
  {
   "cell_type": "code",
   "execution_count": 5,
   "metadata": {
    "ExecuteTime": {
     "end_time": "2018-07-25T18:12:49.935963Z",
     "start_time": "2018-07-25T18:12:49.926785Z"
    }
   },
   "outputs": [],
   "source": [
    "for c in classes:\n",
    "    os.makedirs(f'crop_train/{c}')\n",
    "    os.makedirs(f'crop_valid/{c}')\n",
    "    os.makedirs(f'crop_valid_64/{c}')"
   ]
  },
  {
   "cell_type": "code",
   "execution_count": 6,
   "metadata": {
    "ExecuteTime": {
     "end_time": "2018-07-25T18:12:50.002086Z",
     "start_time": "2018-07-25T18:12:49.938854Z"
    },
    "code_folding": []
   },
   "outputs": [],
   "source": [
    "def crop_normal(fname, path, size, stride):\n",
    "    img = cv2.imread(fname)\n",
    "    height, width, _ = img.shape\n",
    "    \n",
    "    for x1 in range(0, width - size + stride, stride):\n",
    "        for y1 in range(0, height - size + stride, stride):\n",
    "            x2 = x1 + size\n",
    "            y2 = y1 + size\n",
    "            \n",
    "            if x1 < 0:\n",
    "                x1 = 0\n",
    "                x2 = size\n",
    "\n",
    "            if x2 > width:\n",
    "                x1 = width - size\n",
    "                x2 = width\n",
    "\n",
    "            if y1 < 0:\n",
    "                y1 = 0\n",
    "                y2 = size\n",
    "\n",
    "            if y2 > height:\n",
    "                y1 = height - size\n",
    "                y2 = height\n",
    "                \n",
    "            crop_img = img[y1:y2, x1:x2]\n",
    "            img_fname = fname[fname.rfind('/')+1:].replace('.jpg', '')\n",
    "            cv2.imwrite(f'{path}/{img_fname}_{x1}_{y1}.png', crop_img)"
   ]
  },
  {
   "cell_type": "code",
   "execution_count": 7,
   "metadata": {
    "ExecuteTime": {
     "end_time": "2018-07-25T18:12:50.024224Z",
     "start_time": "2018-07-25T18:12:50.005221Z"
    },
    "code_folding": [
     0
    ]
   },
   "outputs": [],
   "source": [
    "def crop_abnormal(fname, path, size, stride):\n",
    "    img = cv2.imread(fname)\n",
    "    height, width, _ = img.shape\n",
    "    half_size = int(size/2)\n",
    "\n",
    "    xml_fname = fname.replace('.jpg', '.xml')\n",
    "    tree = ET.parse(xml_fname)\n",
    "    img_fname = fname[fname.rfind('/')+1:].replace('.jpg', '')\n",
    "    img = cv2.imread(fname)\n",
    "\n",
    "    img_vis = img.copy()\n",
    "\n",
    "    for i, ob in enumerate(tree.findall('object')):\n",
    "\n",
    "        bbox = ob.find('bndbox')\n",
    "        tagname = ob.find('name').text\n",
    "\n",
    "        x1, y1, x2, y2 = [int(x.text) for x in bbox.getchildren()]\n",
    "        cv2.rectangle(img_vis, (x1, y1), (x2, y2), color=(0, 0, 255), thickness=3)\n",
    "\n",
    "        x_len = x2 - x1\n",
    "        y_len = y2 - y1\n",
    "\n",
    "        center_x = int((x2 - x1)/2 + x1)\n",
    "        center_y = int((y2 - y1)/2 + y1)\n",
    "\n",
    "        cv2.circle(img_vis, (center_x,center_y), color=(0, 0, 255),radius=5, thickness=5) \n",
    "\n",
    "        # n单方向可切割个数，实际切割个数是2n+1\n",
    "        x_n = math.ceil((x_len/2 - half_size)/size)\n",
    "        y_n = math.ceil((y_len/2 - half_size)/size)\n",
    "\n",
    "        x1_crop_init = center_x - half_size - x_n*size\n",
    "        y1_crop_init = center_y - half_size - y_n*size\n",
    "\n",
    "        for j in range(2*x_n+1):\n",
    "            x1_crop = x1_crop_init + j*size\n",
    "            x2_crop = x1_crop + size\n",
    "\n",
    "            for k in range(2*y_n+1):\n",
    "                y1_crop = y1_crop_init + k*size \n",
    "                y2_crop = y1_crop + size\n",
    "\n",
    "                if x1_crop < 0:\n",
    "                    x1_crop = 0\n",
    "                    x2_crop = size\n",
    "\n",
    "                if x2_crop > width:\n",
    "                    x1_crop = width - size\n",
    "                    x2_crop = width\n",
    "\n",
    "                if y1_crop < 0:\n",
    "                    y1_crop = 0\n",
    "                    y2_crop = size\n",
    "\n",
    "                if y2_crop > height:\n",
    "                    y1_crop = height - size\n",
    "                    y2_crop = height\n",
    "\n",
    "                cv2.rectangle(img_vis, (x1_crop, y1_crop), (x2_crop, y2_crop), color=(0, 255, 0), thickness=3)\n",
    "\n",
    "                crop_img = img[y1_crop:y2_crop, x1_crop:x2_crop]\n",
    "                img_fname = fname[fname.rfind('/')+1:].replace('.jpg', '')\n",
    "                cv2.imwrite(f'{path}/{img_fname}_{x1_crop}_{y1_crop}.png', crop_img)"
   ]
  },
  {
   "cell_type": "code",
   "execution_count": 8,
   "metadata": {
    "ExecuteTime": {
     "end_time": "2018-07-25T18:12:50.034553Z",
     "start_time": "2018-07-25T18:12:50.027645Z"
    }
   },
   "outputs": [],
   "source": [
    "def f(fnames, crop_function, path, size=334, stride=64):\n",
    "    # 包装函数\n",
    "    def ff(fname):\n",
    "        label = fname.split('/')[-2]\n",
    "        if label not in classes:\n",
    "            label = '其他'\n",
    "        crop_function(fname, path=f'{path}/{label}', size=size, stride=stride)\n",
    "\n",
    "    with Pool(multiprocessing.cpu_count()) as pool:\n",
    "        with tqdm(pool.imap_unordered(ff, fnames), total=len(fnames)) as pbar:\n",
    "            for _ in pbar:\n",
    "                pass"
   ]
  },
  {
   "cell_type": "code",
   "execution_count": 9,
   "metadata": {
    "ExecuteTime": {
     "end_time": "2018-07-25T18:15:28.575951Z",
     "start_time": "2018-07-25T18:12:50.037655Z"
    }
   },
   "outputs": [
    {
     "name": "stderr",
     "output_type": "stream",
     "text": [
      "100%|██████████| 1184/1184 [00:18<00:00, 64.27it/s]\n",
      "100%|██████████| 635/635 [00:04<00:00, 149.61it/s]\n",
      "100%|██████████| 132/132 [01:29<00:00,  1.48it/s]\n",
      "100%|██████████| 71/71 [00:41<00:00,  1.69it/s]\n",
      "100%|██████████| 132/132 [00:02<00:00, 55.38it/s]\n",
      "100%|██████████| 71/71 [00:01<00:00, 48.50it/s]\n"
     ]
    }
   ],
   "source": [
    "fnames = glob('/home/ypw/data/xuelang/xuelang_round1_train*/*/*.jpg')\n",
    "normal = glob('/home/ypw/data/xuelang/xuelang_round1_train*/正常/*.jpg')\n",
    "abnormal = list(set(fnames) - set(normal))\n",
    "\n",
    "train_normal, valid_normal = train_test_split(normal, test_size=0.1, random_state=20180726)\n",
    "train_abnormal, valid_abnormal = train_test_split(abnormal, test_size=0.1, random_state=20180726)\n",
    "\n",
    "width = 334\n",
    "\n",
    "f(train_normal, crop_function=crop_normal, path='crop_train', size=width, stride=width)\n",
    "f(train_abnormal, crop_function=crop_abnormal, path='crop_train', size=width)\n",
    "\n",
    "f(valid_normal, crop_function=crop_normal, path='crop_valid_64', size=width, stride=64)\n",
    "f(valid_abnormal, crop_function=crop_normal, path='crop_valid_64', size=width, stride=64)\n",
    "\n",
    "f(valid_normal, crop_function=crop_normal, path='crop_valid', size=width, stride=width)\n",
    "f(valid_abnormal, crop_function=crop_normal, path='crop_valid', size=width, stride=width)"
   ]
  },
  {
   "cell_type": "code",
   "execution_count": 10,
   "metadata": {
    "ExecuteTime": {
     "end_time": "2018-07-25T18:15:29.028042Z",
     "start_time": "2018-07-25T18:15:28.580046Z"
    }
   },
   "outputs": [
    {
     "data": {
      "text/plain": [
       "(59688, 56832, 2856, '4.78%')"
      ]
     },
     "execution_count": 10,
     "metadata": {},
     "output_type": "execute_result"
    }
   ],
   "source": [
    "n1 = len(glob('crop_train/*/*.png'))\n",
    "n2 = len(glob('crop_train/正常/*.png'))\n",
    "n1, n2, n1-n2, '%.2f%%'%((n1-n2)/n1*100)"
   ]
  },
  {
   "cell_type": "code",
   "execution_count": 11,
   "metadata": {
    "ExecuteTime": {
     "end_time": "2018-07-25T18:15:30.106769Z",
     "start_time": "2018-07-25T18:15:29.029740Z"
    }
   },
   "outputs": [
    {
     "data": {
      "text/plain": [
       "9744"
      ]
     },
     "execution_count": 11,
     "metadata": {},
     "output_type": "execute_result"
    }
   ],
   "source": [
    "len(glob('crop_valid/*/*.png'))"
   ]
  },
  {
   "cell_type": "code",
   "execution_count": 12,
   "metadata": {
    "ExecuteTime": {
     "end_time": "2018-07-25T18:15:32.125744Z",
     "start_time": "2018-07-25T18:15:30.110164Z"
    }
   },
   "outputs": [
    {
     "data": {
      "text/plain": [
       "190008"
      ]
     },
     "execution_count": 12,
     "metadata": {},
     "output_type": "execute_result"
    }
   ],
   "source": [
    "len(glob('crop_valid_64/*/*.png'))"
   ]
  },
  {
   "cell_type": "code",
   "execution_count": null,
   "metadata": {},
   "outputs": [],
   "source": []
  }
 ],
 "metadata": {
  "kernelspec": {
   "display_name": "Python 3",
   "language": "python",
   "name": "python3"
  },
  "language_info": {
   "codemirror_mode": {
    "name": "ipython",
    "version": 3
   },
   "file_extension": ".py",
   "mimetype": "text/x-python",
   "name": "python",
   "nbconvert_exporter": "python",
   "pygments_lexer": "ipython3",
   "version": "3.6.5"
  }
 },
 "nbformat": 4,
 "nbformat_minor": 2
}
