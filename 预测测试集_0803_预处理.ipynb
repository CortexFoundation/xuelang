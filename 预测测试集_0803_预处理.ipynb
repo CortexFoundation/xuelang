{
 "cells": [
  {
   "cell_type": "code",
   "execution_count": 1,
   "metadata": {
    "ExecuteTime": {
     "end_time": "2018-08-03T13:41:35.463128Z",
     "start_time": "2018-08-03T13:41:33.716531Z"
    }
   },
   "outputs": [
    {
     "name": "stderr",
     "output_type": "stream",
     "text": [
      "Using TensorFlow backend.\n"
     ]
    }
   ],
   "source": [
    "from keras.models import *\n",
    "from keras.layers import *\n",
    "from keras.callbacks import *\n",
    "from keras.optimizers import *\n",
    "from keras.applications import *\n",
    "from keras.applications import imagenet_utils\n",
    "from keras.preprocessing.image import *\n",
    "from keras.utils import multi_gpu_model\n",
    "\n",
    "from IPython.display import SVG\n",
    "from keras.utils.vis_utils import model_to_dot\n",
    "\n",
    "from glob import glob\n",
    "from tqdm import tqdm\n",
    "import numpy as np\n",
    "import cv2\n",
    "import matplotlib.pyplot as plt\n",
    "import matplotlib.image as mpimg\n",
    "\n",
    "from sklearn.metrics import *\n",
    "from collections import Counter\n",
    "\n",
    "import multiprocessing\n",
    "from multiprocessing.dummy import Pool\n",
    "from pprint import pprint\n",
    "\n",
    "import os\n",
    "os.environ['CUDA_VISIBLE_DEVICES'] = '0,1'\n",
    "n_gpus = len(os.environ['CUDA_VISIBLE_DEVICES'].split(','))"
   ]
  },
  {
   "cell_type": "code",
   "execution_count": 2,
   "metadata": {
    "ExecuteTime": {
     "end_time": "2018-08-03T13:41:35.468307Z",
     "start_time": "2018-08-03T13:41:35.464875Z"
    }
   },
   "outputs": [],
   "source": [
    "batch_size = 4 * n_gpus\n",
    "model_name = ''\n",
    "preprocess_func = inception_resnet_v2.preprocess_input\n",
    "MODEL = InceptionResNetV2\n",
    "\n",
    "f = 2.5\n",
    "width = int(2560 / f)\n",
    "height = int(1920 / f)\n",
    "classes = ['正常', '吊经', '擦洞', '跳花', '毛洞', '织稀', '扎洞', '缺经', '毛斑', '其他']\n",
    "n_classes = len(classes)"
   ]
  },
  {
   "cell_type": "code",
   "execution_count": 18,
   "metadata": {
    "ExecuteTime": {
     "end_time": "2018-08-03T14:03:12.351843Z",
     "start_time": "2018-08-03T14:03:12.222392Z"
    }
   },
   "outputs": [
    {
     "name": "stdout",
     "output_type": "stream",
     "text": [
      "Found 647 images belonging to 1 classes.\n"
     ]
    }
   ],
   "source": [
    "idg = ImageDataGenerator(horizontal_flip=True,\n",
    "                         rotation_range=5,\n",
    "                         zoom_range=0.1)\n",
    "gen_test = idg.flow_from_directory('testb', target_size=(height, width), shuffle=False, \n",
    "                                   interpolation='lanczos', class_mode=None, batch_size=batch_size)"
   ]
  },
  {
   "cell_type": "markdown",
   "metadata": {},
   "source": [
    "# 按 val_auc 排序"
   ]
  },
  {
   "cell_type": "code",
   "execution_count": 4,
   "metadata": {
    "ExecuteTime": {
     "end_time": "2018-08-03T13:41:37.108005Z",
     "start_time": "2018-08-03T13:41:37.089403Z"
    },
    "scrolled": false
   },
   "outputs": [
    {
     "data": {
      "text/plain": [
       "[('0.962335', 'models/irv2_0731-0.001001-120-0.962335.h5'),\n",
       " ('0.954866', 'models/irv2_0802-0.001000-30-0.954866.h5'),\n",
       " ('0.954225', 'models/irv2_0801-0.000100-60-0.954225.h5'),\n",
       " ('0.937116',\n",
       "  'models/InceptionResNetV2_0803_f3.0_reg4e-05-0.000100-67-0.937116.h5'),\n",
       " ('0.936927',\n",
       "  'models/InceptionResNetV2_0803_f2.5_reg4e-05-0.000100-58-0.936927.h5'),\n",
       " ('0.935714',\n",
       "  'models/InceptionResNetV2_0803_f2.5_reg4e-05-0.000100-67-0.935714.h5'),\n",
       " ('0.935391',\n",
       "  'models/InceptionResNetV2_0803_f2.5_reg4e-05-0.000100-59-0.935391.h5'),\n",
       " ('0.934825',\n",
       "  'models/InceptionResNetV2_0803_f2.5_reg4e-05-0.001000-39-0.934825.h5'),\n",
       " ('0.934690',\n",
       "  'models/InceptionResNetV2_0803_f2.5_reg4e-05-0.000100-68-0.934690.h5'),\n",
       " ('0.934557', 'models/irv2_0802_f3.75-0.000100-56-0.934557.h5'),\n",
       " ('0.934420',\n",
       "  'models/InceptionResNetV2_0803_f2.5_reg4e-05-0.001000-31-0.934420.h5'),\n",
       " ('0.934340',\n",
       "  'models/InceptionResNetV2_0803_f2.5_reg4e-05-0.000100-66-0.934340.h5'),\n",
       " ('0.934219', 'models/irv2_0802-0.001000-29-0.934219.h5'),\n",
       " ('0.933935',\n",
       "  'models/InceptionResNetV2_0803_f2.5_reg4e-05-0.000100-57-0.933935.h5'),\n",
       " ('0.933639',\n",
       "  'models/InceptionResNetV2_0803_f2.5_reg4e-05-0.000100-61-0.933639.h5'),\n",
       " ('0.933477',\n",
       "  'models/InceptionResNetV2_0803_f2.5_reg4e-05-0.000100-60-0.933477.h5'),\n",
       " ('0.933369',\n",
       "  'models/InceptionResNetV2_0803_f2.5_reg4e-05-0.000100-62-0.933369.h5'),\n",
       " ('0.933288',\n",
       "  'models/InceptionResNetV2_0803_f2.5_reg4e-05-0.001000-49-0.933288.h5'),\n",
       " ('0.933127',\n",
       "  'models/InceptionResNetV2_0803_f3.0_reg4e-05-0.000100-68-0.933127.h5'),\n",
       " ('0.932790',\n",
       "  'models/InceptionResNetV2_0803_f3.0_reg4e-05-0.000100-58-0.932790.h5'),\n",
       " ('0.932695', 'models/irv2_0802_f2.5-0.001000-43-0.932695.h5'),\n",
       " ('0.932561',\n",
       "  'models/InceptionResNetV2_0803_f2.5_reg4e-05-0.001000-34-0.932561.h5'),\n",
       " ('0.932458', 'models/irv2_0802-0.001000-32-0.932458.h5'),\n",
       " ('0.932102',\n",
       "  'models/InceptionResNetV2_0803_f3.0_reg4e-05-0.000100-59-0.932102.h5'),\n",
       " ('0.932102',\n",
       "  'models/InceptionResNetV2_0803_f2.5_reg4e-05-0.000100-70-0.932102.h5'),\n",
       " ('0.931860',\n",
       "  'models/InceptionResNetV2_0803_f2.5_reg4e-05-0.000100-69-0.931860.h5'),\n",
       " ('0.931779',\n",
       "  'models/InceptionResNetV2_0803_f2.5_reg4e-05-0.000100-53-0.931779.h5'),\n",
       " ('0.931375',\n",
       "  'models/InceptionResNetV2_0803_f3.0_reg4e-05-0.001000-42-0.931375.h5'),\n",
       " ('0.931240',\n",
       "  'models/InceptionResNetV2_0803_f2.5_reg4e-05-0.000100-65-0.931240.h5'),\n",
       " ('0.931213', 'models/irv2_0802_f2.5-0.001000-35-0.931213.h5'),\n",
       " ('0.931186',\n",
       "  'models/InceptionResNetV2_0803_f3.0_reg4e-05-0.000100-62-0.931186.h5'),\n",
       " ('0.931105',\n",
       "  'models/InceptionResNetV2_0803_f3.0_reg4e-05-0.000100-66-0.931105.h5'),\n",
       " ('0.930512',\n",
       "  'models/InceptionResNetV2_0803_f3.0_reg4e-05-0.001000-44-0.930512.h5'),\n",
       " ('0.930458',\n",
       "  'models/InceptionResNetV2_0803_f2.5_reg4e-05-0.000100-63-0.930458.h5'),\n",
       " ('0.930445',\n",
       "  'models/InceptionResNetV2_0803_f2.5_reg4e-05-0.000100-55-0.930445.h5'),\n",
       " ('0.930431',\n",
       "  'models/InceptionResNetV2_0803_f2.5_reg4e-05-0.001000-50-0.930431.h5'),\n",
       " ('0.930377',\n",
       "  'models/InceptionResNetV2_0803_f2.5_reg4e-05-0.000100-64-0.930377.h5'),\n",
       " ('0.930350',\n",
       "  'models/InceptionResNetV2_0803_f3.0_reg4e-05-0.000100-69-0.930350.h5'),\n",
       " ('0.930296',\n",
       "  'models/InceptionResNetV2_0803_f3.0_reg4e-05-0.001000-40-0.930296.h5'),\n",
       " ('0.930270',\n",
       "  'models/InceptionResNetV2_0803_f3.0_reg4e-05-0.000100-61-0.930270.h5'),\n",
       " ('0.930054',\n",
       "  'models/InceptionResNetV2_0803_f2.5_reg4e-05-0.001000-37-0.930054.h5'),\n",
       " ('0.930027',\n",
       "  'models/InceptionResNetV2_0803_f3.0_reg4e-05-0.000100-60-0.930027.h5'),\n",
       " ('0.929757',\n",
       "  'models/InceptionResNetV2_0803_f3.0_reg4e-05-0.000100-70-0.929757.h5'),\n",
       " ('0.929623',\n",
       "  'models/InceptionResNetV2_0803_f3.0_reg4e-05-0.000100-64-0.929623.h5'),\n",
       " ('0.929434',\n",
       "  'models/InceptionResNetV2_0803_f2.5_reg4e-05-0.000100-56-0.929434.h5'),\n",
       " ('0.929353',\n",
       "  'models/InceptionResNetV2_0803_f3.0_reg4e-05-0.000100-52-0.929353.h5'),\n",
       " ('0.929353',\n",
       "  'models/InceptionResNetV2_0803_f3.0_reg4e-05-0.001000-38-0.929353.h5'),\n",
       " ('0.929257', 'models/irv2_0802-0.000100-59-0.929257.h5'),\n",
       " ('0.929218',\n",
       "  'models/InceptionResNetV2_0803_f3.0_reg4e-05-0.000100-63-0.929218.h5'),\n",
       " ('0.929084',\n",
       "  'models/InceptionResNetV2_0803_f3.0_reg4e-05-0.000100-57-0.929084.h5')]"
      ]
     },
     "execution_count": 4,
     "metadata": {},
     "output_type": "execute_result"
    }
   ],
   "source": [
    "a = [(x[x.rfind('-')+1:x.rfind('.')], x) for x in glob('models/*.h5')]\n",
    "a = sorted(a, key=lambda x:x[0], reverse=True)[:50]\n",
    "a"
   ]
  },
  {
   "cell_type": "markdown",
   "metadata": {},
   "source": [
    "# 构建模型"
   ]
  },
  {
   "cell_type": "code",
   "execution_count": 5,
   "metadata": {
    "ExecuteTime": {
     "end_time": "2018-08-03T13:42:24.983043Z",
     "start_time": "2018-08-03T13:41:38.749700Z"
    }
   },
   "outputs": [],
   "source": [
    "base_model = MODEL(include_top=False, weights=None)\n",
    "input_tensor = Input((None, None, 3))\n",
    "x = Lambda(preprocess_func)(input_tensor)\n",
    "x = base_model(x)\n",
    "x = GlobalAvgPool2D()(x)\n",
    "x = Dense(n_classes, activation='softmax')(x)\n",
    "model = Model(input_tensor, x)"
   ]
  },
  {
   "cell_type": "code",
   "execution_count": 6,
   "metadata": {
    "ExecuteTime": {
     "end_time": "2018-08-03T13:43:35.702131Z",
     "start_time": "2018-08-03T13:42:24.985121Z"
    }
   },
   "outputs": [],
   "source": [
    "model_parallel = multi_gpu_model(model, n_gpus)"
   ]
  },
  {
   "cell_type": "markdown",
   "metadata": {},
   "source": [
    "# 预测结果"
   ]
  },
  {
   "cell_type": "code",
   "execution_count": 7,
   "metadata": {
    "ExecuteTime": {
     "end_time": "2018-08-03T11:41:09.359645Z",
     "start_time": "2018-08-03T11:41:09.354050Z"
    }
   },
   "outputs": [],
   "source": [
    "def predict(fname_model):\n",
    "    model.load_weights(fname_model)\n",
    "    y_pred = model_parallel.predict_generator(gen_test, verbose=1, workers=multiprocessing.cpu_count())\n",
    "    \n",
    "    y_pred2 = 1 - y_pred[:,0]\n",
    "    \n",
    "    plt.figure()\n",
    "    plt.hist(y_pred2);\n",
    "    \n",
    "    # 直接 clip 法\n",
    "    y_pred4 = np.round(y_pred2, 6).clip(1e-6, 1-1e-6)\n",
    "    \n",
    "    # 排序法\n",
    "    table = np.linspace(0.1, 0.9, num=y_pred2.shape[0])\n",
    "    index = np.argsort(y_pred2)\n",
    "    y_pred3 = np.zeros(y_pred2.shape)\n",
    "    y_pred3[index] = table\n",
    "    \n",
    "    fname_model2 = fname_model[fname_model.rfind('/')+1:]\n",
    "    with open(f'outs/pred_{fname_model2}_3.csv', 'w') as f:\n",
    "        f.write('filename,probability\\n')\n",
    "        for fname, value in zip(gen_test.filenames, y_pred3):\n",
    "            fname = fname[fname.rfind('/')+1:]\n",
    "            f.write(f'{fname},{value:.6f}\\n')\n",
    "\n",
    "    with open(f'outs/pred_{fname_model2}_4.csv', 'w') as f:\n",
    "        f.write('filename,probability\\n')\n",
    "        for fname, value in zip(gen_test.filenames, y_pred4):\n",
    "            fname = fname[fname.rfind('/')+1:]\n",
    "            f.write(f'{fname},{value:.6f}\\n')\n",
    "    return y_pred"
   ]
  },
  {
   "cell_type": "markdown",
   "metadata": {},
   "source": [
    "# f2.5"
   ]
  },
  {
   "cell_type": "code",
   "execution_count": 24,
   "metadata": {
    "ExecuteTime": {
     "end_time": "2018-08-03T14:22:15.321318Z",
     "start_time": "2018-08-03T14:17:29.307618Z"
    }
   },
   "outputs": [
    {
     "name": "stdout",
     "output_type": "stream",
     "text": [
      "Found 647 images belonging to 1 classes.\n",
      "81/81 [==============================] - 35s 437ms/step\n",
      "81/81 [==============================] - 36s 445ms/step\n",
      "81/81 [==============================] - 35s 436ms/step\n",
      "81/81 [==============================] - 36s 439ms/step\n",
      "81/81 [==============================] - 36s 447ms/step\n",
      "81/81 [==============================] - 36s 438ms/step\n",
      "81/81 [==============================] - 36s 438ms/step\n",
      "81/81 [==============================] - 35s 433ms/step\n"
     ]
    },
    {
     "data": {
      "image/png": "[encoded data removed]",
      "text/plain": [
       "<Figure size 432x288 with 1 Axes>"
      ]
     },
     "metadata": {},
     "output_type": "display_data"
    }
   ],
   "source": [
    "f = 2.5\n",
    "width = int(2560 / f)\n",
    "height = int(1920 / f)\n",
    "\n",
    "fname_model = 'models/InceptionResNetV2_0803_f2.5_reg4e-05-0.000100-70-0.932102.h5'\n",
    "model.load_weights(fname_model)\n",
    "\n",
    "idg = ImageDataGenerator(horizontal_flip=True,\n",
    "                         rotation_range=5,\n",
    "                         zoom_range=0.1)\n",
    "gen_test = idg.flow_from_directory('testb', target_size=(height, width), shuffle=False, \n",
    "                                    interpolation='lanczos', batch_size=batch_size)\n",
    "y_preds = [model_parallel.predict_generator(gen_test, verbose=1, \n",
    "                                            workers=multiprocessing.cpu_count()) for i in range(8)]\n",
    "\n",
    "y_pred = np.mean(y_preds, axis=0)\n",
    "y_pred2 = 1 - y_pred[:,0]\n",
    "plt.figure()\n",
    "plt.hist(y_pred2);\n",
    "\n",
    "# 排序法\n",
    "table = np.linspace(0.1, 0.9, num=y_pred2.shape[0])\n",
    "index = np.argsort(y_pred2)\n",
    "y_pred3 = np.zeros(y_pred2.shape)\n",
    "y_pred3[index] = table\n",
    "\n",
    "fname_model2 = fname_model[fname_model.rfind('/')+1:]\n",
    "with open(f'outs/pred_{fname_model2}_5.csv', 'w') as f:\n",
    "    f.write('filename,probability\\n')\n",
    "    for fname, value in zip(gen_test.filenames, y_pred3):\n",
    "        fname = fname[fname.rfind('/')+1:]\n",
    "        f.write(f'{fname},{value:.6f}\\n')"
   ]
  },
  {
   "cell_type": "markdown",
   "metadata": {},
   "source": [
    "# f3"
   ]
  },
  {
   "cell_type": "code",
   "execution_count": 25,
   "metadata": {
    "ExecuteTime": {
     "end_time": "2018-08-03T14:26:05.553140Z",
     "start_time": "2018-08-03T14:22:15.326015Z"
    }
   },
   "outputs": [
    {
     "name": "stdout",
     "output_type": "stream",
     "text": [
      "Found 647 images belonging to 1 classes.\n",
      "81/81 [==============================] - 28s 349ms/step\n",
      "81/81 [==============================] - 28s 350ms/step\n",
      "81/81 [==============================] - 28s 347ms/step\n",
      "81/81 [==============================] - 29s 357ms/step\n",
      "81/81 [==============================] - 29s 359ms/step\n",
      "81/81 [==============================] - 29s 354ms/step\n",
      "81/81 [==============================] - 28s 349ms/step\n",
      "81/81 [==============================] - 29s 358ms/step\n"
     ]
    },
    {
     "data": {
      "image/png": "[encoded data removed]",
      "text/plain": [
       "<Figure size 432x288 with 1 Axes>"
      ]
     },
     "metadata": {},
     "output_type": "display_data"
    }
   ],
   "source": [
    "f = 3\n",
    "width = int(2560 / f)\n",
    "height = int(1920 / f)\n",
    "\n",
    "fname_model = 'models/InceptionResNetV2_0803_f3.0_reg4e-05-0.000100-70-0.929757.h5'\n",
    "model.load_weights(fname_model)\n",
    "\n",
    "idg = ImageDataGenerator(horizontal_flip=True,\n",
    "                         rotation_range=5,\n",
    "                         zoom_range=0.1)\n",
    "gen_test = idg.flow_from_directory('testb', target_size=(height, width), shuffle=False, \n",
    "                                    interpolation='lanczos', batch_size=batch_size)\n",
    "y_preds2 = [model_parallel.predict_generator(gen_test, verbose=1, \n",
    "                                            workers=multiprocessing.cpu_count()) for i in range(8)]\n",
    "\n",
    "y_pred = np.mean(y_preds, axis=0)\n",
    "y_pred2 = 1 - y_pred[:,0]\n",
    "plt.figure()\n",
    "plt.hist(y_pred2);\n",
    "\n",
    "# 排序法\n",
    "table = np.linspace(0.1, 0.9, num=y_pred2.shape[0])\n",
    "index = np.argsort(y_pred2)\n",
    "y_pred3 = np.zeros(y_pred2.shape)\n",
    "y_pred3[index] = table\n",
    "\n",
    "fname_model2 = fname_model[fname_model.rfind('/')+1:]\n",
    "with open(f'outs/pred_{fname_model2}_5.csv', 'w') as f:\n",
    "    f.write('filename,probability\\n')\n",
    "    for fname, value in zip(gen_test.filenames, y_pred3):\n",
    "        fname = fname[fname.rfind('/')+1:]\n",
    "        f.write(f'{fname},{value:.6f}\\n')"
   ]
  },
  {
   "cell_type": "code",
   "execution_count": 26,
   "metadata": {
    "ExecuteTime": {
     "end_time": "2018-08-03T14:26:05.599327Z",
     "start_time": "2018-08-03T14:26:05.555574Z"
    }
   },
   "outputs": [],
   "source": [
    "for i in range(len(y_preds)):\n",
    "    y_pred = np.mean(y_preds[:i+1] + y_preds2[:i+1], axis=0)\n",
    "    y_pred2 = 1 - y_pred[:,0]\n",
    "    \n",
    "    table = np.linspace(0.1, 0.9, num=y_pred2.shape[0])\n",
    "    index = np.argsort(y_pred2)\n",
    "    y_pred3 = np.zeros(y_pred2.shape)\n",
    "    y_pred3[index] = table\n",
    "    \n",
    "    with open(f'outs/ensemble_f2.5_f3_{i}.csv', 'w') as f:\n",
    "        f.write('filename,probability\\n')\n",
    "        for fname, value in zip(gen_test.filenames, y_pred3):\n",
    "            fname = fname[fname.rfind('/')+1:]\n",
    "            f.write(f'{fname},{value:.6f}\\n')"
   ]
  },
  {
   "cell_type": "code",
   "execution_count": null,
   "metadata": {},
   "outputs": [],
   "source": []
  }
 ],
 "metadata": {
  "kernelspec": {
   "display_name": "Python 3",
   "language": "python",
   "name": "python3"
  },
  "language_info": {
   "codemirror_mode": {
    "name": "ipython",
    "version": 3
   },
   "file_extension": ".py",
   "mimetype": "text/x-python",
   "name": "python",
   "nbconvert_exporter": "python",
   "pygments_lexer": "ipython3",
   "version": "3.6.5"
  }
 },
 "nbformat": 4,
 "nbformat_minor": 2
}
