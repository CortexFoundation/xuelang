{
 "cells": [
  {
   "cell_type": "code",
   "execution_count": null,
   "metadata": {
    "ExecuteTime": {
     "end_time": "2018-08-02T18:07:36.567838Z",
     "start_time": "2018-08-02T18:07:33.974075Z"
    }
   },
   "outputs": [],
   "source": [
    "from keras.models import *\n",
    "from keras.layers import *\n",
    "from keras.callbacks import *\n",
    "from keras.optimizers import *\n",
    "from keras.applications import *\n",
    "from keras.regularizers import *\n",
    "from keras.preprocessing.image import *\n",
    "from keras.utils.multi_gpu_utils import multi_gpu_model\n",
    "\n",
    "from IPython.display import SVG\n",
    "from keras.utils.vis_utils import model_to_dot, plot_model\n",
    "\n",
    "import time\n",
    "from glob import glob\n",
    "from tqdm import tqdm\n",
    "import numpy as np\n",
    "import os\n",
    "import cv2\n",
    "import matplotlib.pyplot as plt\n",
    "import matplotlib.image as mpimg\n",
    "\n",
    "from sklearn.metrics import *\n",
    "\n",
    "import multiprocessing\n",
    "from multiprocessing.dummy import Pool\n",
    "from pprint import pprint"
   ]
  },
  {
   "cell_type": "code",
   "execution_count": null,
   "metadata": {
    "ExecuteTime": {
     "end_time": "2018-08-01T15:35:42.970035Z",
     "start_time": "2018-08-01T15:35:41.782176Z"
    }
   },
   "outputs": [],
   "source": [
    "import horovod.keras as hvd\n",
    "from keras import backend as K\n",
    "\n",
    "hvd.init()\n",
    "config = tf.ConfigProto()\n",
    "config.gpu_options.allow_growth = True\n",
    "config.gpu_options.visible_device_list = str(hvd.local_rank())\n",
    "K.set_session(tf.Session(config=config))"
   ]
  },
  {
   "cell_type": "code",
   "execution_count": null,
   "metadata": {
    "ExecuteTime": {
     "end_time": "2018-08-01T15:35:42.984496Z",
     "start_time": "2018-08-01T15:35:42.975129Z"
    }
   },
   "outputs": [],
   "source": [
    "import argparse\n",
    "\n",
    "def str2bool(v):\n",
    "    if v.lower() in ('yes', 'true', 't', 'y', '1'):\n",
    "        return True\n",
    "    elif v.lower() in ('no', 'false', 'f', 'n', '0'):\n",
    "        return False\n",
    "    else:\n",
    "        raise argparse.ArgumentTypeError('Boolean value expected.')\n",
    "\n",
    "parser = argparse.ArgumentParser(description='training.', formatter_class=argparse.ArgumentDefaultsHelpFormatter)"
   ]
  },
  {
   "cell_type": "code",
   "execution_count": null,
   "metadata": {
    "ExecuteTime": {
     "end_time": "2018-08-01T15:35:44.452725Z",
     "start_time": "2018-08-01T15:35:44.446383Z"
    }
   },
   "outputs": [],
   "source": [
    "epochs = [50, 20]\n",
    "batch_size = 2\n",
    "model_name = 'irv2'\n",
    "preprocess_func = inception_resnet_v2.preprocess_input\n",
    "MODEL = InceptionResNetV2\n",
    "\n",
    "f = 2\n",
    "width = int(2560 / f)\n",
    "height = int(1920 / f)\n",
    "classes = ['正常', '吊经', '擦洞', '跳花', '毛洞', '织稀', '扎洞', '缺经', '毛斑', '其他']\n",
    "n_classes = len(classes)"
   ]
  },
  {
   "cell_type": "code",
   "execution_count": null,
   "metadata": {},
   "outputs": [],
   "source": [
    "parser.add_argument('--batch_size', default=2, type=int, help='batch_size')\n",
    "# parser.add_argument('--model_name', type=str, help='保存模型的文件名，不带.h5')\n",
    "parser.add_argument('--preprocess_func', default='inception_resnet_v2.preprocess_input', \n",
    "                    type=str, help='预处理函数')\n",
    "parser.add_argument('--MODEL', default='InceptionResNetV2', \n",
    "                    type=str, help='预训练模型')\n",
    "\n",
    "parser.add_argument('--f', default=2, type=float, help='缩放系数')\n",
    "parser.add_argument('--lr', default=1e-4, type=float, help='学习率')\n",
    "parser.add_argument('--epochs', default=[50, 30, 20], nargs='*', type=int, \n",
    "                    help='每一次的训练代数（用空格分隔），学习率按lr的0.1倍递减')\n",
    "parser.add_argument('--optimizer', default='Adam(lr)', type=str, help='优化器')\n",
    "parser.add_argument('--l2', default=1e-5, type=float, help='L2正则化')\n",
    "parser.add_argument('--balance_class_weight', default=False, type=str2bool, help='类别权重按比例给定')\n",
    "\n",
    "args = parser.parse_args()\n",
    "# if args.model_name == None:\n",
    "#     parser.print_help()\n",
    "#     exit()\n",
    "\n",
    "epochs = args.epochs\n",
    "batch_size = args.batch_size\n",
    "# model_name = args.model_name\n",
    "preprocess_func = eval(args.preprocess_func)\n",
    "MODEL = eval(args.MODEL)\n",
    "\n",
    "lr = args.lr\n",
    "f = args.f\n",
    "l2_rate = args.l2\n",
    "width = int(2560 / f)\n",
    "height = int(1920 / f)\n",
    "classes = ['正常', '吊经', '擦洞', '跳花', '毛洞', '织稀', '扎洞', '缺经', '毛斑', '其他']\n",
    "n_classes = len(classes)\n",
    "now = time.strftime('%m%d')\n",
    "model_name = f'{MODEL.__name__}_{now}_f{f}_reg{l2_rate}'\n",
    "\n",
    "if hvd.rank() == 0:\n",
    "    print('-'*80)\n",
    "    print('开始训练 %s 模型。' % model_name)\n",
    "    print(args)\n",
    "    print(width, height, n_classes)\n",
    "    print(classes)\n",
    "    print('-'*80)"
   ]
  },
  {
   "cell_type": "code",
   "execution_count": null,
   "metadata": {
    "ExecuteTime": {
     "end_time": "2018-08-01T15:35:48.195136Z",
     "start_time": "2018-08-01T15:35:47.798551Z"
    }
   },
   "outputs": [],
   "source": [
    "idg = ImageDataGenerator(horizontal_flip=True,\n",
    "                         rotation_range=15,\n",
    "                         zoom_range=0.2)\n",
    "idg2 = ImageDataGenerator()\n",
    "\n",
    "gen_train = idg.flow_from_directory('train', target_size=(height, width), \n",
    "                                    interpolation='lanczos', classes=classes, batch_size=batch_size)\n",
    "gen_valid = idg2.flow_from_directory('valid', target_size=(height, width), shuffle=False, \n",
    "                                     interpolation='lanczos', classes=classes, batch_size=batch_size)\n",
    "y_valid = (gen_valid.classes != 0).astype(int)\n",
    "y_train = gen_train.classes\n",
    "class_weights = None\n",
    "if args.balance_class_weight == True:\n",
    "    class_weight.compute_class_weight('balanced', np.unique(y_train), y_train)"
   ]
  },
  {
   "cell_type": "code",
   "execution_count": null,
   "metadata": {
    "ExecuteTime": {
     "end_time": "2018-07-20T08:01:19.091563Z",
     "start_time": "2018-07-20T08:01:19.082022Z"
    },
    "code_folding": []
   },
   "outputs": [],
   "source": [
    "class RocAucMetricCallback(Callback):\n",
    "    def __init__(self):\n",
    "        super(RocAucMetricCallback, self).__init__()\n",
    "\n",
    "    def on_epoch_end(self, epoch, logs={}):\n",
    "        y_pred = model.predict_generator(gen_valid, verbose=1, workers=multiprocessing.cpu_count())\n",
    "        y_pred2 = 1 - y_pred[:,0]\n",
    "        y_pred3 = 1 - (np.argmax(y_pred, axis=-1) == 0)\n",
    "        \n",
    "        auc = roc_auc_score(y_valid, y_pred2)\n",
    "        acc = accuracy_score(y_valid, y_pred3)\n",
    "        logs['val_auc'] = auc\n",
    "        logs['val_acc'] = acc\n",
    "        logs['lr'] = float(K.get_value(self.model.optimizer.lr))\n",
    "        print(f'ACC: {acc:.4f} AUC: {auc:.4f}')"
   ]
  },
  {
   "cell_type": "code",
   "execution_count": null,
   "metadata": {
    "ExecuteTime": {
     "end_time": "2018-07-31T09:01:16.637973Z",
     "start_time": "2018-07-31T09:01:03.472974Z"
    }
   },
   "outputs": [],
   "source": [
    "base_model = MODEL(input_shape=(height, width, 3), include_top=False, weights='imagenet')"
   ]
  },
  {
   "cell_type": "code",
   "execution_count": null,
   "metadata": {
    "ExecuteTime": {
     "end_time": "2018-07-31T09:01:20.134356Z",
     "start_time": "2018-07-31T09:01:16.641889Z"
    }
   },
   "outputs": [],
   "source": [
    "input_tensor = Input((height, width, 3))\n",
    "x = Lambda(preprocess_func)(input_tensor)\n",
    "x = base_model(x)\n",
    "x = GlobalAvgPool2D()(x)\n",
    "x = Dropout(0.5)(x)\n",
    "x = Dense(n_classes, activation='softmax')(x)\n",
    "model = Model(input_tensor, x)"
   ]
  },
  {
   "cell_type": "code",
   "execution_count": null,
   "metadata": {
    "ExecuteTime": {
     "end_time": "2018-07-31T09:14:58.449264Z",
     "start_time": "2018-07-31T09:14:58.438938Z"
    }
   },
   "outputs": [],
   "source": [
    "for layer in base_model.layers + model.layers:\n",
    "    if hasattr(layer, 'kernel_regularizer'):\n",
    "        print(layer)\n",
    "        layer.kernel_regularizer= l2(l2_rate)"
   ]
  },
  {
   "cell_type": "code",
   "execution_count": null,
   "metadata": {
    "ExecuteTime": {
     "end_time": "2018-07-30T16:54:01.364528Z",
     "start_time": "2018-07-30T16:54:01.285113Z"
    },
    "scrolled": false
   },
   "outputs": [],
   "source": [
    "plot_model(model, show_shapes=True, to_file=f'logs/plot_{model_name}.png')\n",
    "# SVG(model_to_dot(model, show_shapes=True).create(prog='dot', format='svg'))"
   ]
  },
  {
   "cell_type": "code",
   "execution_count": null,
   "metadata": {
    "ExecuteTime": {
     "end_time": "2018-07-20T06:38:22.299304Z",
     "start_time": "2018-07-20T06:38:19.474064Z"
    }
   },
   "outputs": [],
   "source": [
    "def train(start, end, lr, warmup=False):\n",
    "    opt = eval(args.optimizer)\n",
    "    opt = hvd.DistributedOptimizer(opt)\n",
    "\n",
    "    callbacks = [\n",
    "        hvd.callbacks.BroadcastGlobalVariablesCallback(0),\n",
    "        hvd.callbacks.MetricAverageCallback(),\n",
    "    ]\n",
    "    \n",
    "    if warmup:\n",
    "        callbacks.append(hvd.callbacks.LearningRateWarmupCallback(warmup_epochs=5, verbose=1))\n",
    "    \n",
    "    if hvd.rank() == 0:\n",
    "        callbacks.append(RocAucMetricCallback())\n",
    "        callbacks.append(ModelCheckpoint('models/%s-{lr:.6f}-{epoch}-{val_auc:.6f}.h5' % model_name, \n",
    "                                         save_weights_only=True))\n",
    "        callbacks.append(CSVLogger('logs/%s.csv' % model_name, append=True))\n",
    "#         callbacks.append(EarlyStopping(monitor='val_auc', patience=5, mode='max'))\n",
    "    \n",
    "    model.compile(optimizer=opt, \n",
    "              loss='categorical_crossentropy',\n",
    "              metrics=['accuracy'])\n",
    "\n",
    "    model.fit_generator(gen_train, steps_per_epoch=len(gen_train) // hvd.size(), \n",
    "                        workers=multiprocessing.cpu_count(), class_weight=class_weights, \n",
    "                        initial_epoch=start, epochs=end, callbacks=callbacks, verbose=int(hvd.rank() == 0))"
   ]
  },
  {
   "cell_type": "code",
   "execution_count": null,
   "metadata": {},
   "outputs": [],
   "source": [
    "start = 0\n",
    "for i, epochs in enumerate(args.epochs):\n",
    "    train(start, start + epochs, lr*0.1**i, warmup=i == 0)\n",
    "    start += epochs"
   ]
  },
  {
   "cell_type": "code",
   "execution_count": null,
   "metadata": {
    "ExecuteTime": {
     "start_time": "2018-07-19T09:02:38.360Z"
    },
    "scrolled": false
   },
   "outputs": [],
   "source": [
    "y_pred = model.predict_generator(gen_valid, verbose=1, workers=multiprocessing.cpu_count())\n",
    "y_pred2 = 1 - y_pred[:,0]\n",
    "y_pred3 = 1 - (np.argmax(y_pred, axis=-1) == 0)\n",
    "pprint(roc_auc_score(y_valid, y_pred2))\n",
    "pprint(accuracy_score(y_valid, y_pred3))\n",
    "pprint(confusion_matrix(y_valid > 0.5, y_pred3))"
   ]
  },
  {
   "cell_type": "code",
   "execution_count": null,
   "metadata": {},
   "outputs": [],
   "source": []
  }
 ],
 "metadata": {
  "kernelspec": {
   "display_name": "Python 3",
   "language": "python",
   "name": "python3"
  },
  "language_info": {
   "codemirror_mode": {
    "name": "ipython",
    "version": 3
   },
   "file_extension": ".py",
   "mimetype": "text/x-python",
   "name": "python",
   "nbconvert_exporter": "python",
   "pygments_lexer": "ipython3",
   "version": "3.6.5"
  }
 },
 "nbformat": 4,
 "nbformat_minor": 2
}
