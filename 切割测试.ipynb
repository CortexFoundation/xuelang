{
 "cells": [
  {
   "cell_type": "code",
   "execution_count": 1,
   "metadata": {},
   "outputs": [],
   "source": [
    "import cv2\n",
    "import matplotlib.pyplot as plt\n",
    "\n",
    "import xml.etree.ElementTree as ET\n",
    "from glob import glob\n",
    "from tqdm import tqdm\n",
    "import shutil\n",
    "import os\n",
    "\n",
    "import multiprocessing\n",
    "from multiprocessing.dummy import Pool\n",
    "\n",
    "\n",
    "%matplotlib inline\n",
    "\n",
    "# 图片展示函数\n",
    "def show(img):\n",
    "    plt.imshow(img[:,:,::-1])"
   ]
  },
  {
   "cell_type": "code",
   "execution_count": 2,
   "metadata": {},
   "outputs": [
    {
     "name": "stderr",
     "output_type": "stream",
     "text": [
      "100%|██████████| 74/74 [00:00<00:00, 1443.37it/s]\n",
      "100%|██████████| 1333/1333 [00:03<00:00, 377.56it/s]\n",
      "100%|██████████| 615/615 [00:01<00:00, 405.14it/s]\n"
     ]
    }
   ],
   "source": [
    "newpath = 'abnormal_with_xml' \n",
    "if not os.path.exists(newpath):\n",
    "    os.makedirs(newpath)\n",
    "    \n",
    "folder_names = ['../xuelang_round1_train_part1_20180628',\n",
    "               '../xuelang_round1_train_part2_20180705',\n",
    "               '../xuelang_round1_train_part3_20180709']\n",
    "\n",
    "for folder_name in folder_names:\n",
    "    with tqdm(glob(f'{folder_name}/*/*.jpg')) as pbar:\n",
    "        for fname in pbar:\n",
    "            if '正常' in fname:\n",
    "                continue\n",
    "            else:\n",
    "                xml_fname = fname.replace('.jpg', '.xml')\n",
    "                shutil.copy(fname, 'abnormal_with_xml' )\n",
    "                shutil.copy(xml_fname, 'abnormal_with_xml' )"
   ]
  },
  {
   "cell_type": "code",
   "execution_count": 4,
   "metadata": {},
   "outputs": [],
   "source": [
    "def crop(fname):\n",
    "    size = 256\n",
    "    half_size = size/2\n",
    "    xml_fname = fname.replace('.jpg', '.xml')\n",
    "    tree = ET.parse(xml_fname)\n",
    "    img_fname = fname[fname.rfind('/')+1:].replace('.jpg', '')\n",
    "    img = cv2.imread(fname)\n",
    "    height, width, _ = img.shape\n",
    "    for i, ob in enumerate(tree.findall('object')):\n",
    "        bbox = ob.find('bndbox')\n",
    "        tagname = ob.find('name').text\n",
    "        x1, y1, x2, y2 = [int(x.text) for x in bbox.getchildren()]\n",
    "        center_x = (x2 - x1)/2 + x1\n",
    "        center_y = (y2 - y1)/2 + y1\n",
    "    \n",
    "        new_x1 = int(center_x - half_size)\n",
    "        new_x2 = int(center_x + half_size)\n",
    "        new_y1 = int(center_y - half_size)\n",
    "        new_y2 = int(center_y + half_size)\n",
    "        \n",
    "        if new_x1 < 0:\n",
    "            new_x1 = 0\n",
    "            new_x2 = size\n",
    "        \n",
    "        if new_x2 > width:\n",
    "            new_x1 = width - size\n",
    "            new_x2 = width\n",
    "        \n",
    "        if new_y1 < 0:\n",
    "            new_y1 = 0\n",
    "            new_y2 = size\n",
    "        \n",
    "        if new_y2 > height:\n",
    "            new_y1 = height - size\n",
    "            new_y2 = height\n",
    "        \n",
    "        crop_img = img[new_y1:new_y2, new_x1:new_x2]\n",
    "        if crop_img.shape[0] != 256 or crop_img.shape[1] != 256:\n",
    "            print(fname, crop_img.shape, new_x1, new_y1, new_x2, new_y2)\n",
    "        cv2.imwrite(f'abnormal_crop/{img_fname}_{i}.png', crop_img)"
   ]
  },
  {
   "cell_type": "code",
   "execution_count": 5,
   "metadata": {},
   "outputs": [],
   "source": [
    "fname_test = 'abnormal_with_xml/J01_2018.06.19 15_45_28.jpg'\n",
    "crop(fname_test)"
   ]
  },
  {
   "cell_type": "code",
   "execution_count": 7,
   "metadata": {},
   "outputs": [],
   "source": [
    "!rm -rf abnormal_crop\n",
    "!mkdir abnormal_crop"
   ]
  },
  {
   "cell_type": "code",
   "execution_count": 8,
   "metadata": {},
   "outputs": [
    {
     "name": "stderr",
     "output_type": "stream",
     "text": [
      "100%|██████████| 706/706 [00:05<00:00, 137.30it/s]\n"
     ]
    }
   ],
   "source": [
    "fnames = glob('abnormal_with_xml/*.jpg')\n",
    "with Pool(multiprocessing.cpu_count()) as pool:\n",
    "    with tqdm(pool.imap_unordered(crop, fnames), total=len(fnames)) as pbar:\n",
    "        for _ in pbar:\n",
    "            pass"
   ]
  },
  {
   "cell_type": "code",
   "execution_count": null,
   "metadata": {
    "collapsed": true
   },
   "outputs": [],
   "source": []
  }
 ],
 "metadata": {
  "kernelspec": {
   "display_name": "Python 3",
   "language": "python",
   "name": "python3"
  },
  "language_info": {
   "codemirror_mode": {
    "name": "ipython",
    "version": 3
   },
   "file_extension": ".py",
   "mimetype": "text/x-python",
   "name": "python",
   "nbconvert_exporter": "python",
   "pygments_lexer": "ipython3",
   "version": "3.6.5"
  }
 },
 "nbformat": 4,
 "nbformat_minor": 2
}
