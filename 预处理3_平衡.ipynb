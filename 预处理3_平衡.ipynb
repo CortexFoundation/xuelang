{
 "cells": [
  {
   "cell_type": "markdown",
   "metadata": {},
   "source": [
    "# 统计类别分布"
   ]
  },
  {
   "cell_type": "code",
   "execution_count": 1,
   "metadata": {
    "ExecuteTime": {
     "end_time": "2018-07-24T05:08:00.128299Z",
     "start_time": "2018-07-24T05:07:59.833787Z"
    }
   },
   "outputs": [],
   "source": [
    "from tqdm import tqdm\n",
    "from glob import glob\n",
    "import numpy as np\n",
    "from sklearn.model_selection import train_test_split\n",
    "import shutil\n",
    "import os\n",
    "from collections import Counter, defaultdict\n",
    "from pprint import pprint"
   ]
  },
  {
   "cell_type": "code",
   "execution_count": 2,
   "metadata": {
    "ExecuteTime": {
     "end_time": "2018-07-24T05:08:00.144852Z",
     "start_time": "2018-07-24T05:08:00.129969Z"
    }
   },
   "outputs": [],
   "source": [
    "labels = [x.split('/')[-2] for x in glob('/home/ypw/data/xuelang/xuelang_round1_train*/*/*.jpg')]"
   ]
  },
  {
   "cell_type": "code",
   "execution_count": 3,
   "metadata": {
    "ExecuteTime": {
     "end_time": "2018-07-24T05:08:00.150197Z",
     "start_time": "2018-07-24T05:08:00.146222Z"
    }
   },
   "outputs": [
    {
     "name": "stdout",
     "output_type": "stream",
     "text": [
      "['正常', '吊经', '擦洞', '跳花', '毛洞', '织稀', '扎洞', '缺经', '毛斑', '其他']\n"
     ]
    }
   ],
   "source": [
    "counter = Counter(labels)\n",
    "counter = counter.most_common()\n",
    "# pprint(counter)\n",
    "\n",
    "classes = [x[0] for x in counter if x[1] > 30]\n",
    "classes.append('其他')\n",
    "pprint(classes)"
   ]
  },
  {
   "cell_type": "markdown",
   "metadata": {
    "ExecuteTime": {
     "end_time": "2018-07-20T06:31:22.825798Z",
     "start_time": "2018-07-20T06:31:22.818434Z"
    }
   },
   "source": [
    "# 创建符号链接"
   ]
  },
  {
   "cell_type": "code",
   "execution_count": 4,
   "metadata": {
    "ExecuteTime": {
     "end_time": "2018-07-24T05:08:00.157220Z",
     "start_time": "2018-07-24T05:08:00.152194Z"
    }
   },
   "outputs": [],
   "source": [
    "def make_symlinks(fnames, path):\n",
    "    with tqdm(fnames) as pbar:\n",
    "        for fname in pbar:\n",
    "            img_fname = fname.split('/')[-1]\n",
    "            label = fname.split('/')[-2]\n",
    "            if label not in classes:\n",
    "                label = '其他'\n",
    "            os.symlink(fname, f'{path}/{label}/{img_fname}')"
   ]
  },
  {
   "cell_type": "code",
   "execution_count": 5,
   "metadata": {
    "ExecuteTime": {
     "end_time": "2018-07-24T05:08:00.164310Z",
     "start_time": "2018-07-24T05:08:00.159754Z"
    }
   },
   "outputs": [],
   "source": [
    "def get_class_fname_dict(fnames):\n",
    "    class_fname_dict = defaultdict(list)\n",
    "    for fname in fnames:\n",
    "        label = fname.split('/')[-2]\n",
    "        if label not in classes:\n",
    "            label = '其他'\n",
    "        class_fname_dict[label].append(fname)\n",
    "    return class_fname_dict"
   ]
  },
  {
   "cell_type": "code",
   "execution_count": 6,
   "metadata": {
    "ExecuteTime": {
     "end_time": "2018-07-24T05:08:00.172847Z",
     "start_time": "2018-07-24T05:08:00.167096Z"
    }
   },
   "outputs": [],
   "source": [
    "def balance_make_symlinks(fnames, path):\n",
    "    class_fname_dict = get_class_fname_dict(fnames)\n",
    "    target_num = max([len(class_fname_dict[x]) for x in class_fname_dict])\n",
    "    for label, fnames in class_fname_dict.items():\n",
    "        n = len(fnames)\n",
    "        for i in range(target_num):\n",
    "            fname = fnames[i % n]\n",
    "            img_fname = fname.split('/')[-1]\n",
    "            os.symlink(fname, f'{path}/{label}/{i}_{img_fname}')"
   ]
  },
  {
   "cell_type": "code",
   "execution_count": 7,
   "metadata": {
    "ExecuteTime": {
     "end_time": "2018-07-24T05:08:00.337134Z",
     "start_time": "2018-07-24T05:08:00.175394Z"
    }
   },
   "outputs": [],
   "source": [
    "!rm -rf train valid\n",
    "\n",
    "for c in classes:\n",
    "    os.makedirs(f'train/{c}')\n",
    "    os.makedirs(f'valid/{c}')"
   ]
  },
  {
   "cell_type": "code",
   "execution_count": 8,
   "metadata": {
    "ExecuteTime": {
     "end_time": "2018-07-24T05:08:00.625193Z",
     "start_time": "2018-07-24T05:08:00.340833Z"
    }
   },
   "outputs": [
    {
     "name": "stderr",
     "output_type": "stream",
     "text": [
      "100%|██████████| 203/203 [00:00<00:00, 48645.59it/s]\n"
     ]
    }
   ],
   "source": [
    "fnames = glob('/home/ypw/data/xuelang/xuelang_round1_train*/*/*.jpg')\n",
    "train, valid = train_test_split(fnames, test_size=0.1)\n",
    "balance_make_symlinks(train, 'train')\n",
    "make_symlinks(valid, 'valid')"
   ]
  },
  {
   "cell_type": "markdown",
   "metadata": {},
   "source": [
    "# 查看生成的文件"
   ]
  },
  {
   "cell_type": "code",
   "execution_count": 9,
   "metadata": {
    "ExecuteTime": {
     "end_time": "2018-07-24T05:08:00.709079Z",
     "start_time": "2018-07-24T05:08:00.627993Z"
    }
   },
   "outputs": [
    {
     "data": {
      "text/plain": [
       "[('毛洞', 1191),\n",
       " ('正常', 1191),\n",
       " ('织稀', 1191),\n",
       " ('其他', 1191),\n",
       " ('毛斑', 1191),\n",
       " ('跳花', 1191),\n",
       " ('扎洞', 1191),\n",
       " ('擦洞', 1191),\n",
       " ('吊经', 1191),\n",
       " ('缺经', 1191)]"
      ]
     },
     "execution_count": 9,
     "metadata": {},
     "output_type": "execute_result"
    }
   ],
   "source": [
    "labels = [x.split('/')[-2] for x in glob('train/*/*.jpg')]\n",
    "counter = Counter(labels)\n",
    "counter = counter.most_common()\n",
    "counter"
   ]
  },
  {
   "cell_type": "code",
   "execution_count": 10,
   "metadata": {
    "ExecuteTime": {
     "end_time": "2018-07-24T05:08:00.717093Z",
     "start_time": "2018-07-24T05:08:00.710459Z"
    }
   },
   "outputs": [
    {
     "data": {
      "text/plain": [
       "[('正常', 125),\n",
       " ('吊经', 21),\n",
       " ('其他', 11),\n",
       " ('擦洞', 10),\n",
       " ('跳花', 8),\n",
       " ('毛洞', 7),\n",
       " ('扎洞', 7),\n",
       " ('缺经', 7),\n",
       " ('织稀', 6),\n",
       " ('毛斑', 1)]"
      ]
     },
     "execution_count": 10,
     "metadata": {},
     "output_type": "execute_result"
    }
   ],
   "source": [
    "labels = [x.split('/')[-2] for x in glob('valid/*/*.jpg')]\n",
    "counter = Counter(labels)\n",
    "counter = counter.most_common()\n",
    "counter"
   ]
  },
  {
   "cell_type": "code",
   "execution_count": null,
   "metadata": {},
   "outputs": [],
   "source": []
  }
 ],
 "metadata": {
  "kernelspec": {
   "display_name": "Python 3",
   "language": "python",
   "name": "python3"
  },
  "language_info": {
   "codemirror_mode": {
    "name": "ipython",
    "version": 3
   },
   "file_extension": ".py",
   "mimetype": "text/x-python",
   "name": "python",
   "nbconvert_exporter": "python",
   "pygments_lexer": "ipython3",
   "version": "3.6.5"
  }
 },
 "nbformat": 4,
 "nbformat_minor": 2
}
